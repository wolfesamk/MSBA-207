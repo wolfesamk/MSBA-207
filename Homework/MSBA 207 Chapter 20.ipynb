{
 "cells": [
  {
   "cell_type": "markdown",
   "metadata": {},
   "source": [
    "##### <p> Samuel Wolfe <br> December 2, 2023 <br> MSBA 207 <br> Chapter 20 </p>"
   ]
  },
  {
   "cell_type": "code",
   "execution_count": 62,
   "metadata": {},
   "outputs": [],
   "source": [
    "%matplotlib inline\n",
    "\n",
    "from pathlib import Path\n",
    "\n",
    "from zipfile import ZipFile\n",
    "import pandas as pd\n",
    "from sklearn.model_selection import train_test_split\n",
    "from sklearn.feature_extraction.text import CountVectorizer\n",
    "from sklearn.feature_extraction.text import TfidfTransformer\n",
    "# from sklearn.feature_extraction.stop_words import ENGLISH_STOP_WORDS\n",
    "from sklearn.feature_extraction import _stop_words\n",
    "from sklearn.decomposition import TruncatedSVD\n",
    "from sklearn.preprocessing import Normalizer\n",
    "from sklearn.pipeline import make_pipeline\n",
    "from sklearn.linear_model import LogisticRegression\n",
    "import nltk\n",
    "from nltk import word_tokenize          \n",
    "from nltk.stem.snowball import EnglishStemmer \n",
    "import matplotlib.pylab as plt\n",
    "from dmba import printTermDocumentMatrix, classificationSummary, liftChart\n",
    "\n",
    "# nltk.download('punkt')"
   ]
  },
  {
   "cell_type": "code",
   "execution_count": 29,
   "metadata": {},
   "outputs": [],
   "source": [
    "# Working directory:\n",
    "#\n",
    "# We assume that data are kept in the same directory as the notebook. If you keep your \n",
    "# data in a different folder, replace the argument of the `Path`\n",
    "DATA = Path('E:/Aliit/School/MSBA/206/MSBA-206/dmba')\n",
    "#DATA = Path('C:/Users/Min Li/OneDrive/teaching/DS110/dmba')\n",
    "# and then load data using \n",
    "#\n",
    "# pd.read_csv(DATA / ‘filename.csv’)\n",
    "# Load and preprocess data set "
   ]
  },
  {
   "cell_type": "markdown",
   "metadata": {},
   "source": [
    "## Problem 20.1"
   ]
  },
  {
   "cell_type": "markdown",
   "metadata": {},
   "source": [
    "Tokenization. Consider the following text version of a post to<br>\n",
    "an online learning forum in a statistics course:"
   ]
  },
  {
   "cell_type": "markdown",
   "metadata": {},
   "source": [
    "Thanks John!\\<br />\\<br />\\<font size=”3”>\n",
    "\\&quot;Illustrations and demos will be\n",
    "provided for students to work through on\n",
    "their own\\&quot;\\</font>.\n",
    "Do we need that to finish project? If yes,\n",
    "where to find the illustration and demos?\n",
    "Thanks for your help.\\<img title=”smile”\n",
    "alt=”smile” src=”\\url{http://lms.statistics.\n",
    "com/pix/smartpix.php/statistics_com_1/s/smil\n",
    "ey.gif}” >\\<br /> \\<br />"
   ]
  },
  {
   "cell_type": "markdown",
   "metadata": {},
   "source": [
    "20.1.a Identify 10 non-word tokens in the passage.<br><br>\n",
    "Thanks John`!<br /> <br /><font size=”3”>`<br>\n",
    "`&quot;`Illustrations and demos will be<br>\n",
    "provided for students to work through on<br>\n",
    "their own`&quot;</font>.`<br>\n",
    "Do we need that to finish project`?` If yes`,`<br>\n",
    "where to find the illustration and demos`?`<br>\n",
    "Thanks for your help`.<img title=”smile”`<br>\n",
    "`alt=”smile” src=”url{http://lms.statistics.`<br>\n",
    "`com/pix/smartpix.php/statistics_com_1/s/smil`<br>\n",
    "`ey.gif}”><br /><br />`<br><br>\n",
    "All the highlighted text are non-word tokens"
   ]
  },
  {
   "cell_type": "markdown",
   "metadata": {},
   "source": [
    "20.1.b Suppose this passage constitutes a document to be<br>\n",
    "classified, but you are not certain of the business goal of the<br>\n",
    "classification task. Identify material (at least 20% of the<br>\n",
    "terms) that, in your judgment, could be discarded fairly<br>\n",
    "safely without knowing that goal.<br><br>\n",
    "With 36 words, to achieve 20% I need to select 8 words.<br><br>\n",
    "`Thanks` `John` Illustrations `and` demos `will` `be` provided `for` students<br>\n",
    "`to` work `through` `on` `their` own `Do` `we` need `that` `to` finish project `If` yes<br>\n",
    "where `to` find `the` illustration `and` demos `Thanks` `for` `your` help<br><br>\n",
    "The highlighted words are my selected words."
   ]
  },
  {
   "cell_type": "markdown",
   "metadata": {},
   "source": [
    "20.1.c Suppose the classification task is to predict whether this<br>\n",
    "post requires the attention of the instructor, or whether a<br>\n",
    "teaching assistant might suffice. Identify the 20% of the<br>\n",
    "terms that you think might be most helpful in that task.<br><br>\n",
    "With 36 words, to achieve 20% I need to select 8 words.<br><br>\n",
    "`Thanks` John Illustrations `and` demos `will` `be` provided `for` students<br>\n",
    "`to` work `through` `on` `their` own Do we need `that` `to` finish project `If` yes<br>\n",
    "where `to` find `the` illustration `and` demos `Thanks` `for` `your` help<br><br>\n",
    "The non-highlighted words are my selected words."
   ]
  },
  {
   "cell_type": "markdown",
   "metadata": {},
   "source": [
    "20.1.d What aspect of the passage is most problematic from the<br>\n",
    "standpoint of simply using a bag-of-words approach, as<br>\n",
    "opposed to an approach in which meaning is extracted?<br><br>\n",
    "When looking at the passage the most problematic part from the standpoint<br>\n",
    "of simply using a bag-of-words approach is there is context to the order of<br>\n",
    "the words that we lose if we just select words at random.<br>\n",
    "If we look at it from a meaning standpoint, we can see that the first sentence is<br>\n",
    "addressing an original question from John back to John. This implies the answer<br>\n",
    "there is more context to be gained from looking at the passage as a whole rather than<br>\n",
    "clusters of words."
   ]
  },
  {
   "cell_type": "markdown",
   "metadata": {},
   "source": [
    "## Problem 20.2"
   ]
  },
  {
   "cell_type": "markdown",
   "metadata": {},
   "source": [
    "Classifying Internet Discussion Posts. In this problem,<br>\n",
    "you will use the data and scenario described in this chapter’s<br>\n",
    "example, in which the task is to develop a model to classify<br>\n",
    "documents as either auto-related or electronics-related.<br>"
   ]
  },
  {
   "cell_type": "markdown",
   "metadata": {},
   "source": [
    "20.2.a Load the zipped file into Python and create a label vector."
   ]
  },
  {
   "cell_type": "code",
   "execution_count": 30,
   "metadata": {},
   "outputs": [],
   "source": [
    "corpus = []\n",
    "label = []\n",
    "with ZipFile(DATA / 'AutoAndElectronics.zip') as rawData:\n",
    "    for info in rawData.infolist():\n",
    "        if info.is_dir(): \n",
    "            continue\n",
    "        label.append(1 if 'rec.autos' in info.filename else 0)\n",
    "        corpus.append(rawData.read(info))\n",
    "\n",
    "\n",
    "\n",
    "preprocessor = CountVectorizer(encoding='latin1')\n",
    "preprocessedText = preprocessor.fit_transform(corpus)\n",
    "\n",
    "tfidfTransformer = TfidfTransformer()\n",
    "tfidf = tfidfTransformer.fit_transform(preprocessedText)"
   ]
  },
  {
   "cell_type": "markdown",
   "metadata": {},
   "source": [
    "20.2.c Use the LSA to create 10 concepts. Explain what is different<br>\n",
    "about the concept matrix, as opposed to the TF-IDF matrix.<br>"
   ]
  },
  {
   "cell_type": "code",
   "execution_count": 31,
   "metadata": {},
   "outputs": [],
   "source": [
    "svd = TruncatedSVD(20)\n",
    "normalizer = Normalizer(copy=False)\n",
    "lsa = make_pipeline(svd, normalizer)\n",
    "\n",
    "lsa_tfidf = lsa.fit_transform(tfidf)"
   ]
  },
  {
   "cell_type": "markdown",
   "metadata": {},
   "source": [
    "With TF-IDF matrices we get term frequency representation that are<br>\n",
    "adjusted by the inverse of their document frequencies. This helps show<br>\n",
    "how important certain words are across all entries put into the matrix."
   ]
  },
  {
   "cell_type": "markdown",
   "metadata": {},
   "source": [
    "20.2.d Using this matrix, fit a predictive model (different from the<br>\n",
    "model presented in the chapter illustration) to classify<br>\n",
    "documents as autos or electronics. Compare its<br>\n",
    "performance to that of the model presented in the chapter<br>\n",
    "illustration.<br>"
   ]
  },
  {
   "cell_type": "code",
   "execution_count": 32,
   "metadata": {},
   "outputs": [
    {
     "name": "stdout",
     "output_type": "stream",
     "text": [
      "Confusion Matrix (Accuracy 0.9620)\n",
      "\n",
      "       Prediction\n",
      "Actual   0   1\n",
      "     0 958  42\n",
      "     1  34 966\n",
      "Confusion Matrix (Accuracy 0.9563)\n",
      "\n",
      "       Prediction\n",
      "Actual   0   1\n",
      "     0 380  17\n",
      "     1  18 385\n"
     ]
    },
    {
     "data": {
      "image/png": "[encoded data removed]",
      "text/plain": [
       "<Figure size 640x480 with 1 Axes>"
      ]
     },
     "metadata": {},
     "output_type": "display_data"
    }
   ],
   "source": [
    "logit_reg = LogisticRegression(solver='lbfgs')\n",
    "logit_reg.fit(lsa_tfidf, label)\n",
    "classificationSummary(label, logit_reg.predict(lsa_tfidf))\n",
    "\n",
    "# split dataset into 60% training and 40% test set\n",
    "Xtrain, Xtest, ytrain, ytest = train_test_split(lsa_tfidf, label, test_size=0.4, random_state=1)\n",
    "\n",
    "# run logistic regression model on training\n",
    "logit_reg = LogisticRegression(solver='lbfgs')\n",
    "logit_reg.fit(Xtrain, ytrain)\n",
    "\n",
    "# print confusion matrix and accuracty\n",
    "classificationSummary(ytest, logit_reg.predict(Xtest))\n",
    "\n",
    "df = pd.DataFrame(data={'prob': [p[1] for p in logit_reg.predict_proba(Xtest)], 'actual': ytest})\n",
    "df = df.sort_values(by=['prob'], ascending=False).reset_index(drop=True)\n",
    "\n",
    "ax = liftChart(df.actual, labelBars=True)\n",
    "\n",
    "plt.tight_layout()\n",
    "plt.show()"
   ]
  },
  {
   "cell_type": "code",
   "execution_count": 33,
   "metadata": {},
   "outputs": [
    {
     "name": "stdout",
     "output_type": "stream",
     "text": [
      "Confusion Matrix (Accuracy 0.9495)\n",
      "\n",
      "       Prediction\n",
      "Actual   0   1\n",
      "     0 948  52\n",
      "     1  49 951\n",
      "Confusion Matrix (Accuracy 0.9413)\n",
      "\n",
      "       Prediction\n",
      "Actual   0   1\n",
      "     0 373  24\n",
      "     1  23 380\n"
     ]
    },
    {
     "data": {
      "image/png": "[encoded data removed]",
      "text/plain": [
       "<Figure size 640x480 with 1 Axes>"
      ]
     },
     "metadata": {},
     "output_type": "display_data"
    }
   ],
   "source": [
    "svd = TruncatedSVD(10)\n",
    "normalizer = Normalizer(copy=False)\n",
    "lsa = make_pipeline(svd, normalizer)\n",
    "\n",
    "lsa_tfidf = lsa.fit_transform(tfidf)\n",
    "logit_reg = LogisticRegression(solver='lbfgs')\n",
    "logit_reg.fit(lsa_tfidf, label)\n",
    "classificationSummary(label, logit_reg.predict(lsa_tfidf))\n",
    "# split dataset into 60% training and 40% test set\n",
    "Xtrain, Xtest, ytrain, ytest = train_test_split(lsa_tfidf, label, test_size=0.4, random_state=1)\n",
    "\n",
    "# run logistic regression model on training\n",
    "logit_reg = LogisticRegression(solver='lbfgs')\n",
    "logit_reg.fit(Xtrain, ytrain)\n",
    "\n",
    "# print confusion matrix and accuracty\n",
    "classificationSummary(ytest, logit_reg.predict(Xtest))\n",
    "df = pd.DataFrame(data={'prob': [p[1] for p in logit_reg.predict_proba(Xtest)], 'actual': ytest})\n",
    "df = df.sort_values(by=['prob'], ascending=False).reset_index(drop=True)\n",
    "\n",
    "ax = liftChart(df.actual, labelBars=True)\n",
    "\n",
    "plt.tight_layout()\n",
    "plt.show()"
   ]
  },
  {
   "cell_type": "markdown",
   "metadata": {},
   "source": [
    "Looking at this model vs the example in the book, my model is less accurate. This is likely due to us using fewer concepts for our LSA. Using a Decile Lift Chart we see there is some gain in the 30% decile, but that was traded with the 40%. We the see loss in the 50% decile that appears to be more spread out in the 70%+."
   ]
  },
  {
   "cell_type": "markdown",
   "metadata": {},
   "source": [
    "## Problem 20.3"
   ]
  },
  {
   "cell_type": "markdown",
   "metadata": {},
   "source": [
    "Classifying Classified Ads Submitted Online. Consider<br>\n",
    "the case of a website that caters to the needs of a specific<br>\n",
    "farming community, and carries classified ads intended for that<br>\n",
    "community. Anyone, including robots, can post an ad via a web<br>\n",
    "interface, and the site owners have problems with ads that are<br>\n",
    "fraudulent, spam, or simply not relevant to the community.<br>\n",
    "They have provided a file with 4143 ads, each ad in a row, and<br>\n",
    "each ad labeled as either − 1 (not relevant) or 1 (relevant). The<br>\n",
    "goal is to develop a predictive model that can classify ads<br>\n",
    "automatically.<br><br>\n",
    "Open the file farm-ads.csv, and briefly review some of the<br>\n",
    "relevant and non-relevant ads to get a flavor for their<br>\n",
    "contents.<br><br>\n",
    "Following the example in the chapter, preprocess the data<br>\n",
    "in Python, and create a term-document matrix, and a<br>\n",
    "concept matrix. Limit the number of concepts to 20.<br>"
   ]
  },
  {
   "cell_type": "code",
   "execution_count": 46,
   "metadata": {},
   "outputs": [],
   "source": [
    "df_farm = pd.read_csv(DATA / 'farm-ads.csv',names=['value','advert'])"
   ]
  },
  {
   "cell_type": "code",
   "execution_count": 55,
   "metadata": {},
   "outputs": [],
   "source": [
    "advert = df_farm['advert']\n",
    "value = df_farm['value']"
   ]
  },
  {
   "cell_type": "code",
   "execution_count": 57,
   "metadata": {},
   "outputs": [
    {
     "data": {
      "text/plain": [
       "0     ad-abdominal ad-aortic ad-aneurysm ad-doctorf...\n",
       "1     ad-abdominal ad-aortic ad-aneurysm ad-million...\n",
       "2     ad-absorbent ad-oil ad-snar ad-factory ad-dir...\n",
       "Name: advert, dtype: object"
      ]
     },
     "execution_count": 57,
     "metadata": {},
     "output_type": "execute_result"
    }
   ],
   "source": [
    "advert.head(3)"
   ]
  },
  {
   "cell_type": "code",
   "execution_count": 71,
   "metadata": {},
   "outputs": [
    {
     "name": "stdout",
     "output_type": "stream",
     "text": [
      "                   S1        S2   S3   S4   S5   S6   S7   S8   S9  S10  ...  \\\n",
      "aa           0.000000  0.000000  0.0  0.0  0.0  0.0  0.0  0.0  0.0  0.0  ...   \n",
      "aaa          7.383265  7.383265  0.0  0.0  0.0  0.0  0.0  0.0  0.0  0.0  ...   \n",
      "aaaa         0.000000  0.000000  0.0  0.0  0.0  0.0  0.0  0.0  0.0  0.0  ...   \n",
      "aaaaa        0.000000  0.000000  0.0  0.0  0.0  0.0  0.0  0.0  0.0  0.0  ...   \n",
      "aaaaaaaaaew  0.000000  0.000000  0.0  0.0  0.0  0.0  0.0  0.0  0.0  0.0  ...   \n",
      "...               ...       ...  ...  ...  ...  ...  ...  ...  ...  ...  ...   \n",
      "zydeco       0.000000  0.000000  0.0  0.0  0.0  0.0  0.0  0.0  0.0  0.0  ...   \n",
      "zyla         0.000000  0.000000  0.0  0.0  0.0  0.0  0.0  0.0  0.0  0.0  ...   \n",
      "zymosine     0.000000  0.000000  0.0  0.0  0.0  0.0  0.0  0.0  0.0  0.0  ...   \n",
      "zyrtec       0.000000  0.000000  0.0  0.0  0.0  0.0  0.0  0.0  0.0  0.0  ...   \n",
      "zzay         0.000000  0.000000  0.0  0.0  0.0  0.0  0.0  0.0  0.0  0.0  ...   \n",
      "\n",
      "             S4134  S4135  S4136  S4137  S4138  S4139  S4140  S4141  S4142  \\\n",
      "aa             0.0    0.0    0.0    0.0    0.0    0.0    0.0    0.0    0.0   \n",
      "aaa            0.0    0.0    0.0    0.0    0.0    0.0    0.0    0.0    0.0   \n",
      "aaaa           0.0    0.0    0.0    0.0    0.0    0.0    0.0    0.0    0.0   \n",
      "aaaaa          0.0    0.0    0.0    0.0    0.0    0.0    0.0    0.0    0.0   \n",
      "aaaaaaaaaew    0.0    0.0    0.0    0.0    0.0    0.0    0.0    0.0    0.0   \n",
      "...            ...    ...    ...    ...    ...    ...    ...    ...    ...   \n",
      "zydeco         0.0    0.0    0.0    0.0    0.0    0.0    0.0    0.0    0.0   \n",
      "zyla           0.0    0.0    0.0    0.0    0.0    0.0    0.0    0.0    0.0   \n",
      "zymosine       0.0    0.0    0.0    0.0    0.0    0.0    0.0    0.0    0.0   \n",
      "zyrtec         0.0    0.0    0.0    0.0    0.0    0.0    0.0    0.0    0.0   \n",
      "zzay           0.0    0.0    0.0    0.0    0.0    0.0    0.0    0.0    0.0   \n",
      "\n",
      "             S4143  \n",
      "aa             0.0  \n",
      "aaa            0.0  \n",
      "aaaa           0.0  \n",
      "aaaaa          0.0  \n",
      "aaaaaaaaaew    0.0  \n",
      "...            ...  \n",
      "zydeco         0.0  \n",
      "zyla           0.0  \n",
      "zymosine       0.0  \n",
      "zyrtec         0.0  \n",
      "zzay           0.0  \n",
      "\n",
      "[47513 rows x 4143 columns]\n"
     ]
    }
   ],
   "source": [
    "# Apply CountVectorizer and TfidfTransformer sequentially\n",
    "count_vect = CountVectorizer(encoding='latin1')\n",
    "tfidfTransformer = TfidfTransformer(smooth_idf=False, norm=None)\n",
    "# https://scikit-learn.org/stable/modules/generated/sklearn.feature_extraction.text.TfidfTransformer.html\n",
    "counts = count_vect.fit_transform(advert)\n",
    "tfidf = tfidfTransformer.fit_transform(counts)\n",
    "\n",
    "printTermDocumentMatrix(count_vect, tfidf)"
   ]
  },
  {
   "cell_type": "code",
   "execution_count": 75,
   "metadata": {},
   "outputs": [
    {
     "name": "stdout",
     "output_type": "stream",
     "text": [
      "                   S1        S2   S3   S4   S5   S6   S7   S8   S9  S10  ...  \\\n",
      "aa           0.000000  0.000000  0.0  0.0  0.0  0.0  0.0  0.0  0.0  0.0  ...   \n",
      "aaa          7.383265  7.383265  0.0  0.0  0.0  0.0  0.0  0.0  0.0  0.0  ...   \n",
      "aaaa         0.000000  0.000000  0.0  0.0  0.0  0.0  0.0  0.0  0.0  0.0  ...   \n",
      "aaaaa        0.000000  0.000000  0.0  0.0  0.0  0.0  0.0  0.0  0.0  0.0  ...   \n",
      "aaaaaaaaaew  0.000000  0.000000  0.0  0.0  0.0  0.0  0.0  0.0  0.0  0.0  ...   \n",
      "...               ...       ...  ...  ...  ...  ...  ...  ...  ...  ...  ...   \n",
      "zydeco       0.000000  0.000000  0.0  0.0  0.0  0.0  0.0  0.0  0.0  0.0  ...   \n",
      "zyla         0.000000  0.000000  0.0  0.0  0.0  0.0  0.0  0.0  0.0  0.0  ...   \n",
      "zymosine     0.000000  0.000000  0.0  0.0  0.0  0.0  0.0  0.0  0.0  0.0  ...   \n",
      "zyrtec       0.000000  0.000000  0.0  0.0  0.0  0.0  0.0  0.0  0.0  0.0  ...   \n",
      "zzay         0.000000  0.000000  0.0  0.0  0.0  0.0  0.0  0.0  0.0  0.0  ...   \n",
      "\n",
      "             S4134  S4135  S4136  S4137  S4138  S4139  S4140  S4141  S4142  \\\n",
      "aa             0.0    0.0    0.0    0.0    0.0    0.0    0.0    0.0    0.0   \n",
      "aaa            0.0    0.0    0.0    0.0    0.0    0.0    0.0    0.0    0.0   \n",
      "aaaa           0.0    0.0    0.0    0.0    0.0    0.0    0.0    0.0    0.0   \n",
      "aaaaa          0.0    0.0    0.0    0.0    0.0    0.0    0.0    0.0    0.0   \n",
      "aaaaaaaaaew    0.0    0.0    0.0    0.0    0.0    0.0    0.0    0.0    0.0   \n",
      "...            ...    ...    ...    ...    ...    ...    ...    ...    ...   \n",
      "zydeco         0.0    0.0    0.0    0.0    0.0    0.0    0.0    0.0    0.0   \n",
      "zyla           0.0    0.0    0.0    0.0    0.0    0.0    0.0    0.0    0.0   \n",
      "zymosine       0.0    0.0    0.0    0.0    0.0    0.0    0.0    0.0    0.0   \n",
      "zyrtec         0.0    0.0    0.0    0.0    0.0    0.0    0.0    0.0    0.0   \n",
      "zzay           0.0    0.0    0.0    0.0    0.0    0.0    0.0    0.0    0.0   \n",
      "\n",
      "             S4143  \n",
      "aa             0.0  \n",
      "aaa            0.0  \n",
      "aaaa           0.0  \n",
      "aaaaa          0.0  \n",
      "aaaaaaaaaew    0.0  \n",
      "...            ...  \n",
      "zydeco         0.0  \n",
      "zyla           0.0  \n",
      "zymosine       0.0  \n",
      "zyrtec         0.0  \n",
      "zzay           0.0  \n",
      "\n",
      "[47513 rows x 4143 columns]\n"
     ]
    }
   ],
   "source": [
    "preprocessor = CountVectorizer(encoding='latin1')\n",
    "preprocessedText = preprocessor.fit_transform(advert)\n",
    "\n",
    "tfidfTransformer = TfidfTransformer(smooth_idf=False, norm=None)\n",
    "tfidf = tfidfTransformer.fit_transform(preprocessedText)\n",
    "\n",
    "svd = TruncatedSVD(20)\n",
    "normalizer = Normalizer(copy=False)\n",
    "lsa = make_pipeline(svd, normalizer)\n",
    "\n",
    "printTermDocumentMatrix(count_vect, tfidf)\n",
    "lsa_tfidf = lsa.fit_transform(tfidf)"
   ]
  },
  {
   "cell_type": "markdown",
   "metadata": {},
   "source": [
    "20.3.a.i"
   ]
  },
  {
   "cell_type": "code",
   "execution_count": 66,
   "metadata": {},
   "outputs": [
    {
     "name": "stdout",
     "output_type": "stream",
     "text": [
      "Percentage of zero entries in the TF-IDF matrix: 99.69%\n"
     ]
    }
   ],
   "source": [
    "sparsity = (1 - (tfidf.nnz / (tfidf.shape[0] * tfidf.shape[1]))) * 100\n",
    "print(\"Percentage of zero entries in the TF-IDF matrix: {:.2f}%\".format(sparsity))"
   ]
  },
  {
   "cell_type": "markdown",
   "metadata": {},
   "source": [
    "20.3.a.ii<br><br>\n",
    "Looking at the output above for the printed Term Document Matrix, we can see<br>\n",
    "for `aaa`, `S1` and `S2` have the frequency of `aaa` within advertisement <br>\n",
    "of `0.295645` and `0.232515` respectively. This tells us that off all the adds <br>\n",
    "this term `aaa` is about `30%` and `24%` of the counts just in ads `S1` and `S2`<br>"
   ]
  },
  {
   "cell_type": "markdown",
   "metadata": {},
   "source": [
    "20.3.b<br><br>\n",
    "The difference between a term-document matrix and a concept-document matrix<br>\n",
    "is that a concept-document matrix seeks to reduce the dimensionality of a matrix<br>\n",
    "by grouping concepts into similar pools. Using PCA combined with concept-document<br>\n",
    "is the next logical step where we analyze the features showing as prominent within<br>\n",
    "the concept-document matrix to determine what features to look for in the future."
   ]
  },
  {
   "cell_type": "markdown",
   "metadata": {},
   "source": [
    "20.3.c Using logistic regression, partition the data (60% training,<br>\n",
    "40% validation), and develop a model to classify the<br>\n",
    "documents as “relevant” or “non-relevant.” Comment on its<br>\n",
    "efficacy.<br>"
   ]
  },
  {
   "cell_type": "code",
   "execution_count": 78,
   "metadata": {},
   "outputs": [
    {
     "name": "stdout",
     "output_type": "stream",
     "text": [
      "Confusion Matrix (Accuracy 0.8059)\n",
      "\n",
      "       Prediction\n",
      "Actual    0    1\n",
      "     0 1512  421\n",
      "     1  383 1827\n",
      "Confusion Matrix (Accuracy 0.8052)\n",
      "\n",
      "       Prediction\n",
      "Actual   0   1\n",
      "     0 634 156\n",
      "     1 167 701\n"
     ]
    },
    {
     "data": {
      "image/png": "[encoded data removed]",
      "text/plain": [
       "<Figure size 640x480 with 1 Axes>"
      ]
     },
     "metadata": {},
     "output_type": "display_data"
    }
   ],
   "source": [
    "logit_reg = LogisticRegression(solver='lbfgs')\n",
    "logit_reg.fit(lsa_tfidf, value)\n",
    "classificationSummary(value, logit_reg.predict(lsa_tfidf))\n",
    "# split dataset into 60% training and 40% test set\n",
    "Xtrain, Xtest, ytrain, ytest = train_test_split(lsa_tfidf, value, test_size=0.4, random_state=1)\n",
    "\n",
    "# run logistic regression model on training\n",
    "logit_reg = LogisticRegression(solver='lbfgs')\n",
    "logit_reg.fit(Xtrain, ytrain)\n",
    "\n",
    "# print confusion matrix and accuracty\n",
    "classificationSummary(ytest, logit_reg.predict(Xtest))\n",
    "df = pd.DataFrame(data={'prob': [p[1] for p in logit_reg.predict_proba(Xtest)], 'actual': ytest})\n",
    "df = df.sort_values(by=['prob'], ascending=False).reset_index(drop=True)\n",
    "\n",
    "ax = liftChart(df.actual, labelBars=True)\n",
    "\n",
    "plt.tight_layout()\n",
    "plt.show()"
   ]
  },
  {
   "cell_type": "markdown",
   "metadata": {},
   "source": [
    "The model appears to be quite efficient. Generating significant lift all the way down to the 70% decile."
   ]
  },
  {
   "cell_type": "markdown",
   "metadata": {},
   "source": [
    "20.3.d Why use the concept-document matrix, and not the term-document<br>\n",
    "matrix, to provide the predictor variables?<br><br>\n",
    "\n",
    "Term-document Matrix are more likely to over fit the model. Looking at specific<br>\n",
    "terms rather than concepts means we might over fit the training data and could result<br>\n",
    "our model failing when applied to validation or test data."
   ]
  }
 ],
 "metadata": {
  "kernelspec": {
   "display_name": "Python 3",
   "language": "python",
   "name": "python3"
  },
  "language_info": {
   "codemirror_mode": {
    "name": "ipython",
    "version": 3
   },
   "file_extension": ".py",
   "mimetype": "text/x-python",
   "name": "python",
   "nbconvert_exporter": "python",
   "pygments_lexer": "ipython3",
   "version": "3.12.0"
  }
 },
 "nbformat": 4,
 "nbformat_minor": 2
}
