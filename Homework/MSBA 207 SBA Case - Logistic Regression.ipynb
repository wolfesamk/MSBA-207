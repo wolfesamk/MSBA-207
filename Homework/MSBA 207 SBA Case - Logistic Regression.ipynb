{
 "cells": [
  {
   "cell_type": "markdown",
   "metadata": {},
   "source": [
    "##### <p> Samuel Wolfe <br> September 24, 2023 <br> MSBA 207 <br> SBA Case: Logistic Regression </p>"
   ]
  },
  {
   "cell_type": "code",
   "execution_count": 1,
   "metadata": {},
   "outputs": [
    {
     "data": {
      "text/html": [
       "<div>\n",
       "<style scoped>\n",
       "    .dataframe tbody tr th:only-of-type {\n",
       "        vertical-align: middle;\n",
       "    }\n",
       "\n",
       "    .dataframe tbody tr th {\n",
       "        vertical-align: top;\n",
       "    }\n",
       "\n",
       "    .dataframe thead th {\n",
       "        text-align: right;\n",
       "    }\n",
       "</style>\n",
       "<table border=\"1\" class=\"dataframe\">\n",
       "  <thead>\n",
       "    <tr style=\"text-align: right;\">\n",
       "      <th></th>\n",
       "      <th>Selected</th>\n",
       "      <th>Default</th>\n",
       "      <th>New</th>\n",
       "      <th>RealEstate</th>\n",
       "      <th>DisbursementGross</th>\n",
       "      <th>Portion</th>\n",
       "      <th>Recession</th>\n",
       "    </tr>\n",
       "  </thead>\n",
       "  <tbody>\n",
       "    <tr>\n",
       "      <th>0</th>\n",
       "      <td>0</td>\n",
       "      <td>0</td>\n",
       "      <td>0</td>\n",
       "      <td>0</td>\n",
       "      <td>32812</td>\n",
       "      <td>0.50</td>\n",
       "      <td>0</td>\n",
       "    </tr>\n",
       "    <tr>\n",
       "      <th>1</th>\n",
       "      <td>1</td>\n",
       "      <td>0</td>\n",
       "      <td>0</td>\n",
       "      <td>0</td>\n",
       "      <td>30000</td>\n",
       "      <td>0.50</td>\n",
       "      <td>1</td>\n",
       "    </tr>\n",
       "    <tr>\n",
       "      <th>2</th>\n",
       "      <td>0</td>\n",
       "      <td>0</td>\n",
       "      <td>0</td>\n",
       "      <td>0</td>\n",
       "      <td>30000</td>\n",
       "      <td>0.50</td>\n",
       "      <td>0</td>\n",
       "    </tr>\n",
       "    <tr>\n",
       "      <th>3</th>\n",
       "      <td>1</td>\n",
       "      <td>0</td>\n",
       "      <td>0</td>\n",
       "      <td>0</td>\n",
       "      <td>50000</td>\n",
       "      <td>0.50</td>\n",
       "      <td>0</td>\n",
       "    </tr>\n",
       "    <tr>\n",
       "      <th>4</th>\n",
       "      <td>1</td>\n",
       "      <td>0</td>\n",
       "      <td>0</td>\n",
       "      <td>1</td>\n",
       "      <td>343000</td>\n",
       "      <td>1.00</td>\n",
       "      <td>0</td>\n",
       "    </tr>\n",
       "    <tr>\n",
       "      <th>...</th>\n",
       "      <td>...</td>\n",
       "      <td>...</td>\n",
       "      <td>...</td>\n",
       "      <td>...</td>\n",
       "      <td>...</td>\n",
       "      <td>...</td>\n",
       "      <td>...</td>\n",
       "    </tr>\n",
       "    <tr>\n",
       "      <th>2097</th>\n",
       "      <td>1</td>\n",
       "      <td>0</td>\n",
       "      <td>1</td>\n",
       "      <td>0</td>\n",
       "      <td>150000</td>\n",
       "      <td>0.50</td>\n",
       "      <td>0</td>\n",
       "    </tr>\n",
       "    <tr>\n",
       "      <th>2098</th>\n",
       "      <td>1</td>\n",
       "      <td>0</td>\n",
       "      <td>0</td>\n",
       "      <td>1</td>\n",
       "      <td>99000</td>\n",
       "      <td>0.80</td>\n",
       "      <td>0</td>\n",
       "    </tr>\n",
       "    <tr>\n",
       "      <th>2099</th>\n",
       "      <td>0</td>\n",
       "      <td>0</td>\n",
       "      <td>0</td>\n",
       "      <td>0</td>\n",
       "      <td>50000</td>\n",
       "      <td>0.80</td>\n",
       "      <td>0</td>\n",
       "    </tr>\n",
       "    <tr>\n",
       "      <th>2100</th>\n",
       "      <td>1</td>\n",
       "      <td>0</td>\n",
       "      <td>0</td>\n",
       "      <td>0</td>\n",
       "      <td>251150</td>\n",
       "      <td>0.75</td>\n",
       "      <td>0</td>\n",
       "    </tr>\n",
       "    <tr>\n",
       "      <th>2101</th>\n",
       "      <td>0</td>\n",
       "      <td>0</td>\n",
       "      <td>0</td>\n",
       "      <td>0</td>\n",
       "      <td>35000</td>\n",
       "      <td>0.50</td>\n",
       "      <td>0</td>\n",
       "    </tr>\n",
       "  </tbody>\n",
       "</table>\n",
       "<p>2102 rows × 7 columns</p>\n",
       "</div>"
      ],
      "text/plain": [
       "      Selected  Default  New  RealEstate  DisbursementGross  Portion  \\\n",
       "0            0        0    0           0              32812     0.50   \n",
       "1            1        0    0           0              30000     0.50   \n",
       "2            0        0    0           0              30000     0.50   \n",
       "3            1        0    0           0              50000     0.50   \n",
       "4            1        0    0           1             343000     1.00   \n",
       "...        ...      ...  ...         ...                ...      ...   \n",
       "2097         1        0    1           0             150000     0.50   \n",
       "2098         1        0    0           1              99000     0.80   \n",
       "2099         0        0    0           0              50000     0.80   \n",
       "2100         1        0    0           0             251150     0.75   \n",
       "2101         0        0    0           0              35000     0.50   \n",
       "\n",
       "      Recession  \n",
       "0             0  \n",
       "1             1  \n",
       "2             0  \n",
       "3             0  \n",
       "4             0  \n",
       "...         ...  \n",
       "2097          0  \n",
       "2098          0  \n",
       "2099          0  \n",
       "2100          0  \n",
       "2101          0  \n",
       "\n",
       "[2102 rows x 7 columns]"
      ]
     },
     "execution_count": 1,
     "metadata": {},
     "output_type": "execute_result"
    }
   ],
   "source": [
    "%matplotlib inline\n",
    "from pathlib import Path\n",
    "import numpy as np\n",
    "import pandas as pd\n",
    "from sklearn.linear_model import LogisticRegression, LogisticRegressionCV\n",
    "from sklearn.model_selection import train_test_split\n",
    "import statsmodels.api as sm\n",
    "import statsmodels.formula.api as smf\n",
    "# pip install mord\n",
    "from mord import LogisticIT\n",
    "import matplotlib.pylab as plt\n",
    "import seaborn as sns\n",
    "from dmba import classificationSummary, gainsChart, liftChart\n",
    "from dmba.metric import AIC_score\n",
    "import math\n",
    "\n",
    "keepers = ['Selected','Default','New','RealEstate','DisbursementGross','Portion','Recession']\n",
    "\n",
    "DATA = Path('E:/Aliit/School/MSBA/206/MSBA-206/dmba')\n",
    "\n",
    "loan_df = pd.read_csv(DATA / 'SBAcase.11.13.17.csv')\n",
    "loan_df = loan_df[keepers]\n",
    "loan_df"
   ]
  },
  {
   "cell_type": "code",
   "execution_count": 2,
   "metadata": {},
   "outputs": [],
   "source": [
    "y = loan_df['Default']\n",
    "X = loan_df.drop(columns=['Default'])\n",
    "\n",
    "# partition data\n",
    "train_X = X.where(loan_df['Selected'] == 1).dropna().drop(columns='Selected')\n",
    "valid_X = X.where(loan_df['Selected'] == 0).dropna().drop(columns='Selected')\n",
    "train_y = y.where(loan_df['Selected'] == 1).dropna().drop(columns='Selected')\n",
    "valid_y = y.where(loan_df['Selected'] == 0).dropna().drop(columns='Selected')\n",
    "X = X.drop(columns='Selected')"
   ]
  },
  {
   "cell_type": "markdown",
   "metadata": {},
   "source": [
    "## (a) I hope below this is the correct output. I could not find anything that would produce explicitly the output generated in the SBA case."
   ]
  },
  {
   "cell_type": "code",
   "execution_count": 3,
   "metadata": {},
   "outputs": [
    {
     "name": "stdout",
     "output_type": "stream",
     "text": [
      "Table 7\n"
     ]
    },
    {
     "data": {
      "text/html": [
       "<table class=\"simpletable\">\n",
       "<caption>Generalized Linear Model Regression Results</caption>\n",
       "<tr>\n",
       "  <th>Dep. Variable:</th>        <td>Default</td>     <th>  No. Observations:  </th>  <td>  1051</td> \n",
       "</tr>\n",
       "<tr>\n",
       "  <th>Model:</th>                  <td>GLM</td>       <th>  Df Residuals:      </th>  <td>  1045</td> \n",
       "</tr>\n",
       "<tr>\n",
       "  <th>Model Family:</th>        <td>Binomial</td>     <th>  Df Model:          </th>  <td>     5</td> \n",
       "</tr>\n",
       "<tr>\n",
       "  <th>Link Function:</th>         <td>Logit</td>      <th>  Scale:             </th> <td>  1.0000</td>\n",
       "</tr>\n",
       "<tr>\n",
       "  <th>Method:</th>                <td>IRLS</td>       <th>  Log-Likelihood:    </th> <td> -540.85</td>\n",
       "</tr>\n",
       "<tr>\n",
       "  <th>Date:</th>            <td>Mon, 02 Oct 2023</td> <th>  Deviance:          </th> <td>  1081.7</td>\n",
       "</tr>\n",
       "<tr>\n",
       "  <th>Time:</th>                <td>18:11:53</td>     <th>  Pearson chi2:      </th> <td>1.00e+03</td>\n",
       "</tr>\n",
       "<tr>\n",
       "  <th>No. Iterations:</th>          <td>6</td>        <th>  Pseudo R-squ. (CS):</th>  <td>0.1949</td> \n",
       "</tr>\n",
       "<tr>\n",
       "  <th>Covariance Type:</th>     <td>nonrobust</td>    <th>                     </th>     <td> </td>   \n",
       "</tr>\n",
       "</table>\n",
       "<table class=\"simpletable\">\n",
       "<tr>\n",
       "          <td></td>             <th>coef</th>     <th>std err</th>      <th>z</th>      <th>P>|z|</th>  <th>[0.025</th>    <th>0.975]</th>  \n",
       "</tr>\n",
       "<tr>\n",
       "  <th>const</th>             <td>    1.3537</td> <td>    0.323</td> <td>    4.192</td> <td> 0.000</td> <td>    0.721</td> <td>    1.987</td>\n",
       "</tr>\n",
       "<tr>\n",
       "  <th>New</th>               <td>   -0.0772</td> <td>    0.210</td> <td>   -0.367</td> <td> 0.713</td> <td>   -0.489</td> <td>    0.335</td>\n",
       "</tr>\n",
       "<tr>\n",
       "  <th>RealEstate</th>        <td>   -2.0331</td> <td>    0.364</td> <td>   -5.592</td> <td> 0.000</td> <td>   -2.746</td> <td>   -1.320</td>\n",
       "</tr>\n",
       "<tr>\n",
       "  <th>DisbursementGross</th> <td>-3.371e-07</td> <td> 3.52e-07</td> <td>   -0.958</td> <td> 0.338</td> <td>-1.03e-06</td> <td> 3.53e-07</td>\n",
       "</tr>\n",
       "<tr>\n",
       "  <th>Portion</th>           <td>   -2.8298</td> <td>    0.559</td> <td>   -5.059</td> <td> 0.000</td> <td>   -3.926</td> <td>   -1.733</td>\n",
       "</tr>\n",
       "<tr>\n",
       "  <th>Recession</th>         <td>    0.4971</td> <td>    0.241</td> <td>    2.060</td> <td> 0.039</td> <td>    0.024</td> <td>    0.970</td>\n",
       "</tr>\n",
       "</table>"
      ],
      "text/latex": [
       "\\begin{center}\n",
       "\\begin{tabular}{lclc}\n",
       "\\toprule\n",
       "\\textbf{Dep. Variable:}    &     Default      & \\textbf{  No. Observations:  } &     1051    \\\\\n",
       "\\textbf{Model:}            &       GLM        & \\textbf{  Df Residuals:      } &     1045    \\\\\n",
       "\\textbf{Model Family:}     &     Binomial     & \\textbf{  Df Model:          } &        5    \\\\\n",
       "\\textbf{Link Function:}    &      Logit       & \\textbf{  Scale:             } &    1.0000   \\\\\n",
       "\\textbf{Method:}           &       IRLS       & \\textbf{  Log-Likelihood:    } &   -540.85   \\\\\n",
       "\\textbf{Date:}             & Mon, 02 Oct 2023 & \\textbf{  Deviance:          } &    1081.7   \\\\\n",
       "\\textbf{Time:}             &     18:11:53     & \\textbf{  Pearson chi2:      } &  1.00e+03   \\\\\n",
       "\\textbf{No. Iterations:}   &        6         & \\textbf{  Pseudo R-squ. (CS):} &   0.1949    \\\\\n",
       "\\textbf{Covariance Type:}  &    nonrobust     & \\textbf{                     } &             \\\\\n",
       "\\bottomrule\n",
       "\\end{tabular}\n",
       "\\begin{tabular}{lcccccc}\n",
       "                           & \\textbf{coef} & \\textbf{std err} & \\textbf{z} & \\textbf{P$> |$z$|$} & \\textbf{[0.025} & \\textbf{0.975]}  \\\\\n",
       "\\midrule\n",
       "\\textbf{const}             &       1.3537  &        0.323     &     4.192  &         0.000        &        0.721    &        1.987     \\\\\n",
       "\\textbf{New}               &      -0.0772  &        0.210     &    -0.367  &         0.713        &       -0.489    &        0.335     \\\\\n",
       "\\textbf{RealEstate}        &      -2.0331  &        0.364     &    -5.592  &         0.000        &       -2.746    &       -1.320     \\\\\n",
       "\\textbf{DisbursementGross} &   -3.371e-07  &     3.52e-07     &    -0.958  &         0.338        &    -1.03e-06    &     3.53e-07     \\\\\n",
       "\\textbf{Portion}           &      -2.8298  &        0.559     &    -5.059  &         0.000        &       -3.926    &       -1.733     \\\\\n",
       "\\textbf{Recession}         &       0.4971  &        0.241     &     2.060  &         0.039        &        0.024    &        0.970     \\\\\n",
       "\\bottomrule\n",
       "\\end{tabular}\n",
       "%\\caption{Generalized Linear Model Regression Results}\n",
       "\\end{center}"
      ],
      "text/plain": [
       "<class 'statsmodels.iolib.summary.Summary'>\n",
       "\"\"\"\n",
       "                 Generalized Linear Model Regression Results                  \n",
       "==============================================================================\n",
       "Dep. Variable:                Default   No. Observations:                 1051\n",
       "Model:                            GLM   Df Residuals:                     1045\n",
       "Model Family:                Binomial   Df Model:                            5\n",
       "Link Function:                  Logit   Scale:                          1.0000\n",
       "Method:                          IRLS   Log-Likelihood:                -540.85\n",
       "Date:                Mon, 02 Oct 2023   Deviance:                       1081.7\n",
       "Time:                        18:11:53   Pearson chi2:                 1.00e+03\n",
       "No. Iterations:                     6   Pseudo R-squ. (CS):             0.1949\n",
       "Covariance Type:            nonrobust                                         \n",
       "=====================================================================================\n",
       "                        coef    std err          z      P>|z|      [0.025      0.975]\n",
       "-------------------------------------------------------------------------------------\n",
       "const                 1.3537      0.323      4.192      0.000       0.721       1.987\n",
       "New                  -0.0772      0.210     -0.367      0.713      -0.489       0.335\n",
       "RealEstate           -2.0331      0.364     -5.592      0.000      -2.746      -1.320\n",
       "DisbursementGross -3.371e-07   3.52e-07     -0.958      0.338   -1.03e-06    3.53e-07\n",
       "Portion              -2.8298      0.559     -5.059      0.000      -3.926      -1.733\n",
       "Recession             0.4971      0.241      2.060      0.039       0.024       0.970\n",
       "=====================================================================================\n",
       "\"\"\""
      ]
     },
     "execution_count": 3,
     "metadata": {},
     "output_type": "execute_result"
    }
   ],
   "source": [
    "train_X2 = sm.add_constant(train_X, prepend=True)\n",
    "logit_full1 = sm.GLM(train_y, train_X2, family=sm.families.Binomial())\n",
    "logit_result1 = logit_full1.fit()\n",
    "print('Table 7')\n",
    "logit_result1.summary()"
   ]
  },
  {
   "cell_type": "code",
   "execution_count": 4,
   "metadata": {},
   "outputs": [],
   "source": [
    "keepers = ['Selected','Default','RealEstate','Portion','Recession']\n",
    "\n",
    "DATA = Path('E:/Aliit/School/MSBA/206/MSBA-206/dmba')\n",
    "\n",
    "loan_df = pd.read_csv(DATA / 'SBAcase.11.13.17.csv')\n",
    "loan_df = loan_df[keepers]\n",
    "y = loan_df['Default']\n",
    "X = loan_df.drop(columns=['Default'])\n",
    "\n",
    "# partition data\n",
    "train_X = X.where(loan_df['Selected'] == 1).dropna().drop(columns='Selected')\n",
    "valid_X = X.where(loan_df['Selected'] == 0).dropna().drop(columns='Selected')\n",
    "train_y = y.where(loan_df['Selected'] == 1).dropna().drop(columns='Selected')\n",
    "valid_y = y.where(loan_df['Selected'] == 0).dropna().drop(columns='Selected')\n",
    "X = X.drop(columns='Selected')"
   ]
  },
  {
   "cell_type": "code",
   "execution_count": 5,
   "metadata": {},
   "outputs": [
    {
     "name": "stdout",
     "output_type": "stream",
     "text": [
      "Table 8\n"
     ]
    },
    {
     "data": {
      "text/html": [
       "<table class=\"simpletable\">\n",
       "<caption>Generalized Linear Model Regression Results</caption>\n",
       "<tr>\n",
       "  <th>Dep. Variable:</th>        <td>Default</td>     <th>  No. Observations:  </th>  <td>  1051</td> \n",
       "</tr>\n",
       "<tr>\n",
       "  <th>Model:</th>                  <td>GLM</td>       <th>  Df Residuals:      </th>  <td>  1047</td> \n",
       "</tr>\n",
       "<tr>\n",
       "  <th>Model Family:</th>        <td>Binomial</td>     <th>  Df Model:          </th>  <td>     3</td> \n",
       "</tr>\n",
       "<tr>\n",
       "  <th>Link Function:</th>         <td>Logit</td>      <th>  Scale:             </th> <td>  1.0000</td>\n",
       "</tr>\n",
       "<tr>\n",
       "  <th>Method:</th>                <td>IRLS</td>       <th>  Log-Likelihood:    </th> <td> -541.38</td>\n",
       "</tr>\n",
       "<tr>\n",
       "  <th>Date:</th>            <td>Mon, 02 Oct 2023</td> <th>  Deviance:          </th> <td>  1082.8</td>\n",
       "</tr>\n",
       "<tr>\n",
       "  <th>Time:</th>                <td>18:11:53</td>     <th>  Pearson chi2:      </th>  <td>  989.</td> \n",
       "</tr>\n",
       "<tr>\n",
       "  <th>No. Iterations:</th>          <td>6</td>        <th>  Pseudo R-squ. (CS):</th>  <td>0.1941</td> \n",
       "</tr>\n",
       "<tr>\n",
       "  <th>Covariance Type:</th>     <td>nonrobust</td>    <th>                     </th>     <td> </td>   \n",
       "</tr>\n",
       "</table>\n",
       "<table class=\"simpletable\">\n",
       "<tr>\n",
       "       <td></td>         <th>coef</th>     <th>std err</th>      <th>z</th>      <th>P>|z|</th>  <th>[0.025</th>    <th>0.975]</th>  \n",
       "</tr>\n",
       "<tr>\n",
       "  <th>const</th>      <td>    1.3931</td> <td>    0.322</td> <td>    4.332</td> <td> 0.000</td> <td>    0.763</td> <td>    2.023</td>\n",
       "</tr>\n",
       "<tr>\n",
       "  <th>RealEstate</th> <td>   -2.1282</td> <td>    0.345</td> <td>   -6.169</td> <td> 0.000</td> <td>   -2.804</td> <td>   -1.452</td>\n",
       "</tr>\n",
       "<tr>\n",
       "  <th>Portion</th>    <td>   -2.9875</td> <td>    0.539</td> <td>   -5.540</td> <td> 0.000</td> <td>   -4.044</td> <td>   -1.931</td>\n",
       "</tr>\n",
       "<tr>\n",
       "  <th>Recession</th>  <td>    0.5041</td> <td>    0.241</td> <td>    2.090</td> <td> 0.037</td> <td>    0.031</td> <td>    0.977</td>\n",
       "</tr>\n",
       "</table>"
      ],
      "text/latex": [
       "\\begin{center}\n",
       "\\begin{tabular}{lclc}\n",
       "\\toprule\n",
       "\\textbf{Dep. Variable:}   &     Default      & \\textbf{  No. Observations:  } &     1051    \\\\\n",
       "\\textbf{Model:}           &       GLM        & \\textbf{  Df Residuals:      } &     1047    \\\\\n",
       "\\textbf{Model Family:}    &     Binomial     & \\textbf{  Df Model:          } &        3    \\\\\n",
       "\\textbf{Link Function:}   &      Logit       & \\textbf{  Scale:             } &    1.0000   \\\\\n",
       "\\textbf{Method:}          &       IRLS       & \\textbf{  Log-Likelihood:    } &   -541.38   \\\\\n",
       "\\textbf{Date:}            & Mon, 02 Oct 2023 & \\textbf{  Deviance:          } &    1082.8   \\\\\n",
       "\\textbf{Time:}            &     18:11:53     & \\textbf{  Pearson chi2:      } &     989.    \\\\\n",
       "\\textbf{No. Iterations:}  &        6         & \\textbf{  Pseudo R-squ. (CS):} &   0.1941    \\\\\n",
       "\\textbf{Covariance Type:} &    nonrobust     & \\textbf{                     } &             \\\\\n",
       "\\bottomrule\n",
       "\\end{tabular}\n",
       "\\begin{tabular}{lcccccc}\n",
       "                    & \\textbf{coef} & \\textbf{std err} & \\textbf{z} & \\textbf{P$> |$z$|$} & \\textbf{[0.025} & \\textbf{0.975]}  \\\\\n",
       "\\midrule\n",
       "\\textbf{const}      &       1.3931  &        0.322     &     4.332  &         0.000        &        0.763    &        2.023     \\\\\n",
       "\\textbf{RealEstate} &      -2.1282  &        0.345     &    -6.169  &         0.000        &       -2.804    &       -1.452     \\\\\n",
       "\\textbf{Portion}    &      -2.9875  &        0.539     &    -5.540  &         0.000        &       -4.044    &       -1.931     \\\\\n",
       "\\textbf{Recession}  &       0.5041  &        0.241     &     2.090  &         0.037        &        0.031    &        0.977     \\\\\n",
       "\\bottomrule\n",
       "\\end{tabular}\n",
       "%\\caption{Generalized Linear Model Regression Results}\n",
       "\\end{center}"
      ],
      "text/plain": [
       "<class 'statsmodels.iolib.summary.Summary'>\n",
       "\"\"\"\n",
       "                 Generalized Linear Model Regression Results                  \n",
       "==============================================================================\n",
       "Dep. Variable:                Default   No. Observations:                 1051\n",
       "Model:                            GLM   Df Residuals:                     1047\n",
       "Model Family:                Binomial   Df Model:                            3\n",
       "Link Function:                  Logit   Scale:                          1.0000\n",
       "Method:                          IRLS   Log-Likelihood:                -541.38\n",
       "Date:                Mon, 02 Oct 2023   Deviance:                       1082.8\n",
       "Time:                        18:11:53   Pearson chi2:                     989.\n",
       "No. Iterations:                     6   Pseudo R-squ. (CS):             0.1941\n",
       "Covariance Type:            nonrobust                                         \n",
       "==============================================================================\n",
       "                 coef    std err          z      P>|z|      [0.025      0.975]\n",
       "------------------------------------------------------------------------------\n",
       "const          1.3931      0.322      4.332      0.000       0.763       2.023\n",
       "RealEstate    -2.1282      0.345     -6.169      0.000      -2.804      -1.452\n",
       "Portion       -2.9875      0.539     -5.540      0.000      -4.044      -1.931\n",
       "Recession      0.5041      0.241      2.090      0.037       0.031       0.977\n",
       "==============================================================================\n",
       "\"\"\""
      ]
     },
     "execution_count": 5,
     "metadata": {},
     "output_type": "execute_result"
    }
   ],
   "source": [
    "train_X2 = sm.add_constant(train_X, prepend=True)\n",
    "logit_full2 = sm.GLM(train_y, train_X2, family=sm.families.Binomial())\n",
    "logit_result2 = logit_full2.fit()\n",
    "print('Table 8')\n",
    "logit_result2.summary()"
   ]
  },
  {
   "cell_type": "markdown",
   "metadata": {},
   "source": [
    "## (b) The indicators in Table 8, shown above, were chosen because the P-values of 'New' and 'DisbursementGross' were well above the threshold of 0.05, shown above in Table 7, making those indicators not significantly significant to the model."
   ]
  },
  {
   "cell_type": "code",
   "execution_count": 6,
   "metadata": {},
   "outputs": [
    {
     "name": "stdout",
     "output_type": "stream",
     "text": [
      "const         1.393064\n",
      "RealEstate   -2.128217\n",
      "Portion      -2.987482\n",
      "Recession     0.504123\n",
      "dtype: float64\n",
      "      actual      p(0)      p(1)  predicted  backed  recession   SBA\n",
      "0        0.0  0.525148  0.474852          0     0.0        0.0  0.50\n",
      "2        0.0  0.525148  0.474852          0     0.0        0.0  0.50\n",
      "6        1.0  0.951467  0.048533          0     1.0        0.0  0.75\n",
      "7        0.0  0.525148  0.474852          0     0.0        0.0  0.50\n",
      "8        1.0  0.525148  0.474852          0     0.0        0.0  0.50\n",
      "...      ...       ...       ...        ...     ...        ...   ...\n",
      "2094     0.0  0.525148  0.474852          0     0.0        0.0  0.50\n",
      "2095     0.0  0.976400  0.023600          0     1.0        0.0  1.00\n",
      "2096     0.0  0.976400  0.023600          0     1.0        0.0  1.00\n",
      "2099     0.0  0.730453  0.269547          0     0.0        0.0  0.80\n",
      "2101     0.0  0.525148  0.474852          0     0.0        0.0  0.50\n",
      "\n",
      "[1051 rows x 7 columns]\n"
     ]
    }
   ],
   "source": [
    "valid_X2 = sm.add_constant(valid_X, prepend=True)\n",
    "logit = sm.GLM(train_y, train_X2, family=sm.families.Binomial())\n",
    "result = logit.fit()\n",
    "predictions = result.predict(valid_X2)\n",
    "predictions_nominal = [ 0 if x < 0.5 else 1 for x in predictions]\n",
    "logit_result = pd.DataFrame({'actual': valid_y, \n",
    "                             'p(0)': 1 - predictions,\n",
    "                             'p(1)': predictions,\n",
    "                             'predicted': predictions_nominal,\n",
    "                             'backed': valid_X['RealEstate'],\n",
    "                             'recession': valid_X['Recession'],\n",
    "                             'SBA': valid_X['Portion']})\n",
    "print(result.params)\n",
    "print(logit_result)"
   ]
  },
  {
   "cell_type": "code",
   "execution_count": 7,
   "metadata": {},
   "outputs": [
    {
     "name": "stdout",
     "output_type": "stream",
     "text": [
      "      actual      p(0)      p(1)  predicted  backed  recession   SBA\n",
      "1040     0.0  0.963544  0.036456          0     1.0        0.0  0.85\n",
      "588      0.0  0.951467  0.048533          0     1.0        0.0  0.75\n",
      "680      0.0  0.976400  0.023600          0     1.0        0.0  1.00\n",
      "674      0.0  0.951467  0.048533          0     1.0        0.0  0.75\n",
      "669      0.0  0.976400  0.023600          0     1.0        0.0  1.00\n",
      "Odds of default with backing:  -2.1282\n"
     ]
    }
   ],
   "source": [
    "#Real Estate Backing\n",
    "print(logit_result.sort_values(by='backed', ascending=False).where(logit_result['backed'] >= 0.0).where(logit_result['predicted'] >= 0.0).head(5))\n",
    "print('Odds of default with backing: ', round(-2.128217,4))"
   ]
  },
  {
   "cell_type": "code",
   "execution_count": 8,
   "metadata": {},
   "outputs": [
    {
     "name": "stdout",
     "output_type": "stream",
     "text": [
      "      actual      p(0)      p(1)  predicted  backed  recession  SBA\n",
      "1574     0.0  0.400485  0.599515          1     0.0        1.0  0.5\n",
      "654      1.0  0.400485  0.599515          1     0.0        1.0  0.5\n",
      "381      1.0  0.400485  0.599515          1     0.0        1.0  0.5\n",
      "1729     1.0  0.400485  0.599515          1     0.0        1.0  0.5\n",
      "1728     1.0  0.400485  0.599515          1     0.0        1.0  0.5\n",
      "Odds of default during recession:  0.5041\n"
     ]
    }
   ],
   "source": [
    "#Recession\n",
    "print(logit_result.sort_values(by='recession', ascending=False).where(logit_result['recession'] >= 0.0).where(logit_result['predicted'] >= 0.0).head(5))\n",
    "print('Odds of default during recession: ', round(0.504123,4))"
   ]
  },
  {
   "cell_type": "code",
   "execution_count": 9,
   "metadata": {},
   "outputs": [
    {
     "name": "stdout",
     "output_type": "stream",
     "text": [
      "      actual    p(0)    p(1)  predicted  backed  recession  SBA\n",
      "501      0.0  0.9764  0.0236          0     1.0        0.0  1.0\n",
      "660      0.0  0.9764  0.0236          0     1.0        0.0  1.0\n",
      "1025     0.0  0.9764  0.0236          0     1.0        0.0  1.0\n",
      "648      0.0  0.9764  0.0236          0     1.0        0.0  1.0\n",
      "1917     0.0  0.9764  0.0236          0     1.0        0.0  1.0\n",
      "Odds of default based on SBA Backing proportion:  -2.9875\n"
     ]
    }
   ],
   "source": [
    "#SBA Guarantee\n",
    "print(logit_result.sort_values(by='SBA', ascending=False).where(logit_result['SBA'] >= 0.0).where(logit_result['predicted'] >= 0.0).head(5))\n",
    "print('Odds of default based on SBA Backing proportion: ', round(-2.987482,4))"
   ]
  },
  {
   "cell_type": "markdown",
   "metadata": {},
   "source": [
    "## (c)\n",
    "###    (i) A loan backed by real estate is less likely to default. Its Odds value is -2.1282.\n",
    "###    (ii) A loan given during the recession is more likely to default. Its odds value is 0.5041.\n",
    "###    (iii)  A loan that has SBA Guarantee portions are less likely to default. its odds value is -2.9875."
   ]
  },
  {
   "cell_type": "code",
   "execution_count": 14,
   "metadata": {},
   "outputs": [
    {
     "data": {
      "text/plain": [
       "0.11905139361332186"
      ]
     },
     "execution_count": 14,
     "metadata": {},
     "output_type": "execute_result"
    }
   ],
   "source": [
    "math.exp(-2.1282)"
   ]
  },
  {
   "cell_type": "code",
   "execution_count": 15,
   "metadata": {},
   "outputs": [
    {
     "data": {
      "text/plain": [
       "1.6554949043702933"
      ]
     },
     "execution_count": 15,
     "metadata": {},
     "output_type": "execute_result"
    }
   ],
   "source": [
    "math.exp(0.5041)"
   ]
  },
  {
   "cell_type": "code",
   "execution_count": 16,
   "metadata": {},
   "outputs": [
    {
     "data": {
      "text/plain": [
       "0.05041331259467938"
      ]
     },
     "execution_count": 16,
     "metadata": {},
     "output_type": "execute_result"
    }
   ],
   "source": [
    "math.exp(-2.9875)"
   ]
  },
  {
   "cell_type": "code",
   "execution_count": 10,
   "metadata": {},
   "outputs": [
    {
     "data": {
      "text/html": [
       "<div>\n",
       "<style scoped>\n",
       "    .dataframe tbody tr th:only-of-type {\n",
       "        vertical-align: middle;\n",
       "    }\n",
       "\n",
       "    .dataframe tbody tr th {\n",
       "        vertical-align: top;\n",
       "    }\n",
       "\n",
       "    .dataframe thead th {\n",
       "        text-align: right;\n",
       "    }\n",
       "</style>\n",
       "<table border=\"1\" class=\"dataframe\">\n",
       "  <thead>\n",
       "    <tr style=\"text-align: right;\">\n",
       "      <th></th>\n",
       "      <th>RealEstate</th>\n",
       "      <th>Portion</th>\n",
       "      <th>Recession</th>\n",
       "    </tr>\n",
       "  </thead>\n",
       "  <tbody>\n",
       "    <tr>\n",
       "      <th>0</th>\n",
       "      <td>0.0</td>\n",
       "      <td>0.50</td>\n",
       "      <td>0.0</td>\n",
       "    </tr>\n",
       "    <tr>\n",
       "      <th>2</th>\n",
       "      <td>0.0</td>\n",
       "      <td>0.50</td>\n",
       "      <td>0.0</td>\n",
       "    </tr>\n",
       "    <tr>\n",
       "      <th>6</th>\n",
       "      <td>1.0</td>\n",
       "      <td>0.75</td>\n",
       "      <td>0.0</td>\n",
       "    </tr>\n",
       "    <tr>\n",
       "      <th>7</th>\n",
       "      <td>0.0</td>\n",
       "      <td>0.50</td>\n",
       "      <td>0.0</td>\n",
       "    </tr>\n",
       "    <tr>\n",
       "      <th>8</th>\n",
       "      <td>0.0</td>\n",
       "      <td>0.50</td>\n",
       "      <td>0.0</td>\n",
       "    </tr>\n",
       "    <tr>\n",
       "      <th>...</th>\n",
       "      <td>...</td>\n",
       "      <td>...</td>\n",
       "      <td>...</td>\n",
       "    </tr>\n",
       "    <tr>\n",
       "      <th>2094</th>\n",
       "      <td>0.0</td>\n",
       "      <td>0.50</td>\n",
       "      <td>0.0</td>\n",
       "    </tr>\n",
       "    <tr>\n",
       "      <th>2095</th>\n",
       "      <td>1.0</td>\n",
       "      <td>1.00</td>\n",
       "      <td>0.0</td>\n",
       "    </tr>\n",
       "    <tr>\n",
       "      <th>2096</th>\n",
       "      <td>1.0</td>\n",
       "      <td>1.00</td>\n",
       "      <td>0.0</td>\n",
       "    </tr>\n",
       "    <tr>\n",
       "      <th>2099</th>\n",
       "      <td>0.0</td>\n",
       "      <td>0.80</td>\n",
       "      <td>0.0</td>\n",
       "    </tr>\n",
       "    <tr>\n",
       "      <th>2101</th>\n",
       "      <td>0.0</td>\n",
       "      <td>0.50</td>\n",
       "      <td>0.0</td>\n",
       "    </tr>\n",
       "  </tbody>\n",
       "</table>\n",
       "<p>1051 rows × 3 columns</p>\n",
       "</div>"
      ],
      "text/plain": [
       "      RealEstate  Portion  Recession\n",
       "0            0.0     0.50        0.0\n",
       "2            0.0     0.50        0.0\n",
       "6            1.0     0.75        0.0\n",
       "7            0.0     0.50        0.0\n",
       "8            0.0     0.50        0.0\n",
       "...          ...      ...        ...\n",
       "2094         0.0     0.50        0.0\n",
       "2095         1.0     1.00        0.0\n",
       "2096         1.0     1.00        0.0\n",
       "2099         0.0     0.80        0.0\n",
       "2101         0.0     0.50        0.0\n",
       "\n",
       "[1051 rows x 3 columns]"
      ]
     },
     "execution_count": 10,
     "metadata": {},
     "output_type": "execute_result"
    }
   ],
   "source": [
    "valid_X"
   ]
  },
  {
   "cell_type": "code",
   "execution_count": 11,
   "metadata": {},
   "outputs": [
    {
     "data": {
      "text/html": [
       "<div>\n",
       "<style scoped>\n",
       "    .dataframe tbody tr th:only-of-type {\n",
       "        vertical-align: middle;\n",
       "    }\n",
       "\n",
       "    .dataframe tbody tr th {\n",
       "        vertical-align: top;\n",
       "    }\n",
       "\n",
       "    .dataframe thead th {\n",
       "        text-align: right;\n",
       "    }\n",
       "</style>\n",
       "<table border=\"1\" class=\"dataframe\">\n",
       "  <thead>\n",
       "    <tr style=\"text-align: right;\">\n",
       "      <th></th>\n",
       "      <th>const</th>\n",
       "      <th>RealEstate</th>\n",
       "      <th>Portion</th>\n",
       "      <th>Recession</th>\n",
       "    </tr>\n",
       "  </thead>\n",
       "  <tbody>\n",
       "    <tr>\n",
       "      <th>0</th>\n",
       "      <td>1.0</td>\n",
       "      <td>1.0</td>\n",
       "      <td>0.75</td>\n",
       "      <td>0.0</td>\n",
       "    </tr>\n",
       "    <tr>\n",
       "      <th>1</th>\n",
       "      <td>1.0</td>\n",
       "      <td>0.0</td>\n",
       "      <td>0.40</td>\n",
       "      <td>0.0</td>\n",
       "    </tr>\n",
       "  </tbody>\n",
       "</table>\n",
       "</div>"
      ],
      "text/plain": [
       "   const  RealEstate  Portion  Recession\n",
       "0    1.0         1.0     0.75        0.0\n",
       "1    1.0         0.0     0.40        0.0"
      ]
     },
     "execution_count": 11,
     "metadata": {},
     "output_type": "execute_result"
    }
   ],
   "source": [
    "testData = pd.DataFrame({'RealEstate': [1.0,0.0],\n",
    "                         'Portion': [0.75,0.40],\n",
    "                         'Recession': [0.0,0.0]})\n",
    "testData\n",
    "testData2 = sm.add_constant(testData, prepend=True)\n",
    "testData2"
   ]
  },
  {
   "cell_type": "code",
   "execution_count": 12,
   "metadata": {},
   "outputs": [
    {
     "name": "stdout",
     "output_type": "stream",
     "text": [
      "   Estimated probability of Default  Approved == 0\n",
      "0                              0.05              0\n",
      "1                              0.55              1\n"
     ]
    }
   ],
   "source": [
    "predictions2 = result.predict(testData2)\n",
    "predictions_nominal = [ 0 if x < 0.5 else 1 for x in predictions2]\n",
    "logit_result2 = pd.DataFrame({'Estimated probability of Default': round(predictions2,2),\n",
    "                             'Approved == 0': predictions_nominal})\n",
    "\n",
    "print(logit_result2)"
   ]
  },
  {
   "cell_type": "markdown",
   "metadata": {},
   "source": [
    "## (d) As you can see for column 'Estimated probability of Default' my numbers match Table 10 from the SBA article. As well my model accurately predicted approval in column 'Approved == 0'. Granted the numbers were flipped."
   ]
  }
 ],
 "metadata": {
  "kernelspec": {
   "display_name": "Python 3",
   "language": "python",
   "name": "python3"
  },
  "language_info": {
   "codemirror_mode": {
    "name": "ipython",
    "version": 3
   },
   "file_extension": ".py",
   "mimetype": "text/x-python",
   "name": "python",
   "nbconvert_exporter": "python",
   "pygments_lexer": "ipython3",
   "version": "3.11.4"
  },
  "orig_nbformat": 4
 },
 "nbformat": 4,
 "nbformat_minor": 2
}
