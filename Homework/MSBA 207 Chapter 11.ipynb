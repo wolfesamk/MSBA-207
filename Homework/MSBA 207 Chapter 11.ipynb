{
 "cells": [
  {
   "cell_type": "markdown",
   "metadata": {
    "id": "JcXBU2Tc8u8n"
   },
   "source": [
    "# Chapter 11 Assignment: Neural nets (NN)"
   ]
  },
  {
   "cell_type": "markdown",
   "metadata": {},
   "source": [
    "### Read Chapter 11 of DMBA and review relevant resources in Module - Chapter 11 Neural Nets before starting this assignment. Provide your answers to all problems below, save this Jupyter notebook (.ipynb file), and then submit it along with your Excel worksheet in Canvas by the due date."
   ]
  },
  {
   "cell_type": "code",
   "execution_count": 1,
   "metadata": {},
   "outputs": [],
   "source": [
    "# Import required packages for this chapter\n",
    "from pathlib import Path\n",
    "\n",
    "import numpy as np\n",
    "import pandas as pd\n",
    "from sklearn.model_selection import train_test_split\n",
    "from sklearn.preprocessing import MinMaxScaler\n",
    "from sklearn.neural_network import MLPClassifier, MLPRegressor\n",
    "\n",
    "import matplotlib.pylab as plt\n",
    "\n",
    "from dmba import classificationSummary, regressionSummary\n",
    "\n",
    "%matplotlib inline"
   ]
  },
  {
   "cell_type": "code",
   "execution_count": 2,
   "metadata": {
    "id": "UAFvO1Z78u8o"
   },
   "outputs": [],
   "source": [
    "# Working directory:\n",
    "# If you keep your data in a different folder, replace the argument of the `Path`\n",
    "# DATA = Path('/Users/user/data/dmba/')\n",
    "DATA = Path('E:/Aliit/School/MSBA/206/MSBA-206/dmba/')\n",
    "# and then load data using \n",
    "# pd.read_csv(DATA / ‘filename.csv’)"
   ]
  },
  {
   "cell_type": "markdown",
   "metadata": {
    "id": "uY9BllHr8u8o"
   },
   "source": [
    "# 1: Credit Card Use."
   ]
  },
  {
   "cell_type": "markdown",
   "metadata": {
    "id": "s5x7hL_Z8u8o"
   },
   "source": [
    "Consider the hypothetical bank data in Table 11.7 of the DMBA textbook on consumers’ use of credit card credit facilities. Create a small worksheet in Excel to illustrate one pass through a simple neural network (Randomly generate initial weight values)\n",
    "\n",
    "_Years: number of years the customer has been with the bank_\n",
    "\n",
    "_Salary: customer’s salary (in thousands of dollars)_\n",
    "\n",
    "_Used Credit:<br> \n",
    "1 = customer has left an unpaid credit card balance at the end of at least one month in the prior year, <br>\n",
    "0 = balance was paid off at the end of each month_\n",
    "<p>\n",
    "Upload your Excel worksheet via canvas submission."
   ]
  },
  {
   "cell_type": "markdown",
   "metadata": {},
   "source": [
    "### Please see included file 'MSBA 207 Chapter 11 Question 1.xlsx'"
   ]
  },
  {
   "cell_type": "markdown",
   "metadata": {
    "id": "EMIhT1GJ8u8r"
   },
   "source": [
    "# 2: Neural Net Evolution. \n",
    "\n",
    "A neural net typically starts out with random coeffcients; hence, it produces essentially random predictions when presented with its first case. What is the key ingredient by which the net evolves to produce a more accurate prediction?"
   ]
  },
  {
   "cell_type": "markdown",
   "metadata": {},
   "source": [
    "#### Given the neural nets are currently established to be forwards only, they evolve by taking the the error of the first random weights and adding it to the previous weights guess to iteratively update the weights data point by data point until the desired result is achieved."
   ]
  },
  {
   "cell_type": "markdown",
   "metadata": {
    "id": "xXmEJsk98u8u"
   },
   "source": [
    "# 3: Direct Mailing to Airline Customers."
   ]
  },
  {
   "cell_type": "markdown",
   "metadata": {
    "id": "LOpB6_z18u8u"
   },
   "source": [
    "East-West Airlines has entered into a partnership with the wireless phone company Telcon to sell the latter’s service via direct mail. The file _EastWestAirlinesNN.csv_ contains a subset of a data sample of who has already received a test oﬀer. About 13% accepted.\n",
    "\n",
    "You are asked to develop a model to classify East–West customers as to whether they purchase a wireless phone service contract (outcome variable Phone_Sale). This model will be used to classify additional customers.\n",
    "\n",
    "Review the <a href=\"https://www.thecasesolutions.com/project-data-mining-on-east-west-airlines-65598\">Data Dictionary</a> first to understand the data.\n",
    "\n",
    "You will need <a href=\"https://scikit-learn.org/stable/modules/generated/sklearn.neural_network.MLPClassifier.html?highlight=mlpclassifier#sklearn.neural_network.MLPClassifier\">sklearn.neural_network.MLPClassifier</a> so review this documentation first. Try both ‘logistic’ and ‘relu’ activation functions for the hidden layer.<p>\n"
   ]
  },
  {
   "cell_type": "code",
   "execution_count": 3,
   "metadata": {
    "id": "sXc4-9lw8u8u",
    "outputId": "f8d215b2-ad75-42d7-ca61-8417d7c1bbc1",
    "scrolled": true
   },
   "outputs": [],
   "source": [
    "# load the data\n",
    "airline_df = pd.read_csv(DATA / 'EastWestAirlinesNN.csv')"
   ]
  },
  {
   "cell_type": "markdown",
   "metadata": {},
   "source": [
    "__a.__ Run a neural net model on these data, using a single hidden layer with five nodes. Try both ‘logistic’ and ‘relu’ activation functions for the hidden layer. Remember to first convert categorical variables into dummies and scale numerical predictor variables to a 0–1 (use the scikit-learn transformer <a href=\"https://scikit-learn.org/stable/modules/generated/sklearn.preprocessing.MinMaxScaler.html\">MinMaxScaler() </a> (also see Chapter 2.4 of DMBA).<p>\n",
    "Use the training data to learn the transformation (see Table 7.2 in DMBA) rescaling the entire data (numerical variables only) to [0, 1] via \"clip=True\" in: <p>\n",
    "scaleInput = MinMaxScaler(feature_range=(0, 1), clip=True)<p>\n",
    "clip=True to clip transformed values of held-out data to provided feature range<p>\n",
    "Do not scale binary dummy variables. Create a decile-wise lift chart for the training and validation sets. Interpret the meaning (in business terms) of the leftmost bar of the validation decile-wise lift chart."
   ]
  },
  {
   "cell_type": "code",
   "execution_count": 4,
   "metadata": {},
   "outputs": [
    {
     "data": {
      "text/plain": [
       "ID#                  float64\n",
       "Topflight            float64\n",
       "Balance              float64\n",
       "Qual_miles           float64\n",
       "cc1_miles?           float64\n",
       "cc2_miles?           float64\n",
       "cc3_miles?           float64\n",
       "Bonus_miles          float64\n",
       "Bonus_trans          float64\n",
       "Flight_miles_12mo    float64\n",
       "Flight_trans_12      float64\n",
       "Online_12            float64\n",
       "Email                float64\n",
       "Club_member          float64\n",
       "Any_cc_miles_12mo    float64\n",
       "Phone_sale           float64\n",
       "dtype: object"
      ]
     },
     "execution_count": 4,
     "metadata": {},
     "output_type": "execute_result"
    }
   ],
   "source": [
    "airline_df.dtypes"
   ]
  },
  {
   "cell_type": "markdown",
   "metadata": {
    "id": "hJEhJ_uM8u8v"
   },
   "source": [
    "__b.__ Comment on the diﬀerence between the training and validation lift charts."
   ]
  },
  {
   "cell_type": "code",
   "execution_count": null,
   "metadata": {},
   "outputs": [],
   "source": []
  },
  {
   "cell_type": "markdown",
   "metadata": {
    "id": "ilztl-lY8u8v"
   },
   "source": [
    "__c.__ Run a second neural net model on the data, this time setting the number of hidden nodes to 1. Comment now on the diﬀerence between this model and the model you ran earlier, and how overftting might have aﬀected results."
   ]
  },
  {
   "cell_type": "code",
   "execution_count": null,
   "metadata": {},
   "outputs": [],
   "source": []
  },
  {
   "cell_type": "markdown",
   "metadata": {
    "id": "7FiYqZTV8u8v"
   },
   "source": [
    "__d.__ What sort of information, if any, is provided about the eﬀects of the various variables?"
   ]
  },
  {
   "cell_type": "code",
   "execution_count": null,
   "metadata": {},
   "outputs": [],
   "source": []
  },
  {
   "cell_type": "markdown",
   "metadata": {
    "id": "YFblDWPh8u8w"
   },
   "source": [
    "__e.__ Use GridSearchCV() to search for the number of nodes with the best score in a single layer of hidden nodes. "
   ]
  },
  {
   "cell_type": "code",
   "execution_count": null,
   "metadata": {},
   "outputs": [],
   "source": []
  },
  {
   "cell_type": "markdown",
   "metadata": {},
   "source": [
    "# 4: Car Sales.\n",
    "\n",
    "Consider the data on used cars (_ToyotaCorolla.csv_) with 1436 records and details on 38 attributes, including Price, Age, KM, HP, and other specifcations. The goal is to predict the price of a used Toyota Corolla based on its specifcations. You will need <a href=\"https://scikit-learn.org/stable/modules/generated/sklearn.neural_network.MLPRegressor.html\">sklearn.neural_network.MLPRegressor</a> so review this documentation first. Try both ‘logistic’ and ‘relu’ activation functions for the hidden layer.<p>\n",
    "__a.__ Fit a neural network model to the data. Use a single hidden layer with 2 nodes. Use predictors Age_08_04, KM, Fuel_Type, HP, Automatic, Doors, Quarterly_Tax, Mfr_Guarantee, Guarantee_Period, Airco, Automatic_airco, CD_Player, Powered_Windows, Sport_Model, and Tow_Bar. Use the scikit-learn transformer _MinMaxScaler()_ to scale numerical variables to the range [0, 1]. Use separate transformer for the input and output data. Try both ‘logistic’ and ‘relu’ activation functions for the hidden layer.<p>\n",
    "<pre>    \n",
    "# Use the training data to learn the transformation (see Table 7.2 in DMBA) rescaling the entire data (numerical variables only) to [0, 1]. \n",
    "scaleInput = MinMaxScaler(feature_range=(0, 1), clip=True)\n",
    "scaleOutput = MinMaxScaler(feature_range=(0, 1), clip=True)\n",
    "# clip=True to clip transformed values of held-out data to provided feature range\n",
    "# Do not scale binary dummy variables.\n",
    "</pre>\n",
    "<p>    \n",
    "To create the dummy variables, use the pandas function pd.get_dummies(). Record the RMS error for the training data and the validation data. Repeat the process, changing the number of hidden layers and nodes to {single layer with 5 nodes}, {two layers, 5 nodes in each layer}.\n",
    "<p>\n",
    "    \n",
    "<pre>\n",
    "From the textbook: \"Using the Output for Prediction and Classification - When the neural network is used for predicting a numerical outcome variable, MLPRegressor() uses an identity activation function (i.e., no activation function). Both predictor and outcome variables should be scaled to a [0, 1] interval before training the network. The output will therefore also be on a [0, 1] scale. To transform the prediction back to the original y units, which were in the range [a, b], we multiply the network output by (b − a) and add a.\"\n",
    "To transform the prediction back to the original y units, use <a href=\"https://stackoverflow.com/questions/59771061/using-inverse-transform-minmaxscaler-from-scikit-learn-to-force-a-dataframe-be-i\">inverse_transform</a>.\n",
    "\n",
    "Example:\n",
    "\n",
    "#Create new data\n",
    "new_data = pd.DataFrame(np.array([[8,20],[11,2],[5,3]]))\n",
    "new_data\n",
    "\n",
    "# Create a Scaler for the new data\n",
    "scaler_new_data = MinMaxScaler() \n",
    "# Trasform new data in the [0-1] range\n",
    "scaled_new_data = scaler_new_data.fit_transform(new_data)\n",
    "scaled_new_data\n",
    "\n",
    "# Inverse transform new data from [0-1] to [min, max] of data\n",
    "inver_new_data = scaler_new_data.inverse_transform(scaled_new_data)\n",
    "inver_new_data\n",
    "\n",
    "</pre>\n",
    "\n"
   ]
  },
  {
   "cell_type": "code",
   "execution_count": null,
   "metadata": {},
   "outputs": [],
   "source": [
    "# load the data\n",
    "car_df = pd.read_csv(DATA / 'ToyotaCorolla.csv')"
   ]
  },
  {
   "cell_type": "code",
   "execution_count": null,
   "metadata": {},
   "outputs": [],
   "source": []
  },
  {
   "cell_type": "markdown",
   "metadata": {},
   "source": [
    "i. What happens to the RMS error for the training data as the number of layers and nodes increases? "
   ]
  },
  {
   "cell_type": "code",
   "execution_count": null,
   "metadata": {},
   "outputs": [],
   "source": []
  },
  {
   "cell_type": "markdown",
   "metadata": {},
   "source": [
    "ii. What happens to the RMS error for the validation data?"
   ]
  },
  {
   "cell_type": "code",
   "execution_count": null,
   "metadata": {},
   "outputs": [],
   "source": []
  },
  {
   "cell_type": "markdown",
   "metadata": {},
   "source": [
    "iii. Comment on the appropriate number of layers and nodes for this application"
   ]
  },
  {
   "cell_type": "code",
   "execution_count": null,
   "metadata": {},
   "outputs": [],
   "source": []
  },
  {
   "cell_type": "markdown",
   "metadata": {},
   "source": [
    "__b.__ Use GridSearchCV() to search for the number of nodes with the best score in a single layer of hidden nodes."
   ]
  },
  {
   "cell_type": "code",
   "execution_count": null,
   "metadata": {},
   "outputs": [],
   "source": []
  }
 ],
 "metadata": {
  "colab": {
   "name": "Ch-11-ProbSolutions-NN.ipynb",
   "provenance": []
  },
  "kernelspec": {
   "display_name": "Python 3",
   "language": "python",
   "name": "python3"
  },
  "language_info": {
   "codemirror_mode": {
    "name": "ipython",
    "version": 3
   },
   "file_extension": ".py",
   "mimetype": "text/x-python",
   "name": "python",
   "nbconvert_exporter": "python",
   "pygments_lexer": "ipython3",
   "version": "3.12.0"
  }
 },
 "nbformat": 4,
 "nbformat_minor": 4
}
