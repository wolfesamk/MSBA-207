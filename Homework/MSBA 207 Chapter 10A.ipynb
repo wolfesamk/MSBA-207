{
 "cells": [
  {
   "cell_type": "markdown",
   "metadata": {},
   "source": [
    "##### <p> Samuel Wolfe <br> September 30, 2023 <br> MSBA 207 <br> Chapter 10a </p>"
   ]
  },
  {
   "cell_type": "code",
   "execution_count": 20,
   "metadata": {},
   "outputs": [],
   "source": [
    "%matplotlib inline\n",
    "from pathlib import Path\n",
    "import numpy as np\n",
    "import pandas as pd\n",
    "from sklearn.linear_model import LogisticRegression, LogisticRegressionCV\n",
    "from sklearn.model_selection import train_test_split\n",
    "import statsmodels.api as sm\n",
    "import statsmodels.formula.api as smf\n",
    "from mord import LogisticIT\n",
    "import matplotlib.pylab as plt\n",
    "import seaborn as sns\n",
    "from dmba import classificationSummary, gainsChart, liftChart\n",
    "from dmba.metric import AIC_score\n",
    "import math\n",
    "from sklearn.preprocessing import StandardScaler"
   ]
  },
  {
   "cell_type": "markdown",
   "metadata": {},
   "source": [
    "## DMBA Chapter 10 - Problem 1"
   ]
  },
  {
   "cell_type": "markdown",
   "metadata": {},
   "source": [
    "#### Loading the data and cutting down to the requisite predictors"
   ]
  },
  {
   "cell_type": "code",
   "execution_count": 21,
   "metadata": {},
   "outputs": [
    {
     "data": {
      "text/html": [
       "<div>\n",
       "<style scoped>\n",
       "    .dataframe tbody tr th:only-of-type {\n",
       "        vertical-align: middle;\n",
       "    }\n",
       "\n",
       "    .dataframe tbody tr th {\n",
       "        vertical-align: top;\n",
       "    }\n",
       "\n",
       "    .dataframe thead th {\n",
       "        text-align: right;\n",
       "    }\n",
       "</style>\n",
       "<table border=\"1\" class=\"dataframe\">\n",
       "  <thead>\n",
       "    <tr style=\"text-align: right;\">\n",
       "      <th></th>\n",
       "      <th>Financial Condition</th>\n",
       "      <th>TotExp/Assets</th>\n",
       "      <th>TotLns&amp;Lses/Assets</th>\n",
       "    </tr>\n",
       "  </thead>\n",
       "  <tbody>\n",
       "    <tr>\n",
       "      <th>0</th>\n",
       "      <td>1</td>\n",
       "      <td>0.12</td>\n",
       "      <td>0.65</td>\n",
       "    </tr>\n",
       "    <tr>\n",
       "      <th>1</th>\n",
       "      <td>1</td>\n",
       "      <td>0.11</td>\n",
       "      <td>0.62</td>\n",
       "    </tr>\n",
       "    <tr>\n",
       "      <th>2</th>\n",
       "      <td>1</td>\n",
       "      <td>0.09</td>\n",
       "      <td>1.02</td>\n",
       "    </tr>\n",
       "    <tr>\n",
       "      <th>3</th>\n",
       "      <td>1</td>\n",
       "      <td>0.10</td>\n",
       "      <td>0.67</td>\n",
       "    </tr>\n",
       "    <tr>\n",
       "      <th>4</th>\n",
       "      <td>1</td>\n",
       "      <td>0.11</td>\n",
       "      <td>0.69</td>\n",
       "    </tr>\n",
       "    <tr>\n",
       "      <th>5</th>\n",
       "      <td>1</td>\n",
       "      <td>0.13</td>\n",
       "      <td>0.74</td>\n",
       "    </tr>\n",
       "    <tr>\n",
       "      <th>6</th>\n",
       "      <td>1</td>\n",
       "      <td>0.10</td>\n",
       "      <td>0.79</td>\n",
       "    </tr>\n",
       "    <tr>\n",
       "      <th>7</th>\n",
       "      <td>1</td>\n",
       "      <td>0.13</td>\n",
       "      <td>0.63</td>\n",
       "    </tr>\n",
       "    <tr>\n",
       "      <th>8</th>\n",
       "      <td>1</td>\n",
       "      <td>0.16</td>\n",
       "      <td>0.72</td>\n",
       "    </tr>\n",
       "    <tr>\n",
       "      <th>9</th>\n",
       "      <td>1</td>\n",
       "      <td>0.16</td>\n",
       "      <td>0.57</td>\n",
       "    </tr>\n",
       "    <tr>\n",
       "      <th>10</th>\n",
       "      <td>0</td>\n",
       "      <td>0.08</td>\n",
       "      <td>0.43</td>\n",
       "    </tr>\n",
       "    <tr>\n",
       "      <th>11</th>\n",
       "      <td>0</td>\n",
       "      <td>0.12</td>\n",
       "      <td>0.80</td>\n",
       "    </tr>\n",
       "    <tr>\n",
       "      <th>12</th>\n",
       "      <td>0</td>\n",
       "      <td>0.07</td>\n",
       "      <td>0.69</td>\n",
       "    </tr>\n",
       "    <tr>\n",
       "      <th>13</th>\n",
       "      <td>0</td>\n",
       "      <td>0.08</td>\n",
       "      <td>0.53</td>\n",
       "    </tr>\n",
       "    <tr>\n",
       "      <th>14</th>\n",
       "      <td>0</td>\n",
       "      <td>0.09</td>\n",
       "      <td>0.73</td>\n",
       "    </tr>\n",
       "    <tr>\n",
       "      <th>15</th>\n",
       "      <td>0</td>\n",
       "      <td>0.09</td>\n",
       "      <td>0.30</td>\n",
       "    </tr>\n",
       "    <tr>\n",
       "      <th>16</th>\n",
       "      <td>0</td>\n",
       "      <td>0.08</td>\n",
       "      <td>0.49</td>\n",
       "    </tr>\n",
       "    <tr>\n",
       "      <th>17</th>\n",
       "      <td>0</td>\n",
       "      <td>0.11</td>\n",
       "      <td>0.55</td>\n",
       "    </tr>\n",
       "    <tr>\n",
       "      <th>18</th>\n",
       "      <td>0</td>\n",
       "      <td>0.08</td>\n",
       "      <td>0.44</td>\n",
       "    </tr>\n",
       "    <tr>\n",
       "      <th>19</th>\n",
       "      <td>0</td>\n",
       "      <td>0.08</td>\n",
       "      <td>0.51</td>\n",
       "    </tr>\n",
       "  </tbody>\n",
       "</table>\n",
       "</div>"
      ],
      "text/plain": [
       "    Financial Condition  TotExp/Assets  TotLns&Lses/Assets\n",
       "0                     1           0.12                0.65\n",
       "1                     1           0.11                0.62\n",
       "2                     1           0.09                1.02\n",
       "3                     1           0.10                0.67\n",
       "4                     1           0.11                0.69\n",
       "5                     1           0.13                0.74\n",
       "6                     1           0.10                0.79\n",
       "7                     1           0.13                0.63\n",
       "8                     1           0.16                0.72\n",
       "9                     1           0.16                0.57\n",
       "10                    0           0.08                0.43\n",
       "11                    0           0.12                0.80\n",
       "12                    0           0.07                0.69\n",
       "13                    0           0.08                0.53\n",
       "14                    0           0.09                0.73\n",
       "15                    0           0.09                0.30\n",
       "16                    0           0.08                0.49\n",
       "17                    0           0.11                0.55\n",
       "18                    0           0.08                0.44\n",
       "19                    0           0.08                0.51"
      ]
     },
     "execution_count": 21,
     "metadata": {},
     "output_type": "execute_result"
    }
   ],
   "source": [
    "#keepers = ['Selected','Default','New','RealEstate','DisbursementGross','Portion','Recession']\n",
    "drops = ['Obs','TotCap/Assets']\n",
    "\n",
    "DATA = Path('E:/Aliit/School/MSBA/206/MSBA-206/dmba')\n",
    "\n",
    "banks_df = pd.read_csv(DATA / 'Banks.csv')\n",
    "banks_df = banks_df.drop(columns=drops)\n",
    "banks_df"
   ]
  },
  {
   "cell_type": "code",
   "execution_count": 22,
   "metadata": {},
   "outputs": [],
   "source": [
    "y = banks_df['Financial Condition']\n",
    "X = banks_df.drop(columns=['Financial Condition'])\n",
    "#X2 = sm.add_constant(X, prepend=True)\n",
    "# partition data\n",
    "train_X, valid_X, train_y, valid_y = train_test_split(X, y, test_size=0.4, random_state=1)"
   ]
  },
  {
   "cell_type": "code",
   "execution_count": 23,
   "metadata": {},
   "outputs": [
    {
     "name": "stdout",
     "output_type": "stream",
     "text": [
      "intercept -14.72100809095756\n",
      "       TotExp/Assets  TotLns&Lses/Assets\n",
      "coeff      89.833916             8.37132\n",
      "AIC 18.705839468305996\n"
     ]
    }
   ],
   "source": [
    "logit_reg = LogisticRegression(penalty=\"l2\", C=1e42, solver='liblinear', tol=1e-8)\n",
    "logit_reg.fit(X,y)\n",
    "print('intercept', logit_reg.intercept_[0])\n",
    "print(pd.DataFrame({'coeff': logit_reg.coef_[0]}, index=X.columns).transpose())\n",
    "print('AIC', AIC_score(y, logit_reg.predict(X), df = len(X.columns) +1))"
   ]
  },
  {
   "cell_type": "markdown",
   "metadata": {},
   "source": [
    "#### <p> 10.1.a where b_0 is expected result when variables are 0, b_1 is coef of 'TotExp/Assets', b_2 is coef of 'TotLns&Lses/Assets', iv_1 is 'TotExp/Assets', and iv_2 is 'TotLns&Lses/Assets'.<br>(i) logit = b_0 + b_1 * iv_1 + b_2 * iv_2<br>logit = -14.7210 + (89.8339 * TotExp/Assets) + (8.3713 * TotLns&Lses) <br>(ii) Odds(Financial Condition = 1 | TotExp/Assets = iv_1 & TotLns&Lses/Assets = iv_2) = 1/(e^(b_0 + b_1 * iv_1 + b_2 * iv_2))<br> Odds = e^[-14.7210 + (89.8339 * TotExp/Assets) + (8.3713 * TotLns&Lses)]<br>(iii) Prob = odds/(1+odds)<br>prob = 1/(1 + e^[-14.7210 + (89.8339 * TotExp/Assets) + (8.3713 * TotLns&Lses)])</p>  "
   ]
  },
  {
   "cell_type": "code",
   "execution_count": 24,
   "metadata": {},
   "outputs": [
    {
     "data": {
      "text/html": [
       "<div>\n",
       "<style scoped>\n",
       "    .dataframe tbody tr th:only-of-type {\n",
       "        vertical-align: middle;\n",
       "    }\n",
       "\n",
       "    .dataframe tbody tr th {\n",
       "        vertical-align: top;\n",
       "    }\n",
       "\n",
       "    .dataframe thead th {\n",
       "        text-align: right;\n",
       "    }\n",
       "</style>\n",
       "<table border=\"1\" class=\"dataframe\">\n",
       "  <thead>\n",
       "    <tr style=\"text-align: right;\">\n",
       "      <th></th>\n",
       "      <th>TotExp/Assets</th>\n",
       "      <th>TotLns&amp;Lses/Assets</th>\n",
       "    </tr>\n",
       "  </thead>\n",
       "  <tbody>\n",
       "    <tr>\n",
       "      <th>0</th>\n",
       "      <td>0.11</td>\n",
       "      <td>0.6</td>\n",
       "    </tr>\n",
       "  </tbody>\n",
       "</table>\n",
       "</div>"
      ],
      "text/plain": [
       "   TotExp/Assets  TotLns&Lses/Assets\n",
       "0           0.11                 0.6"
      ]
     },
     "execution_count": 24,
     "metadata": {},
     "output_type": "execute_result"
    }
   ],
   "source": [
    "testData = pd.DataFrame({'TotExp/Assets': [0.11],\n",
    "                         'TotLns&Lses/Assets': [0.6]})\n",
    "testData"
   ]
  },
  {
   "cell_type": "code",
   "execution_count": 25,
   "metadata": {},
   "outputs": [],
   "source": [
    "TotExpAssets = 0.11\n",
    "TotLnsLses = 0.6"
   ]
  },
  {
   "cell_type": "markdown",
   "metadata": {},
   "source": [
    "#### <p>10.1.b See below.</p>"
   ]
  },
  {
   "cell_type": "code",
   "execution_count": 26,
   "metadata": {},
   "outputs": [],
   "source": [
    "logit = round(-14.7210 + (89.8339 * TotExpAssets) + (8.3713 * TotLnsLses), 6)\n",
    "Odds = round(math.exp(logit), 6)\n",
    "prob = round(Odds/(1 + Odds), 6)"
   ]
  },
  {
   "cell_type": "code",
   "execution_count": 27,
   "metadata": {},
   "outputs": [
    {
     "data": {
      "text/plain": [
       "0.183509"
      ]
     },
     "execution_count": 27,
     "metadata": {},
     "output_type": "execute_result"
    }
   ],
   "source": [
    "logit"
   ]
  },
  {
   "cell_type": "code",
   "execution_count": 28,
   "metadata": {},
   "outputs": [
    {
     "data": {
      "text/plain": [
       "1.201426"
      ]
     },
     "execution_count": 28,
     "metadata": {},
     "output_type": "execute_result"
    }
   ],
   "source": [
    "Odds"
   ]
  },
  {
   "cell_type": "code",
   "execution_count": 29,
   "metadata": {},
   "outputs": [
    {
     "data": {
      "text/plain": [
       "0.545749"
      ]
     },
     "execution_count": 29,
     "metadata": {},
     "output_type": "execute_result"
    }
   ],
   "source": [
    "prob"
   ]
  },
  {
   "cell_type": "markdown",
   "metadata": {},
   "source": [
    "#### 10.1.c If the cutoff is p=.5 then the odds will be 1. Which means if the odds are greater than 1 then the status will be weak. then with logit will be 0 meaning if the logit output is greater than 0 status will be weak."
   ]
  },
  {
   "cell_type": "markdown",
   "metadata": {},
   "source": [
    "#### 10.1.d Looking at the coef for the 'TotLns&Lses/Assets', -3.5993, it is telling us that for every 1 unit gain in this variable value the odds of being 'Financial Condition' = 0 goes up by 4321.3364."
   ]
  },
  {
   "cell_type": "code",
   "execution_count": 30,
   "metadata": {},
   "outputs": [
    {
     "data": {
      "text/plain": [
       "4321.336463737168"
      ]
     },
     "execution_count": 30,
     "metadata": {},
     "output_type": "execute_result"
    }
   ],
   "source": [
    "math.exp(8.37132)"
   ]
  },
  {
   "cell_type": "code",
   "execution_count": 31,
   "metadata": {},
   "outputs": [
    {
     "data": {
      "text/plain": [
       "1.0336511842979622e+39"
      ]
     },
     "execution_count": 31,
     "metadata": {},
     "output_type": "execute_result"
    }
   ],
   "source": [
    "math.exp(89.833916)"
   ]
  },
  {
   "cell_type": "markdown",
   "metadata": {},
   "source": [
    "#### 10.1.e Given that misclassification cost is HIGHER when a bank with poor financial condition is misclassified as if it is in good financial condition, it would be best to decrease the threshold as we are classifying for poor financial condition. This might lower the accuracy of the model, but in this case it is better to miss opportunities than misclassify a poor financial condition bank."
   ]
  },
  {
   "cell_type": "markdown",
   "metadata": {},
   "source": [
    "## 10.4"
   ]
  },
  {
   "cell_type": "code",
   "execution_count": 32,
   "metadata": {},
   "outputs": [
    {
     "name": "stdout",
     "output_type": "stream",
     "text": [
      "              Category currency  sellerRating  Duration endDay  ClosePrice  OpenPrice  Competitive?\n",
      "0     Music/Movie/Game       US          3249         5    Mon        0.01       0.01             0\n",
      "1     Music/Movie/Game       US          3249         5    Mon        0.01       0.01             0\n",
      "2     Music/Movie/Game       US          3249         5    Mon        0.01       0.01             0\n",
      "3     Music/Movie/Game       US          3249         5    Mon        0.01       0.01             0\n",
      "4     Music/Movie/Game       US          3249         5    Mon        0.01       0.01             0\n",
      "...                ...      ...           ...       ...    ...         ...        ...           ...\n",
      "1967        Automotive       US          2992         5    Sun      359.95     359.95             0\n",
      "1968        Automotive       US            21         5    Sat      610.00     300.00             1\n",
      "1969        Automotive       US          1400         5    Mon      549.00     549.00             0\n",
      "1970        Automotive       US            57         7    Fri      820.00     650.00             1\n",
      "1971        Automotive       US           145         7    Sat      999.00     999.00             0\n",
      "\n",
      "[1972 rows x 8 columns]\n",
      "Category         object\n",
      "currency         object\n",
      "sellerRating      int64\n",
      "Duration          int64\n",
      "endDay           object\n",
      "ClosePrice      float64\n",
      "OpenPrice       float64\n",
      "Competitive?      int64\n",
      "dtype: object\n"
     ]
    }
   ],
   "source": [
    "#keepers = ['Selected','Default','New','RealEstate','DisbursementGross','Portion','Recession']\n",
    "drops = ['Obs','TotCap/Assets']\n",
    "\n",
    "DATA = Path('E:/Aliit/School/MSBA/206/MSBA-206/dmba')\n",
    "\n",
    "ebay_df = pd.read_csv(DATA / 'eBayAuctions.csv')\n",
    "#banks_df = banks_df.drop(columns=drops)\n",
    "pd.set_option('display.width', 200)\n",
    "print(ebay_df)\n",
    "print(ebay_df.dtypes)"
   ]
  },
  {
   "cell_type": "code",
   "execution_count": 33,
   "metadata": {},
   "outputs": [
    {
     "name": "stdout",
     "output_type": "stream",
     "text": [
      "Category        category\n",
      "currency        category\n",
      "sellerRating       int64\n",
      "Duration        category\n",
      "endDay          category\n",
      "ClosePrice       float64\n",
      "OpenPrice        float64\n",
      "Competitive?       int64\n",
      "dtype: object\n"
     ]
    }
   ],
   "source": [
    "ebay_df['Category'] = ebay_df['Category'].astype('category')\n",
    "ebay_df['currency'] = ebay_df['currency'].astype('category')\n",
    "ebay_df['Duration'] = ebay_df['Duration'].astype('category')\n",
    "ebay_df['endDay'] = ebay_df['endDay'].astype('category')\n",
    "print(ebay_df.dtypes)"
   ]
  },
  {
   "cell_type": "code",
   "execution_count": 34,
   "metadata": {},
   "outputs": [
    {
     "name": "stderr",
     "output_type": "stream",
     "text": [
      "C:\\Users\\Sam\\AppData\\Local\\Temp\\ipykernel_44808\\119725634.py:1: FutureWarning: The provided callable <function mean at 0x0000023B7F2553A0> is currently using DataFrameGroupBy.mean. In a future version of pandas, the provided callable will be used directly. To keep current behavior pass the string \"mean\" instead.\n",
      "  table1 = pd.pivot_table(ebay_df, index=['Category'], values='Competitive?', aggfunc=[np.mean]).sort_values(by=[('mean','Competitive?')])\n"
     ]
    },
    {
     "data": {
      "text/html": [
       "<div>\n",
       "<style scoped>\n",
       "    .dataframe tbody tr th:only-of-type {\n",
       "        vertical-align: middle;\n",
       "    }\n",
       "\n",
       "    .dataframe tbody tr th {\n",
       "        vertical-align: top;\n",
       "    }\n",
       "\n",
       "    .dataframe thead tr th {\n",
       "        text-align: left;\n",
       "    }\n",
       "\n",
       "    .dataframe thead tr:last-of-type th {\n",
       "        text-align: right;\n",
       "    }\n",
       "</style>\n",
       "<table border=\"1\" class=\"dataframe\">\n",
       "  <thead>\n",
       "    <tr>\n",
       "      <th></th>\n",
       "      <th>mean</th>\n",
       "    </tr>\n",
       "    <tr>\n",
       "      <th></th>\n",
       "      <th>Competitive?</th>\n",
       "    </tr>\n",
       "    <tr>\n",
       "      <th>Category</th>\n",
       "      <th></th>\n",
       "    </tr>\n",
       "  </thead>\n",
       "  <tbody>\n",
       "    <tr>\n",
       "      <th>Health/Beauty</th>\n",
       "      <td>0.171875</td>\n",
       "    </tr>\n",
       "    <tr>\n",
       "      <th>EverythingElse</th>\n",
       "      <td>0.235294</td>\n",
       "    </tr>\n",
       "    <tr>\n",
       "      <th>Coins/Stamps</th>\n",
       "      <td>0.297297</td>\n",
       "    </tr>\n",
       "    <tr>\n",
       "      <th>Pottery/Glass</th>\n",
       "      <td>0.350000</td>\n",
       "    </tr>\n",
       "    <tr>\n",
       "      <th>Automotive</th>\n",
       "      <td>0.353933</td>\n",
       "    </tr>\n",
       "    <tr>\n",
       "      <th>Jewelry</th>\n",
       "      <td>0.365854</td>\n",
       "    </tr>\n",
       "    <tr>\n",
       "      <th>Books</th>\n",
       "      <td>0.500000</td>\n",
       "    </tr>\n",
       "    <tr>\n",
       "      <th>Clothing/Accessories</th>\n",
       "      <td>0.504202</td>\n",
       "    </tr>\n",
       "    <tr>\n",
       "      <th>Toys/Hobbies</th>\n",
       "      <td>0.529915</td>\n",
       "    </tr>\n",
       "    <tr>\n",
       "      <th>Antique/Art/Craft</th>\n",
       "      <td>0.564972</td>\n",
       "    </tr>\n",
       "    <tr>\n",
       "      <th>Collectibles</th>\n",
       "      <td>0.577406</td>\n",
       "    </tr>\n",
       "    <tr>\n",
       "      <th>Music/Movie/Game</th>\n",
       "      <td>0.602978</td>\n",
       "    </tr>\n",
       "    <tr>\n",
       "      <th>Home/Garden</th>\n",
       "      <td>0.656863</td>\n",
       "    </tr>\n",
       "    <tr>\n",
       "      <th>Computer</th>\n",
       "      <td>0.666667</td>\n",
       "    </tr>\n",
       "    <tr>\n",
       "      <th>Business/Industrial</th>\n",
       "      <td>0.666667</td>\n",
       "    </tr>\n",
       "    <tr>\n",
       "      <th>SportingGoods</th>\n",
       "      <td>0.725806</td>\n",
       "    </tr>\n",
       "    <tr>\n",
       "      <th>Electronics</th>\n",
       "      <td>0.800000</td>\n",
       "    </tr>\n",
       "    <tr>\n",
       "      <th>Photography</th>\n",
       "      <td>0.846154</td>\n",
       "    </tr>\n",
       "  </tbody>\n",
       "</table>\n",
       "</div>"
      ],
      "text/plain": [
       "                             mean\n",
       "                     Competitive?\n",
       "Category                         \n",
       "Health/Beauty            0.171875\n",
       "EverythingElse           0.235294\n",
       "Coins/Stamps             0.297297\n",
       "Pottery/Glass            0.350000\n",
       "Automotive               0.353933\n",
       "Jewelry                  0.365854\n",
       "Books                    0.500000\n",
       "Clothing/Accessories     0.504202\n",
       "Toys/Hobbies             0.529915\n",
       "Antique/Art/Craft        0.564972\n",
       "Collectibles             0.577406\n",
       "Music/Movie/Game         0.602978\n",
       "Home/Garden              0.656863\n",
       "Computer                 0.666667\n",
       "Business/Industrial      0.666667\n",
       "SportingGoods            0.725806\n",
       "Electronics              0.800000\n",
       "Photography              0.846154"
      ]
     },
     "execution_count": 34,
     "metadata": {},
     "output_type": "execute_result"
    }
   ],
   "source": [
    "table1 = pd.pivot_table(ebay_df, index=['Category'], values='Competitive?', aggfunc=[np.mean]).sort_values(by=[('mean','Competitive?')])\n",
    "table1"
   ]
  },
  {
   "cell_type": "code",
   "execution_count": 35,
   "metadata": {},
   "outputs": [
    {
     "name": "stderr",
     "output_type": "stream",
     "text": [
      "C:\\Users\\Sam\\AppData\\Local\\Temp\\ipykernel_44808\\3604635627.py:1: FutureWarning: The provided callable <function mean at 0x0000023B7F2553A0> is currently using DataFrameGroupBy.mean. In a future version of pandas, the provided callable will be used directly. To keep current behavior pass the string \"mean\" instead.\n",
      "  table2 = pd.pivot_table(ebay_df, index=['currency'], values='Competitive?', aggfunc=[np.mean]).sort_values(by=[('mean','Competitive?')])\n"
     ]
    },
    {
     "data": {
      "text/html": [
       "<div>\n",
       "<style scoped>\n",
       "    .dataframe tbody tr th:only-of-type {\n",
       "        vertical-align: middle;\n",
       "    }\n",
       "\n",
       "    .dataframe tbody tr th {\n",
       "        vertical-align: top;\n",
       "    }\n",
       "\n",
       "    .dataframe thead tr th {\n",
       "        text-align: left;\n",
       "    }\n",
       "\n",
       "    .dataframe thead tr:last-of-type th {\n",
       "        text-align: right;\n",
       "    }\n",
       "</style>\n",
       "<table border=\"1\" class=\"dataframe\">\n",
       "  <thead>\n",
       "    <tr>\n",
       "      <th></th>\n",
       "      <th>mean</th>\n",
       "    </tr>\n",
       "    <tr>\n",
       "      <th></th>\n",
       "      <th>Competitive?</th>\n",
       "    </tr>\n",
       "    <tr>\n",
       "      <th>currency</th>\n",
       "      <th></th>\n",
       "    </tr>\n",
       "  </thead>\n",
       "  <tbody>\n",
       "    <tr>\n",
       "      <th>US</th>\n",
       "      <td>0.519350</td>\n",
       "    </tr>\n",
       "    <tr>\n",
       "      <th>EUR</th>\n",
       "      <td>0.551595</td>\n",
       "    </tr>\n",
       "    <tr>\n",
       "      <th>GBP</th>\n",
       "      <td>0.687075</td>\n",
       "    </tr>\n",
       "  </tbody>\n",
       "</table>\n",
       "</div>"
      ],
      "text/plain": [
       "                 mean\n",
       "         Competitive?\n",
       "currency             \n",
       "US           0.519350\n",
       "EUR          0.551595\n",
       "GBP          0.687075"
      ]
     },
     "execution_count": 35,
     "metadata": {},
     "output_type": "execute_result"
    }
   ],
   "source": [
    "table2 = pd.pivot_table(ebay_df, index=['currency'], values='Competitive?', aggfunc=[np.mean]).sort_values(by=[('mean','Competitive?')])\n",
    "table2"
   ]
  },
  {
   "cell_type": "markdown",
   "metadata": {},
   "source": [
    "#### I could not get the pivot table to display anything legible.\n"
   ]
  },
  {
   "cell_type": "code",
   "execution_count": 36,
   "metadata": {},
   "outputs": [
    {
     "data": {
      "text/html": [
       "<div>\n",
       "<style scoped>\n",
       "    .dataframe tbody tr th:only-of-type {\n",
       "        vertical-align: middle;\n",
       "    }\n",
       "\n",
       "    .dataframe tbody tr th {\n",
       "        vertical-align: top;\n",
       "    }\n",
       "\n",
       "    .dataframe thead th {\n",
       "        text-align: right;\n",
       "    }\n",
       "</style>\n",
       "<table border=\"1\" class=\"dataframe\">\n",
       "  <thead>\n",
       "    <tr style=\"text-align: right;\">\n",
       "      <th></th>\n",
       "      <th>Category</th>\n",
       "      <th>currency</th>\n",
       "      <th>sellerRating</th>\n",
       "      <th>Duration</th>\n",
       "      <th>endDay</th>\n",
       "      <th>ClosePrice</th>\n",
       "      <th>OpenPrice</th>\n",
       "      <th>Competitive?</th>\n",
       "    </tr>\n",
       "  </thead>\n",
       "  <tbody>\n",
       "    <tr>\n",
       "      <th>0</th>\n",
       "      <td>Music/Movie/Game</td>\n",
       "      <td>US</td>\n",
       "      <td>3249</td>\n",
       "      <td>5</td>\n",
       "      <td>Mon</td>\n",
       "      <td>0.01</td>\n",
       "      <td>0.01</td>\n",
       "      <td>0</td>\n",
       "    </tr>\n",
       "    <tr>\n",
       "      <th>1</th>\n",
       "      <td>Music/Movie/Game</td>\n",
       "      <td>US</td>\n",
       "      <td>3249</td>\n",
       "      <td>5</td>\n",
       "      <td>Mon</td>\n",
       "      <td>0.01</td>\n",
       "      <td>0.01</td>\n",
       "      <td>0</td>\n",
       "    </tr>\n",
       "    <tr>\n",
       "      <th>2</th>\n",
       "      <td>Music/Movie/Game</td>\n",
       "      <td>US</td>\n",
       "      <td>3249</td>\n",
       "      <td>5</td>\n",
       "      <td>Mon</td>\n",
       "      <td>0.01</td>\n",
       "      <td>0.01</td>\n",
       "      <td>0</td>\n",
       "    </tr>\n",
       "    <tr>\n",
       "      <th>3</th>\n",
       "      <td>Music/Movie/Game</td>\n",
       "      <td>US</td>\n",
       "      <td>3249</td>\n",
       "      <td>5</td>\n",
       "      <td>Mon</td>\n",
       "      <td>0.01</td>\n",
       "      <td>0.01</td>\n",
       "      <td>0</td>\n",
       "    </tr>\n",
       "    <tr>\n",
       "      <th>4</th>\n",
       "      <td>Music/Movie/Game</td>\n",
       "      <td>US</td>\n",
       "      <td>3249</td>\n",
       "      <td>5</td>\n",
       "      <td>Mon</td>\n",
       "      <td>0.01</td>\n",
       "      <td>0.01</td>\n",
       "      <td>0</td>\n",
       "    </tr>\n",
       "    <tr>\n",
       "      <th>...</th>\n",
       "      <td>...</td>\n",
       "      <td>...</td>\n",
       "      <td>...</td>\n",
       "      <td>...</td>\n",
       "      <td>...</td>\n",
       "      <td>...</td>\n",
       "      <td>...</td>\n",
       "      <td>...</td>\n",
       "    </tr>\n",
       "    <tr>\n",
       "      <th>1967</th>\n",
       "      <td>Automotive and Pottery/Glass</td>\n",
       "      <td>US</td>\n",
       "      <td>2992</td>\n",
       "      <td>5</td>\n",
       "      <td>Sun, Wed, Fri</td>\n",
       "      <td>359.95</td>\n",
       "      <td>359.95</td>\n",
       "      <td>0</td>\n",
       "    </tr>\n",
       "    <tr>\n",
       "      <th>1968</th>\n",
       "      <td>Automotive and Pottery/Glass</td>\n",
       "      <td>US</td>\n",
       "      <td>21</td>\n",
       "      <td>5</td>\n",
       "      <td>Sat</td>\n",
       "      <td>610.00</td>\n",
       "      <td>300.00</td>\n",
       "      <td>1</td>\n",
       "    </tr>\n",
       "    <tr>\n",
       "      <th>1969</th>\n",
       "      <td>Automotive and Pottery/Glass</td>\n",
       "      <td>US</td>\n",
       "      <td>1400</td>\n",
       "      <td>5</td>\n",
       "      <td>Mon</td>\n",
       "      <td>549.00</td>\n",
       "      <td>549.00</td>\n",
       "      <td>0</td>\n",
       "    </tr>\n",
       "    <tr>\n",
       "      <th>1970</th>\n",
       "      <td>Automotive and Pottery/Glass</td>\n",
       "      <td>US</td>\n",
       "      <td>57</td>\n",
       "      <td>7</td>\n",
       "      <td>Sun, Wed, Fri</td>\n",
       "      <td>820.00</td>\n",
       "      <td>650.00</td>\n",
       "      <td>1</td>\n",
       "    </tr>\n",
       "    <tr>\n",
       "      <th>1971</th>\n",
       "      <td>Automotive and Pottery/Glass</td>\n",
       "      <td>US</td>\n",
       "      <td>145</td>\n",
       "      <td>7</td>\n",
       "      <td>Sat</td>\n",
       "      <td>999.00</td>\n",
       "      <td>999.00</td>\n",
       "      <td>0</td>\n",
       "    </tr>\n",
       "  </tbody>\n",
       "</table>\n",
       "<p>1972 rows × 8 columns</p>\n",
       "</div>"
      ],
      "text/plain": [
       "                          Category currency  sellerRating Duration         endDay  ClosePrice  OpenPrice  Competitive?\n",
       "0                 Music/Movie/Game       US          3249        5            Mon        0.01       0.01             0\n",
       "1                 Music/Movie/Game       US          3249        5            Mon        0.01       0.01             0\n",
       "2                 Music/Movie/Game       US          3249        5            Mon        0.01       0.01             0\n",
       "3                 Music/Movie/Game       US          3249        5            Mon        0.01       0.01             0\n",
       "4                 Music/Movie/Game       US          3249        5            Mon        0.01       0.01             0\n",
       "...                            ...      ...           ...      ...            ...         ...        ...           ...\n",
       "1967  Automotive and Pottery/Glass       US          2992        5  Sun, Wed, Fri      359.95     359.95             0\n",
       "1968  Automotive and Pottery/Glass       US            21        5            Sat      610.00     300.00             1\n",
       "1969  Automotive and Pottery/Glass       US          1400        5            Mon      549.00     549.00             0\n",
       "1970  Automotive and Pottery/Glass       US            57        7  Sun, Wed, Fri      820.00     650.00             1\n",
       "1971  Automotive and Pottery/Glass       US           145        7            Sat      999.00     999.00             0\n",
       "\n",
       "[1972 rows x 8 columns]"
      ]
     },
     "execution_count": 36,
     "metadata": {},
     "output_type": "execute_result"
    }
   ],
   "source": [
    "ebay_df.replace(['Sun','Wed','Fri'],'Sun, Wed, Fri', inplace=True)\n",
    "ebay_df.replace(['Business/Industrial','Computer','Home/Garden'],'Business/Industrial, Computer, and Home/Garden', inplace=True)\n",
    "ebay_df.replace(['Antique/Art/Craft', 'Collectibles'],'Antique/Art/Craft and Collectibles', inplace=True)\n",
    "ebay_df.replace(['Automotive','Pottery/Glass'],'Automotive and Pottery/Glass', inplace=True)\n",
    "ebay_df.replace(['Books','Clothing/Accessories'],'Books and Clothing/Accessories', inplace=True)\n",
    "ebay_df"
   ]
  },
  {
   "cell_type": "code",
   "execution_count": 37,
   "metadata": {},
   "outputs": [],
   "source": [
    "ebay_df_dum = pd.get_dummies(ebay_df,drop_first=False)"
   ]
  },
  {
   "cell_type": "markdown",
   "metadata": {},
   "source": [
    "#### 10.4.b Found below"
   ]
  },
  {
   "cell_type": "code",
   "execution_count": 38,
   "metadata": {},
   "outputs": [],
   "source": [
    "y = ebay_df_dum['Competitive?']\n",
    "X = ebay_df_dum.drop(columns=['Competitive?'])\n",
    "\n",
    "# partition data\n",
    "train_X, valid_X, train_y, valid_y = train_test_split(X, y, test_size=0.4, random_state=1)\n",
    "# Initiate scaler\n",
    "sc = StandardScaler()\n",
    "# Standardize the training dataset\n",
    "X_train_transformed = pd.DataFrame(sc.fit_transform(train_X),index=train_X.index, columns=train_X.columns)\n",
    "# Standardized the testing dataset\n",
    "X_valid_transformed = pd.DataFrame(sc.transform(valid_X),index=valid_X.index, columns=valid_X.columns)"
   ]
  },
  {
   "cell_type": "code",
   "execution_count": 39,
   "metadata": {},
   "outputs": [
    {
     "name": "stdout",
     "output_type": "stream",
     "text": [
      "Confusion Matrix (Accuracy 0.7529)\n",
      "\n",
      "       Prediction\n",
      "Actual   0   1\n",
      "     0 290  63\n",
      "     1 132 304\n"
     ]
    },
    {
     "name": "stderr",
     "output_type": "stream",
     "text": [
      "C:\\Users\\Sam\\AppData\\Roaming\\Python\\Python312\\site-packages\\statsmodels\\genmod\\families\\links.py:198: RuntimeWarning: overflow encountered in exp\n",
      "  t = np.exp(-z)\n"
     ]
    }
   ],
   "source": [
    "X_train_transformed_X2 = sm.add_constant(X_train_transformed, prepend=True)\n",
    "X_valid_transformed_X2 = sm.add_constant(X_valid_transformed, prepend=True)\n",
    "logit_full = sm.GLM(train_y, X_train_transformed_X2, family=sm.families.Binomial())\n",
    "logit_result = logit_full.fit()\n",
    "\n",
    "\n",
    "ebayFull = logit_result.predict(X_valid_transformed_X2)\n",
    "ebayFull_nominal = [ 0 if x < 0.5 else 1 for x in ebayFull]\n",
    "classificationSummary(valid_y, ebayFull_nominal)"
   ]
  },
  {
   "cell_type": "markdown",
   "metadata": {},
   "source": [
    "#### 10.4.c Found below"
   ]
  },
  {
   "cell_type": "code",
   "execution_count": 40,
   "metadata": {},
   "outputs": [
    {
     "name": "stdout",
     "output_type": "stream",
     "text": [
      "Confusion Matrix (Accuracy 0.6286)\n",
      "\n",
      "       Prediction\n",
      "Actual   0   1\n",
      "     0 236 117\n",
      "     1 176 260\n"
     ]
    }
   ],
   "source": [
    "#X_train_transformed_X2 = sm.add_constant(X_train_transformed.drop(columns='ClosePrice'), prepend=True)\n",
    "logit_part = sm.GLM(train_y, X_train_transformed.drop(columns='ClosePrice'), family=sm.families.Binomial())\n",
    "logit_result_part = logit_part.fit()\n",
    "\n",
    "ebayPart = logit_result_part.predict(X_valid_transformed.drop(columns='ClosePrice'))\n",
    "ebayPart_nominal = [ 0 if x < 0.5 else 1 for x in ebayPart]\n",
    "classificationSummary(valid_y, ebayPart_nominal)"
   ]
  },
  {
   "cell_type": "markdown",
   "metadata": {},
   "source": [
    "#### 10.4.c If we compare the accuracy of the two models, we see that our accuracy has gone down. This can be seen as a good thing though as the question explains, we cannot know the closing price. We can however create a model to predict what the closing price may be given the items category and other data, thus allowing us to predict if the auction will be competitive."
   ]
  },
  {
   "cell_type": "code",
   "execution_count": 41,
   "metadata": {},
   "outputs": [
    {
     "data": {
      "text/html": [
       "<table class=\"simpletable\">\n",
       "<caption>Generalized Linear Model Regression Results</caption>\n",
       "<tr>\n",
       "  <th>Dep. Variable:</th>     <td>Competitive?</td>   <th>  No. Observations:  </th>  <td>  1183</td> \n",
       "</tr>\n",
       "<tr>\n",
       "  <th>Model:</th>                  <td>GLM</td>       <th>  Df Residuals:      </th>  <td>  1157</td> \n",
       "</tr>\n",
       "<tr>\n",
       "  <th>Model Family:</th>        <td>Binomial</td>     <th>  Df Model:          </th>  <td>    25</td> \n",
       "</tr>\n",
       "<tr>\n",
       "  <th>Link Function:</th>         <td>Logit</td>      <th>  Scale:             </th> <td>  1.0000</td>\n",
       "</tr>\n",
       "<tr>\n",
       "  <th>Method:</th>                <td>IRLS</td>       <th>  Log-Likelihood:    </th> <td> -600.60</td>\n",
       "</tr>\n",
       "<tr>\n",
       "  <th>Date:</th>            <td>Mon, 23 Oct 2023</td> <th>  Deviance:          </th> <td>  1201.2</td>\n",
       "</tr>\n",
       "<tr>\n",
       "  <th>Time:</th>                <td>17:54:13</td>     <th>  Pearson chi2:      </th> <td>1.48e+08</td>\n",
       "</tr>\n",
       "<tr>\n",
       "  <th>No. Iterations:</th>         <td>100</td>       <th>  Pseudo R-squ. (CS):</th>  <td>0.3070</td> \n",
       "</tr>\n",
       "<tr>\n",
       "  <th>Covariance Type:</th>     <td>nonrobust</td>    <th>                     </th>     <td> </td>   \n",
       "</tr>\n",
       "</table>\n",
       "<table class=\"simpletable\">\n",
       "<tr>\n",
       "                             <td></td>                                <th>coef</th>     <th>std err</th>      <th>z</th>      <th>P>|z|</th>  <th>[0.025</th>    <th>0.975]</th>  \n",
       "</tr>\n",
       "<tr>\n",
       "  <th>const</th>                                                   <td> 3.046e+13</td> <td>  1.6e+05</td> <td>  1.9e+08</td> <td> 0.000</td> <td> 3.05e+13</td> <td> 3.05e+13</td>\n",
       "</tr>\n",
       "<tr>\n",
       "  <th>sellerRating</th>                                            <td>   -0.2599</td> <td>    0.098</td> <td>   -2.639</td> <td> 0.008</td> <td>   -0.453</td> <td>   -0.067</td>\n",
       "</tr>\n",
       "<tr>\n",
       "  <th>ClosePrice</th>                                              <td>    7.3635</td> <td>    0.833</td> <td>    8.837</td> <td> 0.000</td> <td>    5.730</td> <td>    8.997</td>\n",
       "</tr>\n",
       "<tr>\n",
       "  <th>OpenPrice</th>                                               <td>   -4.2135</td> <td>    0.456</td> <td>   -9.239</td> <td> 0.000</td> <td>   -5.107</td> <td>   -3.320</td>\n",
       "</tr>\n",
       "<tr>\n",
       "  <th>Category_Antique/Art/Craft and Collectibles</th>             <td>-1.431e+13</td> <td> 7.54e+04</td> <td> -1.9e+08</td> <td> 0.000</td> <td>-1.43e+13</td> <td>-1.43e+13</td>\n",
       "</tr>\n",
       "<tr>\n",
       "  <th>Category_Automotive and Pottery/Glass</th>                   <td>-1.064e+13</td> <td> 5.61e+04</td> <td> -1.9e+08</td> <td> 0.000</td> <td>-1.06e+13</td> <td>-1.06e+13</td>\n",
       "</tr>\n",
       "<tr>\n",
       "  <th>Category_Books and Clothing/Accessories</th>                 <td>-9.914e+12</td> <td> 5.22e+04</td> <td> -1.9e+08</td> <td> 0.000</td> <td>-9.91e+12</td> <td>-9.91e+12</td>\n",
       "</tr>\n",
       "<tr>\n",
       "  <th>Category_Business/Industrial, Computer, and Home/Garden</th> <td>-9.519e+12</td> <td> 5.02e+04</td> <td> -1.9e+08</td> <td> 0.000</td> <td>-9.52e+12</td> <td>-9.52e+12</td>\n",
       "</tr>\n",
       "<tr>\n",
       "  <th>Category_Coins/Stamps</th>                                   <td>-4.813e+12</td> <td> 2.54e+04</td> <td> -1.9e+08</td> <td> 0.000</td> <td>-4.81e+12</td> <td>-4.81e+12</td>\n",
       "</tr>\n",
       "<tr>\n",
       "  <th>Category_Electronics</th>                                    <td>-5.481e+12</td> <td> 2.89e+04</td> <td> -1.9e+08</td> <td> 0.000</td> <td>-5.48e+12</td> <td>-5.48e+12</td>\n",
       "</tr>\n",
       "<tr>\n",
       "  <th>Category_EverythingElse</th>                                 <td>-3.346e+12</td> <td> 1.76e+04</td> <td> -1.9e+08</td> <td> 0.000</td> <td>-3.35e+12</td> <td>-3.35e+12</td>\n",
       "</tr>\n",
       "<tr>\n",
       "  <th>Category_Health/Beauty</th>                                  <td>-6.597e+12</td> <td> 3.48e+04</td> <td> -1.9e+08</td> <td> 0.000</td> <td> -6.6e+12</td> <td> -6.6e+12</td>\n",
       "</tr>\n",
       "<tr>\n",
       "  <th>Category_Jewelry</th>                                        <td>-6.451e+12</td> <td>  3.4e+04</td> <td> -1.9e+08</td> <td> 0.000</td> <td>-6.45e+12</td> <td>-6.45e+12</td>\n",
       "</tr>\n",
       "<tr>\n",
       "  <th>Category_Music/Movie/Game</th>                               <td>  -1.4e+13</td> <td> 7.37e+04</td> <td> -1.9e+08</td> <td> 0.000</td> <td> -1.4e+13</td> <td> -1.4e+13</td>\n",
       "</tr>\n",
       "<tr>\n",
       "  <th>Category_Photography</th>                                    <td> 3.662e+14</td> <td> 1.93e+06</td> <td>  1.9e+08</td> <td> 0.000</td> <td> 3.66e+14</td> <td> 3.66e+14</td>\n",
       "</tr>\n",
       "<tr>\n",
       "  <th>Category_SportingGoods</th>                                  <td>-8.753e+12</td> <td> 4.61e+04</td> <td> -1.9e+08</td> <td> 0.000</td> <td>-8.75e+12</td> <td>-8.75e+12</td>\n",
       "</tr>\n",
       "<tr>\n",
       "  <th>Category_Toys/Hobbies</th>                                   <td>-1.083e+13</td> <td>  5.7e+04</td> <td> -1.9e+08</td> <td> 0.000</td> <td>-1.08e+13</td> <td>-1.08e+13</td>\n",
       "</tr>\n",
       "<tr>\n",
       "  <th>currency_EUR</th>                                            <td>    1.2014</td> <td>    0.070</td> <td>   17.246</td> <td> 0.000</td> <td>    1.065</td> <td>    1.338</td>\n",
       "</tr>\n",
       "<tr>\n",
       "  <th>currency_GBP</th>                                            <td>    1.1202</td> <td>    0.127</td> <td>    8.807</td> <td> 0.000</td> <td>    0.871</td> <td>    1.369</td>\n",
       "</tr>\n",
       "<tr>\n",
       "  <th>currency_US</th>                                             <td>    1.5961</td> <td>    0.070</td> <td>   22.799</td> <td> 0.000</td> <td>    1.459</td> <td>    1.733</td>\n",
       "</tr>\n",
       "<tr>\n",
       "  <th>Duration_1</th>                                              <td>    0.1154</td> <td>    0.086</td> <td>    1.345</td> <td> 0.179</td> <td>   -0.053</td> <td>    0.284</td>\n",
       "</tr>\n",
       "<tr>\n",
       "  <th>Duration_3</th>                                              <td>    0.3645</td> <td>    0.071</td> <td>    5.142</td> <td> 0.000</td> <td>    0.226</td> <td>    0.503</td>\n",
       "</tr>\n",
       "<tr>\n",
       "  <th>Duration_5</th>                                              <td>    0.5957</td> <td>    0.070</td> <td>    8.550</td> <td> 0.000</td> <td>    0.459</td> <td>    0.732</td>\n",
       "</tr>\n",
       "<tr>\n",
       "  <th>Duration_7</th>                                              <td>    0.5867</td> <td>    0.051</td> <td>   11.523</td> <td> 0.000</td> <td>    0.487</td> <td>    0.687</td>\n",
       "</tr>\n",
       "<tr>\n",
       "  <th>Duration_10</th>                                             <td>    0.4946</td> <td>    0.080</td> <td>    6.148</td> <td> 0.000</td> <td>    0.337</td> <td>    0.652</td>\n",
       "</tr>\n",
       "<tr>\n",
       "  <th>endDay_Sun, Wed, Fri</th>                                    <td>    0.6325</td> <td>    0.056</td> <td>   11.295</td> <td> 0.000</td> <td>    0.523</td> <td>    0.742</td>\n",
       "</tr>\n",
       "<tr>\n",
       "  <th>endDay_Mon</th>                                              <td>    0.8750</td> <td>    0.070</td> <td>   12.535</td> <td> 0.000</td> <td>    0.738</td> <td>    1.012</td>\n",
       "</tr>\n",
       "<tr>\n",
       "  <th>endDay_Sat</th>                                              <td>    0.4233</td> <td>    0.067</td> <td>    6.311</td> <td> 0.000</td> <td>    0.292</td> <td>    0.555</td>\n",
       "</tr>\n",
       "<tr>\n",
       "  <th>endDay_Thu</th>                                              <td>    0.3975</td> <td>    0.130</td> <td>    3.064</td> <td> 0.002</td> <td>    0.143</td> <td>    0.652</td>\n",
       "</tr>\n",
       "<tr>\n",
       "  <th>endDay_Tue</th>                                              <td>    0.4045</td> <td>    0.063</td> <td>    6.458</td> <td> 0.000</td> <td>    0.282</td> <td>    0.527</td>\n",
       "</tr>\n",
       "</table>"
      ],
      "text/latex": [
       "\\begin{center}\n",
       "\\begin{tabular}{lclc}\n",
       "\\toprule\n",
       "\\textbf{Dep. Variable:}                                           &   Competitive?   & \\textbf{  No. Observations:  } &     1183    \\\\\n",
       "\\textbf{Model:}                                                   &       GLM        & \\textbf{  Df Residuals:      } &     1157    \\\\\n",
       "\\textbf{Model Family:}                                            &     Binomial     & \\textbf{  Df Model:          } &       25    \\\\\n",
       "\\textbf{Link Function:}                                           &      Logit       & \\textbf{  Scale:             } &    1.0000   \\\\\n",
       "\\textbf{Method:}                                                  &       IRLS       & \\textbf{  Log-Likelihood:    } &   -600.60   \\\\\n",
       "\\textbf{Date:}                                                    & Mon, 23 Oct 2023 & \\textbf{  Deviance:          } &    1201.2   \\\\\n",
       "\\textbf{Time:}                                                    &     17:54:13     & \\textbf{  Pearson chi2:      } &  1.48e+08   \\\\\n",
       "\\textbf{No. Iterations:}                                          &       100        & \\textbf{  Pseudo R-squ. (CS):} &   0.3070    \\\\\n",
       "\\textbf{Covariance Type:}                                         &    nonrobust     & \\textbf{                     } &             \\\\\n",
       "\\bottomrule\n",
       "\\end{tabular}\n",
       "\\begin{tabular}{lcccccc}\n",
       "                                                                  & \\textbf{coef} & \\textbf{std err} & \\textbf{z} & \\textbf{P$> |$z$|$} & \\textbf{[0.025} & \\textbf{0.975]}  \\\\\n",
       "\\midrule\n",
       "\\textbf{const}                                                    &    3.046e+13  &      1.6e+05     &   1.9e+08  &         0.000        &     3.05e+13    &     3.05e+13     \\\\\n",
       "\\textbf{sellerRating}                                             &      -0.2599  &        0.098     &    -2.639  &         0.008        &       -0.453    &       -0.067     \\\\\n",
       "\\textbf{ClosePrice}                                               &       7.3635  &        0.833     &     8.837  &         0.000        &        5.730    &        8.997     \\\\\n",
       "\\textbf{OpenPrice}                                                &      -4.2135  &        0.456     &    -9.239  &         0.000        &       -5.107    &       -3.320     \\\\\n",
       "\\textbf{Category\\_Antique/Art/Craft and Collectibles}             &   -1.431e+13  &     7.54e+04     &  -1.9e+08  &         0.000        &    -1.43e+13    &    -1.43e+13     \\\\\n",
       "\\textbf{Category\\_Automotive and Pottery/Glass}                   &   -1.064e+13  &     5.61e+04     &  -1.9e+08  &         0.000        &    -1.06e+13    &    -1.06e+13     \\\\\n",
       "\\textbf{Category\\_Books and Clothing/Accessories}                 &   -9.914e+12  &     5.22e+04     &  -1.9e+08  &         0.000        &    -9.91e+12    &    -9.91e+12     \\\\\n",
       "\\textbf{Category\\_Business/Industrial, Computer, and Home/Garden} &   -9.519e+12  &     5.02e+04     &  -1.9e+08  &         0.000        &    -9.52e+12    &    -9.52e+12     \\\\\n",
       "\\textbf{Category\\_Coins/Stamps}                                   &   -4.813e+12  &     2.54e+04     &  -1.9e+08  &         0.000        &    -4.81e+12    &    -4.81e+12     \\\\\n",
       "\\textbf{Category\\_Electronics}                                    &   -5.481e+12  &     2.89e+04     &  -1.9e+08  &         0.000        &    -5.48e+12    &    -5.48e+12     \\\\\n",
       "\\textbf{Category\\_EverythingElse}                                 &   -3.346e+12  &     1.76e+04     &  -1.9e+08  &         0.000        &    -3.35e+12    &    -3.35e+12     \\\\\n",
       "\\textbf{Category\\_Health/Beauty}                                  &   -6.597e+12  &     3.48e+04     &  -1.9e+08  &         0.000        &     -6.6e+12    &     -6.6e+12     \\\\\n",
       "\\textbf{Category\\_Jewelry}                                        &   -6.451e+12  &      3.4e+04     &  -1.9e+08  &         0.000        &    -6.45e+12    &    -6.45e+12     \\\\\n",
       "\\textbf{Category\\_Music/Movie/Game}                               &     -1.4e+13  &     7.37e+04     &  -1.9e+08  &         0.000        &     -1.4e+13    &     -1.4e+13     \\\\\n",
       "\\textbf{Category\\_Photography}                                    &    3.662e+14  &     1.93e+06     &   1.9e+08  &         0.000        &     3.66e+14    &     3.66e+14     \\\\\n",
       "\\textbf{Category\\_SportingGoods}                                  &   -8.753e+12  &     4.61e+04     &  -1.9e+08  &         0.000        &    -8.75e+12    &    -8.75e+12     \\\\\n",
       "\\textbf{Category\\_Toys/Hobbies}                                   &   -1.083e+13  &      5.7e+04     &  -1.9e+08  &         0.000        &    -1.08e+13    &    -1.08e+13     \\\\\n",
       "\\textbf{currency\\_EUR}                                            &       1.2014  &        0.070     &    17.246  &         0.000        &        1.065    &        1.338     \\\\\n",
       "\\textbf{currency\\_GBP}                                            &       1.1202  &        0.127     &     8.807  &         0.000        &        0.871    &        1.369     \\\\\n",
       "\\textbf{currency\\_US}                                             &       1.5961  &        0.070     &    22.799  &         0.000        &        1.459    &        1.733     \\\\\n",
       "\\textbf{Duration\\_1}                                              &       0.1154  &        0.086     &     1.345  &         0.179        &       -0.053    &        0.284     \\\\\n",
       "\\textbf{Duration\\_3}                                              &       0.3645  &        0.071     &     5.142  &         0.000        &        0.226    &        0.503     \\\\\n",
       "\\textbf{Duration\\_5}                                              &       0.5957  &        0.070     &     8.550  &         0.000        &        0.459    &        0.732     \\\\\n",
       "\\textbf{Duration\\_7}                                              &       0.5867  &        0.051     &    11.523  &         0.000        &        0.487    &        0.687     \\\\\n",
       "\\textbf{Duration\\_10}                                             &       0.4946  &        0.080     &     6.148  &         0.000        &        0.337    &        0.652     \\\\\n",
       "\\textbf{endDay\\_Sun, Wed, Fri}                                    &       0.6325  &        0.056     &    11.295  &         0.000        &        0.523    &        0.742     \\\\\n",
       "\\textbf{endDay\\_Mon}                                              &       0.8750  &        0.070     &    12.535  &         0.000        &        0.738    &        1.012     \\\\\n",
       "\\textbf{endDay\\_Sat}                                              &       0.4233  &        0.067     &     6.311  &         0.000        &        0.292    &        0.555     \\\\\n",
       "\\textbf{endDay\\_Thu}                                              &       0.3975  &        0.130     &     3.064  &         0.002        &        0.143    &        0.652     \\\\\n",
       "\\textbf{endDay\\_Tue}                                              &       0.4045  &        0.063     &     6.458  &         0.000        &        0.282    &        0.527     \\\\\n",
       "\\bottomrule\n",
       "\\end{tabular}\n",
       "%\\caption{Generalized Linear Model Regression Results}\n",
       "\\end{center}"
      ],
      "text/plain": [
       "<class 'statsmodels.iolib.summary.Summary'>\n",
       "\"\"\"\n",
       "                 Generalized Linear Model Regression Results                  \n",
       "==============================================================================\n",
       "Dep. Variable:           Competitive?   No. Observations:                 1183\n",
       "Model:                            GLM   Df Residuals:                     1157\n",
       "Model Family:                Binomial   Df Model:                           25\n",
       "Link Function:                  Logit   Scale:                          1.0000\n",
       "Method:                          IRLS   Log-Likelihood:                -600.60\n",
       "Date:                Mon, 23 Oct 2023   Deviance:                       1201.2\n",
       "Time:                        17:54:13   Pearson chi2:                 1.48e+08\n",
       "No. Iterations:                   100   Pseudo R-squ. (CS):             0.3070\n",
       "Covariance Type:            nonrobust                                         \n",
       "===========================================================================================================================\n",
       "                                                              coef    std err          z      P>|z|      [0.025      0.975]\n",
       "---------------------------------------------------------------------------------------------------------------------------\n",
       "const                                                    3.046e+13    1.6e+05    1.9e+08      0.000    3.05e+13    3.05e+13\n",
       "sellerRating                                               -0.2599      0.098     -2.639      0.008      -0.453      -0.067\n",
       "ClosePrice                                                  7.3635      0.833      8.837      0.000       5.730       8.997\n",
       "OpenPrice                                                  -4.2135      0.456     -9.239      0.000      -5.107      -3.320\n",
       "Category_Antique/Art/Craft and Collectibles             -1.431e+13   7.54e+04   -1.9e+08      0.000   -1.43e+13   -1.43e+13\n",
       "Category_Automotive and Pottery/Glass                   -1.064e+13   5.61e+04   -1.9e+08      0.000   -1.06e+13   -1.06e+13\n",
       "Category_Books and Clothing/Accessories                 -9.914e+12   5.22e+04   -1.9e+08      0.000   -9.91e+12   -9.91e+12\n",
       "Category_Business/Industrial, Computer, and Home/Garden -9.519e+12   5.02e+04   -1.9e+08      0.000   -9.52e+12   -9.52e+12\n",
       "Category_Coins/Stamps                                   -4.813e+12   2.54e+04   -1.9e+08      0.000   -4.81e+12   -4.81e+12\n",
       "Category_Electronics                                    -5.481e+12   2.89e+04   -1.9e+08      0.000   -5.48e+12   -5.48e+12\n",
       "Category_EverythingElse                                 -3.346e+12   1.76e+04   -1.9e+08      0.000   -3.35e+12   -3.35e+12\n",
       "Category_Health/Beauty                                  -6.597e+12   3.48e+04   -1.9e+08      0.000    -6.6e+12    -6.6e+12\n",
       "Category_Jewelry                                        -6.451e+12    3.4e+04   -1.9e+08      0.000   -6.45e+12   -6.45e+12\n",
       "Category_Music/Movie/Game                                 -1.4e+13   7.37e+04   -1.9e+08      0.000    -1.4e+13    -1.4e+13\n",
       "Category_Photography                                     3.662e+14   1.93e+06    1.9e+08      0.000    3.66e+14    3.66e+14\n",
       "Category_SportingGoods                                  -8.753e+12   4.61e+04   -1.9e+08      0.000   -8.75e+12   -8.75e+12\n",
       "Category_Toys/Hobbies                                   -1.083e+13    5.7e+04   -1.9e+08      0.000   -1.08e+13   -1.08e+13\n",
       "currency_EUR                                                1.2014      0.070     17.246      0.000       1.065       1.338\n",
       "currency_GBP                                                1.1202      0.127      8.807      0.000       0.871       1.369\n",
       "currency_US                                                 1.5961      0.070     22.799      0.000       1.459       1.733\n",
       "Duration_1                                                  0.1154      0.086      1.345      0.179      -0.053       0.284\n",
       "Duration_3                                                  0.3645      0.071      5.142      0.000       0.226       0.503\n",
       "Duration_5                                                  0.5957      0.070      8.550      0.000       0.459       0.732\n",
       "Duration_7                                                  0.5867      0.051     11.523      0.000       0.487       0.687\n",
       "Duration_10                                                 0.4946      0.080      6.148      0.000       0.337       0.652\n",
       "endDay_Sun, Wed, Fri                                        0.6325      0.056     11.295      0.000       0.523       0.742\n",
       "endDay_Mon                                                  0.8750      0.070     12.535      0.000       0.738       1.012\n",
       "endDay_Sat                                                  0.4233      0.067      6.311      0.000       0.292       0.555\n",
       "endDay_Thu                                                  0.3975      0.130      3.064      0.002       0.143       0.652\n",
       "endDay_Tue                                                  0.4045      0.063      6.458      0.000       0.282       0.527\n",
       "===========================================================================================================================\n",
       "\"\"\""
      ]
     },
     "execution_count": 41,
     "metadata": {},
     "output_type": "execute_result"
    }
   ],
   "source": [
    "logit_result.summary()\n"
   ]
  },
  {
   "cell_type": "markdown",
   "metadata": {},
   "source": [
    "#### 10.4.d Looking at the coef for Closing Price, 7.3635, we see that for every unit increase of closing price, it increases the odds of the auction being competitive by 7.3635. Given its listed P score is 0.000, its statistically significant for the relationship between closing price and competitiveness."
   ]
  }
 ],
 "metadata": {
  "kernelspec": {
   "display_name": "Python 3",
   "language": "python",
   "name": "python3"
  },
  "language_info": {
   "codemirror_mode": {
    "name": "ipython",
    "version": 3
   },
   "file_extension": ".py",
   "mimetype": "text/x-python",
   "name": "python",
   "nbconvert_exporter": "python",
   "pygments_lexer": "ipython3",
   "version": "3.12.0"
  },
  "orig_nbformat": 4
 },
 "nbformat": 4,
 "nbformat_minor": 2
}
