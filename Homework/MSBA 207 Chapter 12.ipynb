{
 "cells": [
  {
   "cell_type": "markdown",
   "metadata": {},
   "source": [
    "# Chapter 12: Discriminant Analysis"
   ]
  },
  {
   "cell_type": "code",
   "execution_count": 232,
   "metadata": {},
   "outputs": [],
   "source": [
    "from pathlib import Path\n",
    "\n",
    "import pandas as pd\n",
    "import numpy as np\n",
    "\n",
    "from sklearn.linear_model import LogisticRegression\n",
    "from sklearn.discriminant_analysis import LinearDiscriminantAnalysis\n",
    "from sklearn.model_selection import train_test_split\n",
    "\n",
    "import matplotlib.pylab as plt\n",
    "\n",
    "from dmba import classificationSummary\n",
    "from dmba import gainsChart, liftChart\n",
    "\n",
    "%matplotlib inline"
   ]
  },
  {
   "cell_type": "code",
   "execution_count": 233,
   "metadata": {},
   "outputs": [],
   "source": [
    "# Working directory:\n",
    "# replace the argument of the `Path`\n",
    "DATA = Path('E:/Aliit/School/MSBA/206/MSBA-206/dmba')\n",
    "# and then load data using \n",
    "# pd.read_csv(DATA / ‘filename.csv’)"
   ]
  },
  {
   "cell_type": "markdown",
   "metadata": {},
   "source": [
    "## \"Classification function\" in Chapter 12 of the DMBA textbook is same as \"disciminant function\"."
   ]
  },
  {
   "cell_type": "markdown",
   "metadata": {},
   "source": [
    "# Problem 12.1: Personal Loan Acceptance\n",
    "Universal Bank is a relatively young bank growing\n",
    "rapidly in terms of overall customer acquisition. The majority of\n",
    "these customers are liability customers with varying sizes of\n",
    "relationship with the bank. The customer base of asset customers is\n",
    "quite small, and the bank is interested in expanding this base\n",
    "rapidly to bring in more loan business. In particular, it wants to\n",
    "explore ways of converting its liability customers to personal loan\n",
    "customers.\n",
    "\n",
    "A campaign the bank ran for liability customers last year showed a\n",
    "healthy conversion rate of over 9\\% successes. This has encouraged the\n",
    "retail marketing department to devise smarter campaigns with better\n",
    "target marketing. The goal of our analysis is to model the previous\n",
    "campaign's customer behavior to analyze what combination of factors\n",
    "make a customer more likely to accept a personal loan. This will serve\n",
    "as the basis for the design of a new campaign.\n",
    "\n",
    "The file _UniversalBank.csv_ contains data on 5000 customers. The data include customer demographic information (e.g., age, income), the customer's relationship with the bank (e.g., mortgage, securities account), and the customer response to the last personal loan campaign (Personal Loan). Among these 5000 customers, only 480 (= 9.6\\%)\n",
    "accepted the personal loan that was offered to them in the previous campaign.\n",
    "\n",
    "Partition the data (60\\% training and 40\\% validation) and then perform a discriminant analysis that models Personal Loan as a function of the remaining predictors (excluding zip code). Remember to turn categorical predictors with more than two categories into dummy variables first. Specify the success class as 1 (personal loan acceptance), and use the default cutoff value of 0.5.\n",
    "\n"
   ]
  },
  {
   "cell_type": "code",
   "execution_count": 234,
   "metadata": {},
   "outputs": [],
   "source": [
    "# Loading data, setting ID as index, and dropping ZIP Code\n",
    "df_bank = pd.read_csv(DATA / 'UniversalBank.csv', index_col='ID').drop(columns='ZIP Code')"
   ]
  },
  {
   "cell_type": "code",
   "execution_count": 235,
   "metadata": {},
   "outputs": [],
   "source": [
    "#Removing spaces from column names\n",
    "names = df_bank.columns.to_list()\n",
    "for x in names:\n",
    "    df_bank = df_bank.rename(columns={x:x.replace(' ','_')})"
   ]
  },
  {
   "cell_type": "code",
   "execution_count": 236,
   "metadata": {},
   "outputs": [
    {
     "data": {
      "text/html": [
       "<div>\n",
       "<style scoped>\n",
       "    .dataframe tbody tr th:only-of-type {\n",
       "        vertical-align: middle;\n",
       "    }\n",
       "\n",
       "    .dataframe tbody tr th {\n",
       "        vertical-align: top;\n",
       "    }\n",
       "\n",
       "    .dataframe thead th {\n",
       "        text-align: right;\n",
       "    }\n",
       "</style>\n",
       "<table border=\"1\" class=\"dataframe\">\n",
       "  <thead>\n",
       "    <tr style=\"text-align: right;\">\n",
       "      <th></th>\n",
       "      <th>Age</th>\n",
       "      <th>Experience</th>\n",
       "      <th>Income</th>\n",
       "      <th>Family</th>\n",
       "      <th>CCAvg</th>\n",
       "      <th>Education</th>\n",
       "      <th>Mortgage</th>\n",
       "      <th>Personal_Loan</th>\n",
       "      <th>Securities_Account</th>\n",
       "      <th>CD_Account</th>\n",
       "      <th>Online</th>\n",
       "      <th>CreditCard</th>\n",
       "    </tr>\n",
       "    <tr>\n",
       "      <th>ID</th>\n",
       "      <th></th>\n",
       "      <th></th>\n",
       "      <th></th>\n",
       "      <th></th>\n",
       "      <th></th>\n",
       "      <th></th>\n",
       "      <th></th>\n",
       "      <th></th>\n",
       "      <th></th>\n",
       "      <th></th>\n",
       "      <th></th>\n",
       "      <th></th>\n",
       "    </tr>\n",
       "  </thead>\n",
       "  <tbody>\n",
       "    <tr>\n",
       "      <th>1</th>\n",
       "      <td>25</td>\n",
       "      <td>1</td>\n",
       "      <td>49</td>\n",
       "      <td>4</td>\n",
       "      <td>1.6</td>\n",
       "      <td>1</td>\n",
       "      <td>0</td>\n",
       "      <td>0</td>\n",
       "      <td>1</td>\n",
       "      <td>0</td>\n",
       "      <td>0</td>\n",
       "      <td>0</td>\n",
       "    </tr>\n",
       "    <tr>\n",
       "      <th>2</th>\n",
       "      <td>45</td>\n",
       "      <td>19</td>\n",
       "      <td>34</td>\n",
       "      <td>3</td>\n",
       "      <td>1.5</td>\n",
       "      <td>1</td>\n",
       "      <td>0</td>\n",
       "      <td>0</td>\n",
       "      <td>1</td>\n",
       "      <td>0</td>\n",
       "      <td>0</td>\n",
       "      <td>0</td>\n",
       "    </tr>\n",
       "    <tr>\n",
       "      <th>3</th>\n",
       "      <td>39</td>\n",
       "      <td>15</td>\n",
       "      <td>11</td>\n",
       "      <td>1</td>\n",
       "      <td>1.0</td>\n",
       "      <td>1</td>\n",
       "      <td>0</td>\n",
       "      <td>0</td>\n",
       "      <td>0</td>\n",
       "      <td>0</td>\n",
       "      <td>0</td>\n",
       "      <td>0</td>\n",
       "    </tr>\n",
       "    <tr>\n",
       "      <th>4</th>\n",
       "      <td>35</td>\n",
       "      <td>9</td>\n",
       "      <td>100</td>\n",
       "      <td>1</td>\n",
       "      <td>2.7</td>\n",
       "      <td>2</td>\n",
       "      <td>0</td>\n",
       "      <td>0</td>\n",
       "      <td>0</td>\n",
       "      <td>0</td>\n",
       "      <td>0</td>\n",
       "      <td>0</td>\n",
       "    </tr>\n",
       "    <tr>\n",
       "      <th>5</th>\n",
       "      <td>35</td>\n",
       "      <td>8</td>\n",
       "      <td>45</td>\n",
       "      <td>4</td>\n",
       "      <td>1.0</td>\n",
       "      <td>2</td>\n",
       "      <td>0</td>\n",
       "      <td>0</td>\n",
       "      <td>0</td>\n",
       "      <td>0</td>\n",
       "      <td>0</td>\n",
       "      <td>1</td>\n",
       "    </tr>\n",
       "    <tr>\n",
       "      <th>...</th>\n",
       "      <td>...</td>\n",
       "      <td>...</td>\n",
       "      <td>...</td>\n",
       "      <td>...</td>\n",
       "      <td>...</td>\n",
       "      <td>...</td>\n",
       "      <td>...</td>\n",
       "      <td>...</td>\n",
       "      <td>...</td>\n",
       "      <td>...</td>\n",
       "      <td>...</td>\n",
       "      <td>...</td>\n",
       "    </tr>\n",
       "    <tr>\n",
       "      <th>4996</th>\n",
       "      <td>29</td>\n",
       "      <td>3</td>\n",
       "      <td>40</td>\n",
       "      <td>1</td>\n",
       "      <td>1.9</td>\n",
       "      <td>3</td>\n",
       "      <td>0</td>\n",
       "      <td>0</td>\n",
       "      <td>0</td>\n",
       "      <td>0</td>\n",
       "      <td>1</td>\n",
       "      <td>0</td>\n",
       "    </tr>\n",
       "    <tr>\n",
       "      <th>4997</th>\n",
       "      <td>30</td>\n",
       "      <td>4</td>\n",
       "      <td>15</td>\n",
       "      <td>4</td>\n",
       "      <td>0.4</td>\n",
       "      <td>1</td>\n",
       "      <td>85</td>\n",
       "      <td>0</td>\n",
       "      <td>0</td>\n",
       "      <td>0</td>\n",
       "      <td>1</td>\n",
       "      <td>0</td>\n",
       "    </tr>\n",
       "    <tr>\n",
       "      <th>4998</th>\n",
       "      <td>63</td>\n",
       "      <td>39</td>\n",
       "      <td>24</td>\n",
       "      <td>2</td>\n",
       "      <td>0.3</td>\n",
       "      <td>3</td>\n",
       "      <td>0</td>\n",
       "      <td>0</td>\n",
       "      <td>0</td>\n",
       "      <td>0</td>\n",
       "      <td>0</td>\n",
       "      <td>0</td>\n",
       "    </tr>\n",
       "    <tr>\n",
       "      <th>4999</th>\n",
       "      <td>65</td>\n",
       "      <td>40</td>\n",
       "      <td>49</td>\n",
       "      <td>3</td>\n",
       "      <td>0.5</td>\n",
       "      <td>2</td>\n",
       "      <td>0</td>\n",
       "      <td>0</td>\n",
       "      <td>0</td>\n",
       "      <td>0</td>\n",
       "      <td>1</td>\n",
       "      <td>0</td>\n",
       "    </tr>\n",
       "    <tr>\n",
       "      <th>5000</th>\n",
       "      <td>28</td>\n",
       "      <td>4</td>\n",
       "      <td>83</td>\n",
       "      <td>3</td>\n",
       "      <td>0.8</td>\n",
       "      <td>1</td>\n",
       "      <td>0</td>\n",
       "      <td>0</td>\n",
       "      <td>0</td>\n",
       "      <td>0</td>\n",
       "      <td>1</td>\n",
       "      <td>1</td>\n",
       "    </tr>\n",
       "  </tbody>\n",
       "</table>\n",
       "<p>5000 rows × 12 columns</p>\n",
       "</div>"
      ],
      "text/plain": [
       "      Age  Experience  Income  Family  CCAvg  Education  Mortgage  \\\n",
       "ID                                                                  \n",
       "1      25           1      49       4    1.6          1         0   \n",
       "2      45          19      34       3    1.5          1         0   \n",
       "3      39          15      11       1    1.0          1         0   \n",
       "4      35           9     100       1    2.7          2         0   \n",
       "5      35           8      45       4    1.0          2         0   \n",
       "...   ...         ...     ...     ...    ...        ...       ...   \n",
       "4996   29           3      40       1    1.9          3         0   \n",
       "4997   30           4      15       4    0.4          1        85   \n",
       "4998   63          39      24       2    0.3          3         0   \n",
       "4999   65          40      49       3    0.5          2         0   \n",
       "5000   28           4      83       3    0.8          1         0   \n",
       "\n",
       "      Personal_Loan  Securities_Account  CD_Account  Online  CreditCard  \n",
       "ID                                                                       \n",
       "1                 0                   1           0       0           0  \n",
       "2                 0                   1           0       0           0  \n",
       "3                 0                   0           0       0           0  \n",
       "4                 0                   0           0       0           0  \n",
       "5                 0                   0           0       0           1  \n",
       "...             ...                 ...         ...     ...         ...  \n",
       "4996              0                   0           0       1           0  \n",
       "4997              0                   0           0       1           0  \n",
       "4998              0                   0           0       0           0  \n",
       "4999              0                   0           0       1           0  \n",
       "5000              0                   0           0       1           1  \n",
       "\n",
       "[5000 rows x 12 columns]"
      ]
     },
     "execution_count": 236,
     "metadata": {},
     "output_type": "execute_result"
    }
   ],
   "source": [
    "df_bank"
   ]
  },
  {
   "cell_type": "code",
   "execution_count": 237,
   "metadata": {},
   "outputs": [],
   "source": [
    "catagoric = ['Family','Education']\n",
    "for x in catagoric:\n",
    "    df_bank[x] = df_bank[x].astype('category')"
   ]
  },
  {
   "cell_type": "code",
   "execution_count": 238,
   "metadata": {},
   "outputs": [],
   "source": [
    "df_bank_dum = pd.get_dummies(data=df_bank,drop_first=False,dtype='int64')"
   ]
  },
  {
   "cell_type": "code",
   "execution_count": 239,
   "metadata": {},
   "outputs": [],
   "source": [
    "catagoric = ['Family_1','Family_2','Family_3','Family_4','Education_1','Education_2','Education_3','Securities_Account','CD_Account', 'Online','CreditCard','Personal_Loan']\n",
    "for x in catagoric:\n",
    "    df_bank_dum[x] = df_bank_dum[x].astype('uint8')"
   ]
  },
  {
   "cell_type": "code",
   "execution_count": 240,
   "metadata": {},
   "outputs": [],
   "source": [
    "outcome = 'Personal_Loan'\n",
    "predictors = df_bank_dum.drop(columns=outcome).columns.to_list()"
   ]
  },
  {
   "cell_type": "code",
   "execution_count": 241,
   "metadata": {},
   "outputs": [],
   "source": [
    "X = df_bank_dum[predictors]\n",
    "y = df_bank_dum[outcome]\n",
    "train_X, valid_X, train_y, valid_y = train_test_split(X, y, test_size=0.4, random_state=1)"
   ]
  },
  {
   "cell_type": "code",
   "execution_count": 242,
   "metadata": {},
   "outputs": [
    {
     "data": {
      "text/html": [
       "<style>#sk-container-id-6 {color: black;}#sk-container-id-6 pre{padding: 0;}#sk-container-id-6 div.sk-toggleable {background-color: white;}#sk-container-id-6 label.sk-toggleable__label {cursor: pointer;display: block;width: 100%;margin-bottom: 0;padding: 0.3em;box-sizing: border-box;text-align: center;}#sk-container-id-6 label.sk-toggleable__label-arrow:before {content: \"▸\";float: left;margin-right: 0.25em;color: #696969;}#sk-container-id-6 label.sk-toggleable__label-arrow:hover:before {color: black;}#sk-container-id-6 div.sk-estimator:hover label.sk-toggleable__label-arrow:before {color: black;}#sk-container-id-6 div.sk-toggleable__content {max-height: 0;max-width: 0;overflow: hidden;text-align: left;background-color: #f0f8ff;}#sk-container-id-6 div.sk-toggleable__content pre {margin: 0.2em;color: black;border-radius: 0.25em;background-color: #f0f8ff;}#sk-container-id-6 input.sk-toggleable__control:checked~div.sk-toggleable__content {max-height: 200px;max-width: 100%;overflow: auto;}#sk-container-id-6 input.sk-toggleable__control:checked~label.sk-toggleable__label-arrow:before {content: \"▾\";}#sk-container-id-6 div.sk-estimator input.sk-toggleable__control:checked~label.sk-toggleable__label {background-color: #d4ebff;}#sk-container-id-6 div.sk-label input.sk-toggleable__control:checked~label.sk-toggleable__label {background-color: #d4ebff;}#sk-container-id-6 input.sk-hidden--visually {border: 0;clip: rect(1px 1px 1px 1px);clip: rect(1px, 1px, 1px, 1px);height: 1px;margin: -1px;overflow: hidden;padding: 0;position: absolute;width: 1px;}#sk-container-id-6 div.sk-estimator {font-family: monospace;background-color: #f0f8ff;border: 1px dotted black;border-radius: 0.25em;box-sizing: border-box;margin-bottom: 0.5em;}#sk-container-id-6 div.sk-estimator:hover {background-color: #d4ebff;}#sk-container-id-6 div.sk-parallel-item::after {content: \"\";width: 100%;border-bottom: 1px solid gray;flex-grow: 1;}#sk-container-id-6 div.sk-label:hover label.sk-toggleable__label {background-color: #d4ebff;}#sk-container-id-6 div.sk-serial::before {content: \"\";position: absolute;border-left: 1px solid gray;box-sizing: border-box;top: 0;bottom: 0;left: 50%;z-index: 0;}#sk-container-id-6 div.sk-serial {display: flex;flex-direction: column;align-items: center;background-color: white;padding-right: 0.2em;padding-left: 0.2em;position: relative;}#sk-container-id-6 div.sk-item {position: relative;z-index: 1;}#sk-container-id-6 div.sk-parallel {display: flex;align-items: stretch;justify-content: center;background-color: white;position: relative;}#sk-container-id-6 div.sk-item::before, #sk-container-id-6 div.sk-parallel-item::before {content: \"\";position: absolute;border-left: 1px solid gray;box-sizing: border-box;top: 0;bottom: 0;left: 50%;z-index: -1;}#sk-container-id-6 div.sk-parallel-item {display: flex;flex-direction: column;z-index: 1;position: relative;background-color: white;}#sk-container-id-6 div.sk-parallel-item:first-child::after {align-self: flex-end;width: 50%;}#sk-container-id-6 div.sk-parallel-item:last-child::after {align-self: flex-start;width: 50%;}#sk-container-id-6 div.sk-parallel-item:only-child::after {width: 0;}#sk-container-id-6 div.sk-dashed-wrapped {border: 1px dashed gray;margin: 0 0.4em 0.5em 0.4em;box-sizing: border-box;padding-bottom: 0.4em;background-color: white;}#sk-container-id-6 div.sk-label label {font-family: monospace;font-weight: bold;display: inline-block;line-height: 1.2em;}#sk-container-id-6 div.sk-label-container {text-align: center;}#sk-container-id-6 div.sk-container {/* jupyter's `normalize.less` sets `[hidden] { display: none; }` but bootstrap.min.css set `[hidden] { display: none !important; }` so we also need the `!important` here to be able to override the default hidden behavior on the sphinx rendered scikit-learn.org. See: https://github.com/scikit-learn/scikit-learn/issues/21755 */display: inline-block !important;position: relative;}#sk-container-id-6 div.sk-text-repr-fallback {display: none;}</style><div id=\"sk-container-id-6\" class=\"sk-top-container\"><div class=\"sk-text-repr-fallback\"><pre>LinearDiscriminantAnalysis(priors=[0.5, 0.5])</pre><b>In a Jupyter environment, please rerun this cell to show the HTML representation or trust the notebook. <br />On GitHub, the HTML representation is unable to render, please try loading this page with nbviewer.org.</b></div><div class=\"sk-container\" hidden><div class=\"sk-item\"><div class=\"sk-estimator sk-toggleable\"><input class=\"sk-toggleable__control sk-hidden--visually\" id=\"sk-estimator-id-6\" type=\"checkbox\" checked><label for=\"sk-estimator-id-6\" class=\"sk-toggleable__label sk-toggleable__label-arrow\">LinearDiscriminantAnalysis</label><div class=\"sk-toggleable__content\"><pre>LinearDiscriminantAnalysis(priors=[0.5, 0.5])</pre></div></div></div></div></div>"
      ],
      "text/plain": [
       "LinearDiscriminantAnalysis(priors=[0.5, 0.5])"
      ]
     },
     "execution_count": 242,
     "metadata": {},
     "output_type": "execute_result"
    }
   ],
   "source": [
    "da_reg = LinearDiscriminantAnalysis(priors=[0.5,0.5])\n",
    "da_reg.fit(train_X,train_y)"
   ]
  },
  {
   "cell_type": "code",
   "execution_count": 243,
   "metadata": {},
   "outputs": [
    {
     "data": {
      "text/plain": [
       "array([0.5, 0.5])"
      ]
     },
     "execution_count": 243,
     "metadata": {},
     "output_type": "execute_result"
    }
   ],
   "source": [
    "da_reg.priors_"
   ]
  },
  {
   "cell_type": "markdown",
   "metadata": {},
   "source": [
    "## Problem 12.1.a\n",
    "Compute summary statistics for the predictors separately for loan acceptors and nonacceptors. For continuous predictors, compute the mean and standard deviation. For categorical predictors, compute the percentages. Are there predictors where the two classes differ substantially?"
   ]
  },
  {
   "cell_type": "code",
   "execution_count": 244,
   "metadata": {},
   "outputs": [
    {
     "name": "stdout",
     "output_type": "stream",
     "text": [
      "Age: acceptors 44.53±11.37, non-acceptors 45.69±11.48\n",
      "Experience: acceptors 19.34±11.32, non-acceptors 20.45±11.49\n",
      "Income: acceptors 145.47±31.31, non-acceptors 66.18±40.86\n",
      "CCAvg: acceptors 4.06±2.00, non-acceptors 1.71±1.55\n",
      "Mortgage: acceptors 98.46±160.58, non-acceptors 52.06±91.46\n",
      "Securities_Account: acceptors 12.89%, non-acceptors 9.92%\n",
      "CD_Account: acceptors 31.01%, non-acceptors 3.35%\n",
      "Online: acceptors 60.98%, non-acceptors 58.75%\n",
      "CreditCard: acceptors 30.66%, non-acceptors 29.64%\n",
      "Family_1: acceptors 19.86%, non-acceptors 30.00%\n",
      "Family_2: acceptors 24.04%, non-acceptors 26.35%\n",
      "Family_3: acceptors 29.27%, non-acceptors 19.35%\n",
      "Family_4: acceptors 26.83%, non-acceptors 24.29%\n",
      "Education_1: acceptors 18.47%, non-acceptors 43.72%\n",
      "Education_2: acceptors 40.42%, non-acceptors 27.02%\n",
      "Education_3: acceptors 41.11%, non-acceptors 29.27%\n"
     ]
    }
   ],
   "source": [
    "acceptors = train_X[train_y == 1]\n",
    "non_acceptors = train_X[train_y == 0]\n",
    "\n",
    "for x in train_X.columns:\n",
    "    if train_X[x].dtype == 'uint8':\n",
    "        # Categorical variable\n",
    "        acceptor_pct = acceptors[x].sum() / len(acceptors)\n",
    "        non_acceptor_pct = non_acceptors[x].sum() / len(non_acceptors)\n",
    "        print(f'{x}: acceptors {acceptor_pct:.2%}, non-acceptors {non_acceptor_pct:.2%}')\n",
    "    else:\n",
    "        # Continuous variable\n",
    "        acceptor_mean = acceptors[x].mean()\n",
    "        acceptor_std = acceptors[x].std()\n",
    "        non_acceptor_mean = non_acceptors[x].mean()\n",
    "        non_acceptor_std = non_acceptors[x].std()\n",
    "        print(f'{x}: acceptors {acceptor_mean:.2f}±{acceptor_std:.2f}, non-acceptors {non_acceptor_mean:.2f}±{non_acceptor_std:.2f}')"
   ]
  },
  {
   "cell_type": "code",
   "execution_count": 245,
   "metadata": {},
   "outputs": [
    {
     "name": "stdout",
     "output_type": "stream",
     "text": [
      "Confusion Matrix (Accuracy 0.9260)\n",
      "\n",
      "             Prediction\n",
      "      Actual Not Accepted     Accepted\n",
      "Not Accepted         2523          190\n",
      "    Accepted           32          255\n"
     ]
    }
   ],
   "source": [
    "classificationSummary(train_y,da_reg.predict(train_X),class_names=['Not Accepted','Accepted'])"
   ]
  },
  {
   "cell_type": "markdown",
   "metadata": {},
   "source": [
    "## Problem 12.1.b\n",
    "Examine the model performance on the validation set.\n",
    "## Problem 12.1.b.i\n",
    "What is the accuracy rate?"
   ]
  },
  {
   "cell_type": "code",
   "execution_count": 246,
   "metadata": {},
   "outputs": [
    {
     "name": "stdout",
     "output_type": "stream",
     "text": [
      "Confusion Matrix (Accuracy 0.9200)\n",
      "\n",
      "             Prediction\n",
      "      Actual Not Accepted     Accepted\n",
      "Not Accepted         1679          128\n",
      "    Accepted           32          161\n"
     ]
    }
   ],
   "source": [
    "classificationSummary(valid_y,da_reg.predict(valid_X),class_names=['Not Accepted','Accepted'])"
   ]
  },
  {
   "cell_type": "code",
   "execution_count": 247,
   "metadata": {},
   "outputs": [
    {
     "data": {
      "text/html": [
       "<div>\n",
       "<style scoped>\n",
       "    .dataframe tbody tr th:only-of-type {\n",
       "        vertical-align: middle;\n",
       "    }\n",
       "\n",
       "    .dataframe tbody tr th {\n",
       "        vertical-align: top;\n",
       "    }\n",
       "\n",
       "    .dataframe thead th {\n",
       "        text-align: right;\n",
       "    }\n",
       "</style>\n",
       "<table border=\"1\" class=\"dataframe\">\n",
       "  <thead>\n",
       "    <tr style=\"text-align: right;\">\n",
       "      <th></th>\n",
       "      <th>Age</th>\n",
       "      <th>Experience</th>\n",
       "      <th>Income</th>\n",
       "      <th>CCAvg</th>\n",
       "      <th>Mortgage</th>\n",
       "      <th>Securities_Account</th>\n",
       "      <th>CD_Account</th>\n",
       "      <th>Online</th>\n",
       "      <th>CreditCard</th>\n",
       "      <th>Family_1</th>\n",
       "      <th>Family_2</th>\n",
       "      <th>Family_3</th>\n",
       "      <th>Family_4</th>\n",
       "      <th>Education_1</th>\n",
       "      <th>Education_2</th>\n",
       "      <th>Education_3</th>\n",
       "      <th>Actual</th>\n",
       "      <th>Prediction</th>\n",
       "      <th>p(Accept)</th>\n",
       "    </tr>\n",
       "    <tr>\n",
       "      <th>ID</th>\n",
       "      <th></th>\n",
       "      <th></th>\n",
       "      <th></th>\n",
       "      <th></th>\n",
       "      <th></th>\n",
       "      <th></th>\n",
       "      <th></th>\n",
       "      <th></th>\n",
       "      <th></th>\n",
       "      <th></th>\n",
       "      <th></th>\n",
       "      <th></th>\n",
       "      <th></th>\n",
       "      <th></th>\n",
       "      <th></th>\n",
       "      <th></th>\n",
       "      <th></th>\n",
       "      <th></th>\n",
       "      <th></th>\n",
       "    </tr>\n",
       "  </thead>\n",
       "  <tbody>\n",
       "    <tr>\n",
       "      <th>2765</th>\n",
       "      <td>31</td>\n",
       "      <td>5</td>\n",
       "      <td>84</td>\n",
       "      <td>2.9</td>\n",
       "      <td>105</td>\n",
       "      <td>0</td>\n",
       "      <td>0</td>\n",
       "      <td>0</td>\n",
       "      <td>1</td>\n",
       "      <td>1</td>\n",
       "      <td>0</td>\n",
       "      <td>0</td>\n",
       "      <td>0</td>\n",
       "      <td>0</td>\n",
       "      <td>0</td>\n",
       "      <td>1</td>\n",
       "      <td>0</td>\n",
       "      <td>0</td>\n",
       "      <td>0.094751</td>\n",
       "    </tr>\n",
       "    <tr>\n",
       "      <th>4768</th>\n",
       "      <td>35</td>\n",
       "      <td>9</td>\n",
       "      <td>45</td>\n",
       "      <td>0.9</td>\n",
       "      <td>101</td>\n",
       "      <td>1</td>\n",
       "      <td>0</td>\n",
       "      <td>0</td>\n",
       "      <td>0</td>\n",
       "      <td>0</td>\n",
       "      <td>0</td>\n",
       "      <td>1</td>\n",
       "      <td>0</td>\n",
       "      <td>1</td>\n",
       "      <td>0</td>\n",
       "      <td>0</td>\n",
       "      <td>0</td>\n",
       "      <td>0</td>\n",
       "      <td>0.000788</td>\n",
       "    </tr>\n",
       "    <tr>\n",
       "      <th>3815</th>\n",
       "      <td>34</td>\n",
       "      <td>9</td>\n",
       "      <td>35</td>\n",
       "      <td>1.3</td>\n",
       "      <td>0</td>\n",
       "      <td>0</td>\n",
       "      <td>0</td>\n",
       "      <td>0</td>\n",
       "      <td>0</td>\n",
       "      <td>0</td>\n",
       "      <td>0</td>\n",
       "      <td>1</td>\n",
       "      <td>0</td>\n",
       "      <td>1</td>\n",
       "      <td>0</td>\n",
       "      <td>0</td>\n",
       "      <td>0</td>\n",
       "      <td>0</td>\n",
       "      <td>0.001939</td>\n",
       "    </tr>\n",
       "    <tr>\n",
       "      <th>3500</th>\n",
       "      <td>49</td>\n",
       "      <td>23</td>\n",
       "      <td>114</td>\n",
       "      <td>0.3</td>\n",
       "      <td>286</td>\n",
       "      <td>0</td>\n",
       "      <td>0</td>\n",
       "      <td>1</td>\n",
       "      <td>0</td>\n",
       "      <td>1</td>\n",
       "      <td>0</td>\n",
       "      <td>0</td>\n",
       "      <td>0</td>\n",
       "      <td>1</td>\n",
       "      <td>0</td>\n",
       "      <td>0</td>\n",
       "      <td>0</td>\n",
       "      <td>0</td>\n",
       "      <td>0.018540</td>\n",
       "    </tr>\n",
       "    <tr>\n",
       "      <th>2736</th>\n",
       "      <td>36</td>\n",
       "      <td>12</td>\n",
       "      <td>70</td>\n",
       "      <td>2.6</td>\n",
       "      <td>165</td>\n",
       "      <td>0</td>\n",
       "      <td>0</td>\n",
       "      <td>1</td>\n",
       "      <td>0</td>\n",
       "      <td>0</td>\n",
       "      <td>0</td>\n",
       "      <td>1</td>\n",
       "      <td>0</td>\n",
       "      <td>0</td>\n",
       "      <td>1</td>\n",
       "      <td>0</td>\n",
       "      <td>0</td>\n",
       "      <td>0</td>\n",
       "      <td>0.246400</td>\n",
       "    </tr>\n",
       "    <tr>\n",
       "      <th>...</th>\n",
       "      <td>...</td>\n",
       "      <td>...</td>\n",
       "      <td>...</td>\n",
       "      <td>...</td>\n",
       "      <td>...</td>\n",
       "      <td>...</td>\n",
       "      <td>...</td>\n",
       "      <td>...</td>\n",
       "      <td>...</td>\n",
       "      <td>...</td>\n",
       "      <td>...</td>\n",
       "      <td>...</td>\n",
       "      <td>...</td>\n",
       "      <td>...</td>\n",
       "      <td>...</td>\n",
       "      <td>...</td>\n",
       "      <td>...</td>\n",
       "      <td>...</td>\n",
       "      <td>...</td>\n",
       "    </tr>\n",
       "    <tr>\n",
       "      <th>4373</th>\n",
       "      <td>34</td>\n",
       "      <td>10</td>\n",
       "      <td>41</td>\n",
       "      <td>2.4</td>\n",
       "      <td>0</td>\n",
       "      <td>0</td>\n",
       "      <td>0</td>\n",
       "      <td>0</td>\n",
       "      <td>0</td>\n",
       "      <td>1</td>\n",
       "      <td>0</td>\n",
       "      <td>0</td>\n",
       "      <td>0</td>\n",
       "      <td>0</td>\n",
       "      <td>1</td>\n",
       "      <td>0</td>\n",
       "      <td>0</td>\n",
       "      <td>0</td>\n",
       "      <td>0.015834</td>\n",
       "    </tr>\n",
       "    <tr>\n",
       "      <th>3402</th>\n",
       "      <td>39</td>\n",
       "      <td>15</td>\n",
       "      <td>28</td>\n",
       "      <td>1.4</td>\n",
       "      <td>118</td>\n",
       "      <td>0</td>\n",
       "      <td>0</td>\n",
       "      <td>1</td>\n",
       "      <td>1</td>\n",
       "      <td>1</td>\n",
       "      <td>0</td>\n",
       "      <td>0</td>\n",
       "      <td>0</td>\n",
       "      <td>0</td>\n",
       "      <td>0</td>\n",
       "      <td>1</td>\n",
       "      <td>0</td>\n",
       "      <td>0</td>\n",
       "      <td>0.002222</td>\n",
       "    </tr>\n",
       "    <tr>\n",
       "      <th>1240</th>\n",
       "      <td>51</td>\n",
       "      <td>26</td>\n",
       "      <td>12</td>\n",
       "      <td>0.7</td>\n",
       "      <td>109</td>\n",
       "      <td>0</td>\n",
       "      <td>0</td>\n",
       "      <td>1</td>\n",
       "      <td>1</td>\n",
       "      <td>0</td>\n",
       "      <td>1</td>\n",
       "      <td>0</td>\n",
       "      <td>0</td>\n",
       "      <td>0</td>\n",
       "      <td>0</td>\n",
       "      <td>1</td>\n",
       "      <td>0</td>\n",
       "      <td>0</td>\n",
       "      <td>0.000645</td>\n",
       "    </tr>\n",
       "    <tr>\n",
       "      <th>438</th>\n",
       "      <td>36</td>\n",
       "      <td>9</td>\n",
       "      <td>31</td>\n",
       "      <td>1.0</td>\n",
       "      <td>0</td>\n",
       "      <td>1</td>\n",
       "      <td>0</td>\n",
       "      <td>1</td>\n",
       "      <td>0</td>\n",
       "      <td>0</td>\n",
       "      <td>0</td>\n",
       "      <td>0</td>\n",
       "      <td>1</td>\n",
       "      <td>0</td>\n",
       "      <td>1</td>\n",
       "      <td>0</td>\n",
       "      <td>0</td>\n",
       "      <td>0</td>\n",
       "      <td>0.002286</td>\n",
       "    </tr>\n",
       "    <tr>\n",
       "      <th>416</th>\n",
       "      <td>35</td>\n",
       "      <td>8</td>\n",
       "      <td>38</td>\n",
       "      <td>1.0</td>\n",
       "      <td>124</td>\n",
       "      <td>0</td>\n",
       "      <td>0</td>\n",
       "      <td>1</td>\n",
       "      <td>0</td>\n",
       "      <td>0</td>\n",
       "      <td>0</td>\n",
       "      <td>0</td>\n",
       "      <td>1</td>\n",
       "      <td>0</td>\n",
       "      <td>1</td>\n",
       "      <td>0</td>\n",
       "      <td>0</td>\n",
       "      <td>0</td>\n",
       "      <td>0.014942</td>\n",
       "    </tr>\n",
       "  </tbody>\n",
       "</table>\n",
       "<p>2000 rows × 19 columns</p>\n",
       "</div>"
      ],
      "text/plain": [
       "      Age  Experience  Income  CCAvg  Mortgage  Securities_Account  \\\n",
       "ID                                                                   \n",
       "2765   31           5      84    2.9       105                   0   \n",
       "4768   35           9      45    0.9       101                   1   \n",
       "3815   34           9      35    1.3         0                   0   \n",
       "3500   49          23     114    0.3       286                   0   \n",
       "2736   36          12      70    2.6       165                   0   \n",
       "...   ...         ...     ...    ...       ...                 ...   \n",
       "4373   34          10      41    2.4         0                   0   \n",
       "3402   39          15      28    1.4       118                   0   \n",
       "1240   51          26      12    0.7       109                   0   \n",
       "438    36           9      31    1.0         0                   1   \n",
       "416    35           8      38    1.0       124                   0   \n",
       "\n",
       "      CD_Account  Online  CreditCard  Family_1  Family_2  Family_3  Family_4  \\\n",
       "ID                                                                             \n",
       "2765           0       0           1         1         0         0         0   \n",
       "4768           0       0           0         0         0         1         0   \n",
       "3815           0       0           0         0         0         1         0   \n",
       "3500           0       1           0         1         0         0         0   \n",
       "2736           0       1           0         0         0         1         0   \n",
       "...          ...     ...         ...       ...       ...       ...       ...   \n",
       "4373           0       0           0         1         0         0         0   \n",
       "3402           0       1           1         1         0         0         0   \n",
       "1240           0       1           1         0         1         0         0   \n",
       "438            0       1           0         0         0         0         1   \n",
       "416            0       1           0         0         0         0         1   \n",
       "\n",
       "      Education_1  Education_2  Education_3  Actual  Prediction  p(Accept)  \n",
       "ID                                                                          \n",
       "2765            0            0            1       0           0   0.094751  \n",
       "4768            1            0            0       0           0   0.000788  \n",
       "3815            1            0            0       0           0   0.001939  \n",
       "3500            1            0            0       0           0   0.018540  \n",
       "2736            0            1            0       0           0   0.246400  \n",
       "...           ...          ...          ...     ...         ...        ...  \n",
       "4373            0            1            0       0           0   0.015834  \n",
       "3402            0            0            1       0           0   0.002222  \n",
       "1240            0            0            1       0           0   0.000645  \n",
       "438             0            1            0       0           0   0.002286  \n",
       "416             0            1            0       0           0   0.014942  \n",
       "\n",
       "[2000 rows x 19 columns]"
      ]
     },
     "execution_count": 247,
     "metadata": {},
     "output_type": "execute_result"
    }
   ],
   "source": [
    "valid_sum = pd.DataFrame(valid_X)\n",
    "valid_sum['Actual'] = valid_y\n",
    "valid_sum['Prediction'] = da_reg.predict(valid_X)\n",
    "valid_sum['p(Accept)'] = da_reg.predict_proba(valid_X)[:,1]\n",
    "valid_sum"
   ]
  },
  {
   "cell_type": "markdown",
   "metadata": {},
   "source": [
    "## Problem 12.1.b.ii\n",
    "Is one type of misclassification more likely than the other?"
   ]
  },
  {
   "cell_type": "code",
   "execution_count": 248,
   "metadata": {},
   "outputs": [
    {
     "data": {
      "text/plain": [
       "Actual\n",
       "0    1807\n",
       "1     193\n",
       "Name: count, dtype: int64"
      ]
     },
     "execution_count": 248,
     "metadata": {},
     "output_type": "execute_result"
    }
   ],
   "source": [
    "valid_sum.Actual.value_counts()"
   ]
  },
  {
   "cell_type": "code",
   "execution_count": 249,
   "metadata": {},
   "outputs": [
    {
     "data": {
      "text/plain": [
       "Prediction\n",
       "0    1711\n",
       "1     289\n",
       "Name: count, dtype: int64"
      ]
     },
     "execution_count": 249,
     "metadata": {},
     "output_type": "execute_result"
    }
   ],
   "source": [
    "valid_sum.Prediction.value_counts()"
   ]
  },
  {
   "cell_type": "code",
   "execution_count": 250,
   "metadata": {},
   "outputs": [
    {
     "name": "stdout",
     "output_type": "stream",
     "text": [
      "9.65\n",
      "90.35\n"
     ]
    }
   ],
   "source": [
    "actual_A = round((193/(1807+193))*100,4)\n",
    "actual_NA = round((1807/(1807+193))*100,4)\n",
    "print(actual_A)\n",
    "print(actual_NA)"
   ]
  },
  {
   "cell_type": "code",
   "execution_count": 251,
   "metadata": {},
   "outputs": [
    {
     "name": "stdout",
     "output_type": "stream",
     "text": [
      "14.45\n",
      "85.55\n"
     ]
    }
   ],
   "source": [
    "pred_A = round((289/(1711+289))*100,4)\n",
    "pred_NA = round((1711/(1711+289))*100,4)\n",
    "print(pred_A)\n",
    "print(pred_NA)"
   ]
  },
  {
   "cell_type": "code",
   "execution_count": 252,
   "metadata": {},
   "outputs": [
    {
     "name": "stdout",
     "output_type": "stream",
     "text": [
      "4.799999999999999\n",
      "-4.799999999999997\n"
     ]
    }
   ],
   "source": [
    "diff_A = pred_A-actual_A\n",
    "diff_NA = pred_NA-actual_NA\n",
    "print(diff_A)\n",
    "print(diff_NA)"
   ]
  },
  {
   "cell_type": "markdown",
   "metadata": {},
   "source": [
    "#### It is much more likely to miss classify as an acceptor more than as a non acceptor."
   ]
  },
  {
   "cell_type": "markdown",
   "metadata": {},
   "source": [
    "## Problem 12.1.b.iii\n",
    "Select three customers who were misclassified as _acceptors_ and three who were misclassified as _nonacceptors_. The goal is to determine why they are misclassified. First, examine their probability of being classified as acceptors: is it close to the\n",
    "threshold of 0.5? If not, compare their predictor values to the summary statistics of the two classes to determine why they were misclassified."
   ]
  },
  {
   "cell_type": "code",
   "execution_count": 253,
   "metadata": {},
   "outputs": [
    {
     "data": {
      "text/html": [
       "<div>\n",
       "<style scoped>\n",
       "    .dataframe tbody tr th:only-of-type {\n",
       "        vertical-align: middle;\n",
       "    }\n",
       "\n",
       "    .dataframe tbody tr th {\n",
       "        vertical-align: top;\n",
       "    }\n",
       "\n",
       "    .dataframe thead th {\n",
       "        text-align: right;\n",
       "    }\n",
       "</style>\n",
       "<table border=\"1\" class=\"dataframe\">\n",
       "  <thead>\n",
       "    <tr style=\"text-align: right;\">\n",
       "      <th></th>\n",
       "      <th>Age</th>\n",
       "      <th>Experience</th>\n",
       "      <th>Income</th>\n",
       "      <th>CCAvg</th>\n",
       "      <th>Mortgage</th>\n",
       "      <th>Securities_Account</th>\n",
       "      <th>CD_Account</th>\n",
       "      <th>Online</th>\n",
       "      <th>CreditCard</th>\n",
       "      <th>Family_1</th>\n",
       "      <th>Family_2</th>\n",
       "      <th>Family_3</th>\n",
       "      <th>Family_4</th>\n",
       "      <th>Education_1</th>\n",
       "      <th>Education_2</th>\n",
       "      <th>Education_3</th>\n",
       "      <th>Actual</th>\n",
       "      <th>Prediction</th>\n",
       "      <th>p(Accept)</th>\n",
       "    </tr>\n",
       "    <tr>\n",
       "      <th>ID</th>\n",
       "      <th></th>\n",
       "      <th></th>\n",
       "      <th></th>\n",
       "      <th></th>\n",
       "      <th></th>\n",
       "      <th></th>\n",
       "      <th></th>\n",
       "      <th></th>\n",
       "      <th></th>\n",
       "      <th></th>\n",
       "      <th></th>\n",
       "      <th></th>\n",
       "      <th></th>\n",
       "      <th></th>\n",
       "      <th></th>\n",
       "      <th></th>\n",
       "      <th></th>\n",
       "      <th></th>\n",
       "      <th></th>\n",
       "    </tr>\n",
       "  </thead>\n",
       "  <tbody>\n",
       "    <tr>\n",
       "      <th>933</th>\n",
       "      <td>51</td>\n",
       "      <td>27</td>\n",
       "      <td>112</td>\n",
       "      <td>1.8</td>\n",
       "      <td>0</td>\n",
       "      <td>1</td>\n",
       "      <td>1</td>\n",
       "      <td>1</td>\n",
       "      <td>1</td>\n",
       "      <td>0</td>\n",
       "      <td>0</td>\n",
       "      <td>1</td>\n",
       "      <td>0</td>\n",
       "      <td>0</td>\n",
       "      <td>1</td>\n",
       "      <td>0</td>\n",
       "      <td>0</td>\n",
       "      <td>1</td>\n",
       "      <td>0.993622</td>\n",
       "    </tr>\n",
       "    <tr>\n",
       "      <th>4169</th>\n",
       "      <td>60</td>\n",
       "      <td>34</td>\n",
       "      <td>139</td>\n",
       "      <td>0.4</td>\n",
       "      <td>0</td>\n",
       "      <td>0</td>\n",
       "      <td>0</td>\n",
       "      <td>1</td>\n",
       "      <td>0</td>\n",
       "      <td>0</td>\n",
       "      <td>0</td>\n",
       "      <td>0</td>\n",
       "      <td>1</td>\n",
       "      <td>1</td>\n",
       "      <td>0</td>\n",
       "      <td>0</td>\n",
       "      <td>1</td>\n",
       "      <td>0</td>\n",
       "      <td>0.180170</td>\n",
       "    </tr>\n",
       "    <tr>\n",
       "      <th>4673</th>\n",
       "      <td>52</td>\n",
       "      <td>26</td>\n",
       "      <td>180</td>\n",
       "      <td>1.7</td>\n",
       "      <td>550</td>\n",
       "      <td>0</td>\n",
       "      <td>0</td>\n",
       "      <td>1</td>\n",
       "      <td>0</td>\n",
       "      <td>1</td>\n",
       "      <td>0</td>\n",
       "      <td>0</td>\n",
       "      <td>0</td>\n",
       "      <td>1</td>\n",
       "      <td>0</td>\n",
       "      <td>0</td>\n",
       "      <td>0</td>\n",
       "      <td>1</td>\n",
       "      <td>0.656692</td>\n",
       "    </tr>\n",
       "    <tr>\n",
       "      <th>4157</th>\n",
       "      <td>37</td>\n",
       "      <td>12</td>\n",
       "      <td>193</td>\n",
       "      <td>8.6</td>\n",
       "      <td>0</td>\n",
       "      <td>0</td>\n",
       "      <td>0</td>\n",
       "      <td>0</td>\n",
       "      <td>0</td>\n",
       "      <td>1</td>\n",
       "      <td>0</td>\n",
       "      <td>0</td>\n",
       "      <td>0</td>\n",
       "      <td>1</td>\n",
       "      <td>0</td>\n",
       "      <td>0</td>\n",
       "      <td>0</td>\n",
       "      <td>1</td>\n",
       "      <td>0.976114</td>\n",
       "    </tr>\n",
       "    <tr>\n",
       "      <th>2160</th>\n",
       "      <td>61</td>\n",
       "      <td>35</td>\n",
       "      <td>99</td>\n",
       "      <td>4.8</td>\n",
       "      <td>255</td>\n",
       "      <td>0</td>\n",
       "      <td>0</td>\n",
       "      <td>0</td>\n",
       "      <td>1</td>\n",
       "      <td>1</td>\n",
       "      <td>0</td>\n",
       "      <td>0</td>\n",
       "      <td>0</td>\n",
       "      <td>0</td>\n",
       "      <td>0</td>\n",
       "      <td>1</td>\n",
       "      <td>1</td>\n",
       "      <td>0</td>\n",
       "      <td>0.396971</td>\n",
       "    </tr>\n",
       "    <tr>\n",
       "      <th>443</th>\n",
       "      <td>58</td>\n",
       "      <td>28</td>\n",
       "      <td>122</td>\n",
       "      <td>3.0</td>\n",
       "      <td>115</td>\n",
       "      <td>0</td>\n",
       "      <td>0</td>\n",
       "      <td>1</td>\n",
       "      <td>0</td>\n",
       "      <td>1</td>\n",
       "      <td>0</td>\n",
       "      <td>0</td>\n",
       "      <td>0</td>\n",
       "      <td>0</td>\n",
       "      <td>0</td>\n",
       "      <td>1</td>\n",
       "      <td>1</td>\n",
       "      <td>0</td>\n",
       "      <td>0.398996</td>\n",
       "    </tr>\n",
       "  </tbody>\n",
       "</table>\n",
       "</div>"
      ],
      "text/plain": [
       "      Age  Experience  Income  CCAvg  Mortgage  Securities_Account  \\\n",
       "ID                                                                   \n",
       "933    51          27     112    1.8         0                   1   \n",
       "4169   60          34     139    0.4         0                   0   \n",
       "4673   52          26     180    1.7       550                   0   \n",
       "4157   37          12     193    8.6         0                   0   \n",
       "2160   61          35      99    4.8       255                   0   \n",
       "443    58          28     122    3.0       115                   0   \n",
       "\n",
       "      CD_Account  Online  CreditCard  Family_1  Family_2  Family_3  Family_4  \\\n",
       "ID                                                                             \n",
       "933            1       1           1         0         0         1         0   \n",
       "4169           0       1           0         0         0         0         1   \n",
       "4673           0       1           0         1         0         0         0   \n",
       "4157           0       0           0         1         0         0         0   \n",
       "2160           0       0           1         1         0         0         0   \n",
       "443            0       1           0         1         0         0         0   \n",
       "\n",
       "      Education_1  Education_2  Education_3  Actual  Prediction  p(Accept)  \n",
       "ID                                                                          \n",
       "933             0            1            0       0           1   0.993622  \n",
       "4169            1            0            0       1           0   0.180170  \n",
       "4673            1            0            0       0           1   0.656692  \n",
       "4157            1            0            0       0           1   0.976114  \n",
       "2160            0            0            1       1           0   0.396971  \n",
       "443             0            0            1       1           0   0.398996  "
      ]
     },
     "execution_count": 253,
     "metadata": {},
     "output_type": "execute_result"
    }
   ],
   "source": [
    "bads_id = []\n",
    "bads = valid_sum[['Actual','Prediction']].where(valid_sum.Actual != valid_sum.Prediction).dropna()\n",
    "for x in bads.sort_values(ascending=False,by='Actual').head(3).index:\n",
    "    bads_id.append(x)\n",
    "for x in bads.sort_values(ascending=True,by='Actual').head(3).index:\n",
    "    bads_id.append(x)\n",
    "bads = valid_sum.query('index in @bads_id')\n",
    "bads"
   ]
  },
  {
   "cell_type": "code",
   "execution_count": 254,
   "metadata": {},
   "outputs": [
    {
     "name": "stdout",
     "output_type": "stream",
     "text": [
      "Age: acceptors 44.53±11.37, non-acceptors 45.69±11.48\n",
      "Experience: acceptors 19.34±11.32, non-acceptors 20.45±11.49\n",
      "Income: acceptors 145.47±31.31, non-acceptors 66.18±40.86\n",
      "CCAvg: acceptors 4.06±2.00, non-acceptors 1.71±1.55\n",
      "Mortgage: acceptors 98.46±160.58, non-acceptors 52.06±91.46\n",
      "Securities_Account: acceptors 12.89%, non-acceptors 9.92%\n",
      "CD_Account: acceptors 31.01%, non-acceptors 3.35%\n",
      "Online: acceptors 60.98%, non-acceptors 58.75%\n",
      "CreditCard: acceptors 30.66%, non-acceptors 29.64%\n",
      "Family_1: acceptors 19.86%, non-acceptors 30.00%\n",
      "Family_2: acceptors 24.04%, non-acceptors 26.35%\n",
      "Family_3: acceptors 29.27%, non-acceptors 19.35%\n",
      "Family_4: acceptors 26.83%, non-acceptors 24.29%\n",
      "Education_1: acceptors 18.47%, non-acceptors 43.72%\n",
      "Education_2: acceptors 40.42%, non-acceptors 27.02%\n",
      "Education_3: acceptors 41.11%, non-acceptors 29.27%\n"
     ]
    }
   ],
   "source": [
    "acceptors = train_X[train_y == 1]\n",
    "non_acceptors = train_X[train_y == 0]\n",
    "\n",
    "for x in train_X.columns:\n",
    "    if train_X[x].dtype == 'uint8':\n",
    "        # Categorical variable\n",
    "        acceptor_pct = acceptors[x].sum() / len(acceptors)\n",
    "        non_acceptor_pct = non_acceptors[x].sum() / len(non_acceptors)\n",
    "        print(f'{x}: acceptors {acceptor_pct:.2%}, non-acceptors {non_acceptor_pct:.2%}')\n",
    "    else:\n",
    "        # Continuous variable\n",
    "        acceptor_mean = acceptors[x].mean()\n",
    "        acceptor_std = acceptors[x].std()\n",
    "        non_acceptor_mean = non_acceptors[x].mean()\n",
    "        non_acceptor_std = non_acceptors[x].std()\n",
    "        print(f'{x}: acceptors {acceptor_mean:.2f}±{acceptor_std:.2f}, non-acceptors {non_acceptor_mean:.2f}±{non_acceptor_std:.2f}')"
   ]
  },
  {
   "cell_type": "markdown",
   "metadata": {},
   "source": [
    "#### None of them are close to the threshold of 0.50. Far as I can tell, it may be from a lot of the values from my selected \"bads\" are outside the std of their predictors. For ID 933, We see its the only one with a CD_Account and Securities_Account, which pushed it well into the prediction range of being an acceptor, while in reality it was a denier. They may just be an outlier."
   ]
  },
  {
   "cell_type": "markdown",
   "metadata": {},
   "source": [
    "## Problem 12.1.c\n",
    "As in many marketing campaigns, it is more important to identify customers who will accept the offer rather than customers who will not accept it. Therefore, a good model should be especially accurate at detecting acceptors. Examine the lift chart and decile-wise lift chart for the validation set and interpret them in light of this ranking goal."
   ]
  },
  {
   "cell_type": "code",
   "execution_count": 255,
   "metadata": {},
   "outputs": [
    {
     "data": {
      "text/plain": [
       "<function matplotlib.pyplot.show(close=None, block=None)>"
      ]
     },
     "execution_count": 255,
     "metadata": {},
     "output_type": "execute_result"
    },
    {
     "data": {
      "image/png": "[encoded data removed]",
      "text/plain": [
       "<Figure size 1000x400 with 2 Axes>"
      ]
     },
     "metadata": {},
     "output_type": "display_data"
    }
   ],
   "source": [
    "valid_sum = valid_sum.sort_values(by=['p(Accept)'], ascending=False)\n",
    "fig, axes = plt.subplots(nrows=1,ncols=2, figsize=(10,4))\n",
    "gainsChart(valid_sum.Actual, ax=axes[0])\n",
    "liftChart(valid_sum.Actual,title=False, ax=axes[1])\n",
    "plt.tight_layout()\n",
    "plt.show"
   ]
  },
  {
   "cell_type": "markdown",
   "metadata": {},
   "source": [
    "#### Looking at the charts, we can see that overall the model improves the gains by 7.4 times for the first decile. unfortunately due to its rather high rate of misclassifying the acceptors as non acceptors, this information must be scrutinized further, likely by improving the priors used."
   ]
  },
  {
   "cell_type": "markdown",
   "metadata": {},
   "source": [
    "## Problem 12.1.d\n",
    "Compare the results from the discriminant analysis with those from a logistic regression (both with cutoff 0.5 and the same predictors). Examine the confusion matrices, the lift charts, and the decile charts. Which method performs better on your validation set in detecting the acceptors?\n",
    "\n",
    "We can take the confusion matrix from the logistic regression model in chapter 10.\n",
    "```\n",
    "Confusion Matrix (Accuracy 0.9595)\n",
    "\n",
    "       Prediction\n",
    "Actual    0    1\n",
    "     0 1791   16\n",
    "     1   65  128\n",
    "```"
   ]
  },
  {
   "cell_type": "code",
   "execution_count": 256,
   "metadata": {},
   "outputs": [
    {
     "name": "stdout",
     "output_type": "stream",
     "text": [
      "Confusion Matrix (Accuracy 0.9615)\n",
      "\n",
      "             Prediction\n",
      "      Actual Not Accepted     Accepted\n",
      "Not Accepted         1794           13\n",
      "    Accepted           64          129\n"
     ]
    },
    {
     "data": {
      "text/plain": [
       "<function matplotlib.pyplot.show(close=None, block=None)>"
      ]
     },
     "execution_count": 256,
     "metadata": {},
     "output_type": "execute_result"
    },
    {
     "data": {
      "image/png": "[encoded data removed]",
      "text/plain": [
       "<Figure size 1000x400 with 2 Axes>"
      ]
     },
     "metadata": {},
     "output_type": "display_data"
    }
   ],
   "source": [
    "lg_reg = LogisticRegression(max_iter=10000,penalty=\"l2\", C=1e42, solver='liblinear', tol=1e-8)\n",
    "lg_reg.fit(train_X, train_y)\n",
    "classificationSummary(valid_y,lg_reg.predict(valid_X),class_names=['Not Accepted','Accepted'])\n",
    "lg_proba = lg_reg.predict_proba(valid_X)\n",
    "result = pd.DataFrame({'Actual':valid_y,\n",
    "                      'p(0)': [p[0] for p in lg_proba],\n",
    "                      'p(1)': [p[1] for p in lg_proba]\n",
    "                      })\n",
    "df = result.sort_values(by=['p(1)'], ascending=False)\n",
    "\n",
    "fig, axes = plt.subplots(nrows=1,ncols=2, figsize=(10,4))\n",
    "gainsChart(df.Actual, ax=axes[0])\n",
    "liftChart(df.Actual,title=False, ax=axes[1])\n",
    "plt.tight_layout()\n",
    "plt.show"
   ]
  },
  {
   "cell_type": "code",
   "execution_count": 257,
   "metadata": {},
   "outputs": [
    {
     "name": "stdout",
     "output_type": "stream",
     "text": [
      "Confusion Matrix (Accuracy 0.9200)\n",
      "\n",
      "             Prediction\n",
      "      Actual Not Accepted     Accepted\n",
      "Not Accepted         1679          128\n",
      "    Accepted           32          161\n"
     ]
    },
    {
     "data": {
      "text/plain": [
       "<function matplotlib.pyplot.show(close=None, block=None)>"
      ]
     },
     "execution_count": 257,
     "metadata": {},
     "output_type": "execute_result"
    },
    {
     "data": {
      "image/png": "[encoded data removed]",
      "text/plain": [
       "<Figure size 1000x400 with 2 Axes>"
      ]
     },
     "metadata": {},
     "output_type": "display_data"
    }
   ],
   "source": [
    "classificationSummary(valid_y,da_reg.predict(valid_X),class_names=['Not Accepted','Accepted'])\n",
    "valid_sum = valid_sum.sort_values(by=['p(Accept)'], ascending=False)\n",
    "fig, axes = plt.subplots(nrows=1,ncols=2, figsize=(10,4))\n",
    "gainsChart(valid_sum.Actual, ax=axes[0])\n",
    "liftChart(valid_sum.Actual,title=False, ax=axes[1])\n",
    "plt.tight_layout()\n",
    "plt.show"
   ]
  },
  {
   "cell_type": "markdown",
   "metadata": {},
   "source": [
    "#### Comparing Logistic Regression and Discriminant Analysis, it would appear that Discriminant Analysis did a better job. Taking the cumulative gains in the decile lift chart the DA performs .2 better."
   ]
  },
  {
   "cell_type": "markdown",
   "metadata": {},
   "source": [
    "## Problem 12.1.e\n",
    "The bank is planning to continue its campaign by sending its offer to 1000 additional customers. Suppose that the cost of sending the offer is \\\\$1 and the profit from an accepted offer is \\\\$50. What is the expected profitability of this campaign?\n"
   ]
  },
  {
   "cell_type": "code",
   "execution_count": 259,
   "metadata": {},
   "outputs": [
    {
     "name": "stdout",
     "output_type": "stream",
     "text": [
      "5647\n"
     ]
    }
   ],
   "source": [
    "profitability = round(((1*1000)-(((1000*0.92)*0.1445)*50))*-1)\n",
    "print(profitability)"
   ]
  },
  {
   "cell_type": "markdown",
   "metadata": {},
   "source": [
    "#### Based on my numbers, the profit of this campaign should be $32241. This is because you take the number of offers sent out, multiply it by the probability of saying yes per my model and then the models accuracy and finally subtract the costs from the predicted profit, multiplied by -1 to make it positive in this case."
   ]
  },
  {
   "cell_type": "markdown",
   "metadata": {},
   "source": [
    "## Problem 12.1.f\n",
    "The cost of misclassifying a loan acceptor customer as a nonacceptor is much higher than the opposite misclassification cost. To minimize the expected cost of misclassification, should the cutoff value for classification (which is currently at 0.5) be increased or decreased?"
   ]
  },
  {
   "cell_type": "markdown",
   "metadata": {},
   "source": [
    "#### Given that the cost of misclassifying a record as accepting the offer when they will not costs 1/50 of correctly accepting the offer, I think we should decrease the cutoff value, as catching the outliers will net more profit, so long as the number of not-accepts is less than 48 per accept.\n",
    "#### In my Validation set there are 193 Accepts. This means if we keep the number of false accepted under 4632, our profit still stays significantly high.\n",
    "#### If my profitability formula is correct, then our best bet is to set priors to 0.016,0.984 and run the model. This nets in a crazy drop in accuracy, but improves profitability.\n",
    "#### If we focus on model accuracy, were better with 0.805,0.195. Its much lower profit, but is also the safer bet as it errs on the side of caution."
   ]
  },
  {
   "cell_type": "code",
   "execution_count": 407,
   "metadata": {},
   "outputs": [],
   "source": [
    "from sklearn.metrics import confusion_matrix"
   ]
  },
  {
   "cell_type": "code",
   "execution_count": 419,
   "metadata": {},
   "outputs": [
    {
     "name": "stdout",
     "output_type": "stream",
     "text": [
      "0.949\n"
     ]
    },
    {
     "data": {
      "text/html": [
       "<div>\n",
       "<style scoped>\n",
       "    .dataframe tbody tr th:only-of-type {\n",
       "        vertical-align: middle;\n",
       "    }\n",
       "\n",
       "    .dataframe tbody tr th {\n",
       "        vertical-align: top;\n",
       "    }\n",
       "\n",
       "    .dataframe thead th {\n",
       "        text-align: right;\n",
       "    }\n",
       "</style>\n",
       "<table border=\"1\" class=\"dataframe\">\n",
       "  <thead>\n",
       "    <tr style=\"text-align: right;\">\n",
       "      <th></th>\n",
       "      <th>Accuracy</th>\n",
       "      <th>Priors</th>\n",
       "      <th>Predicted</th>\n",
       "      <th>Profit</th>\n",
       "    </tr>\n",
       "  </thead>\n",
       "  <tbody>\n",
       "    <tr>\n",
       "      <th>804</th>\n",
       "      <td>0.9490</td>\n",
       "      <td>0.805</td>\n",
       "      <td>0.0935</td>\n",
       "      <td>3437.0</td>\n",
       "    </tr>\n",
       "    <tr>\n",
       "      <th>803</th>\n",
       "      <td>0.9490</td>\n",
       "      <td>0.804</td>\n",
       "      <td>0.0935</td>\n",
       "      <td>3437.0</td>\n",
       "    </tr>\n",
       "    <tr>\n",
       "      <th>802</th>\n",
       "      <td>0.9490</td>\n",
       "      <td>0.803</td>\n",
       "      <td>0.0935</td>\n",
       "      <td>3437.0</td>\n",
       "    </tr>\n",
       "    <tr>\n",
       "      <th>806</th>\n",
       "      <td>0.9485</td>\n",
       "      <td>0.807</td>\n",
       "      <td>0.0930</td>\n",
       "      <td>3411.0</td>\n",
       "    </tr>\n",
       "    <tr>\n",
       "      <th>805</th>\n",
       "      <td>0.9485</td>\n",
       "      <td>0.806</td>\n",
       "      <td>0.0930</td>\n",
       "      <td>3411.0</td>\n",
       "    </tr>\n",
       "    <tr>\n",
       "      <th>...</th>\n",
       "      <td>...</td>\n",
       "      <td>...</td>\n",
       "      <td>...</td>\n",
       "      <td>...</td>\n",
       "    </tr>\n",
       "    <tr>\n",
       "      <th>4</th>\n",
       "      <td>0.3905</td>\n",
       "      <td>0.005</td>\n",
       "      <td>0.7040</td>\n",
       "      <td>12746.0</td>\n",
       "    </tr>\n",
       "    <tr>\n",
       "      <th>3</th>\n",
       "      <td>0.3630</td>\n",
       "      <td>0.004</td>\n",
       "      <td>0.7325</td>\n",
       "      <td>12295.0</td>\n",
       "    </tr>\n",
       "    <tr>\n",
       "      <th>2</th>\n",
       "      <td>0.3290</td>\n",
       "      <td>0.003</td>\n",
       "      <td>0.7665</td>\n",
       "      <td>11609.0</td>\n",
       "    </tr>\n",
       "    <tr>\n",
       "      <th>1</th>\n",
       "      <td>0.2935</td>\n",
       "      <td>0.002</td>\n",
       "      <td>0.8030</td>\n",
       "      <td>10784.0</td>\n",
       "    </tr>\n",
       "    <tr>\n",
       "      <th>0</th>\n",
       "      <td>0.2255</td>\n",
       "      <td>0.001</td>\n",
       "      <td>0.8710</td>\n",
       "      <td>8821.0</td>\n",
       "    </tr>\n",
       "  </tbody>\n",
       "</table>\n",
       "<p>999 rows × 4 columns</p>\n",
       "</div>"
      ],
      "text/plain": [
       "     Accuracy  Priors  Predicted   Profit\n",
       "804    0.9490   0.805     0.0935   3437.0\n",
       "803    0.9490   0.804     0.0935   3437.0\n",
       "802    0.9490   0.803     0.0935   3437.0\n",
       "806    0.9485   0.807     0.0930   3411.0\n",
       "805    0.9485   0.806     0.0930   3411.0\n",
       "..        ...     ...        ...      ...\n",
       "4      0.3905   0.005     0.7040  12746.0\n",
       "3      0.3630   0.004     0.7325  12295.0\n",
       "2      0.3290   0.003     0.7665  11609.0\n",
       "1      0.2935   0.002     0.8030  10784.0\n",
       "0      0.2255   0.001     0.8710   8821.0\n",
       "\n",
       "[999 rows x 4 columns]"
      ]
     },
     "execution_count": 419,
     "metadata": {},
     "output_type": "execute_result"
    }
   ],
   "source": [
    "#Created a bit of a CV here to test priors.\n",
    "results = pd.DataFrame(columns=['Accuracy','Priors','Predicted','Profit'])\n",
    "#Accuracy = max_acc\n",
    "#Priors = z\n",
    "#Predicted = pred_A\n",
    "#Profit = profitability\n",
    "tester = range(1,1000)\n",
    "max_acc = 0\n",
    "for x in tester:\n",
    "    z = x/1000\n",
    "    #testing if using the default priors has a significant change (hint it does!)\n",
    "    da_reg = LinearDiscriminantAnalysis(priors=[z,1-z])\n",
    "    da_reg.fit(train_X,train_y)\n",
    "    valid_sum = pd.DataFrame(valid_X)\n",
    "    valid_sum['Actual'] = valid_y\n",
    "    valid_sum['Prediction'] = da_reg.predict(valid_X)\n",
    "    valid_sum['p(Accept)'] = da_reg.predict_proba(valid_X)[:,1]\n",
    "    cf = confusion_matrix(valid_sum.Actual,valid_sum.Prediction)\n",
    "    ANA_PNA =cf[0][0]\n",
    "    ANA_PA =cf[0][1]\n",
    "    AA_PNA =cf[1][0]\n",
    "    AA_PA =cf[1][1]\n",
    "    TOTAL = cf[0][0]+cf[0][1]+cf[1][0]+cf[1][1]\n",
    "    bank_acc = (ANA_PNA+AA_PA)/TOTAL\n",
    "    if bank_acc > max_acc:\n",
    "        max_acc = bank_acc\n",
    "    Predict_NA = ANA_PNA+AA_PNA\n",
    "    Predict_A = ANA_PA+AA_PA\n",
    "    pred_A = round((Predict_A/(Predict_NA+Predict_A)),5)\n",
    "    profitability = round(((1*1000)-(((1000*bank_acc)*pred_A)*50))*-1)\n",
    "    results.loc[len(results.index)] = [bank_acc,z,pred_A,profitability]\n",
    "\n",
    "results = results.sort_values(by=['Accuracy'], ascending=False)\n",
    "print(max_acc)\n",
    "results#.head(1)"
   ]
  },
  {
   "cell_type": "code",
   "execution_count": 421,
   "metadata": {},
   "outputs": [
    {
     "name": "stdout",
     "output_type": "stream",
     "text": [
      "Confusion Matrix (Accuracy 0.9490)\n",
      "\n",
      "       Prediction\n",
      "Actual    0    1\n",
      "     0 1759   48\n",
      "     1   54  139\n"
     ]
    }
   ],
   "source": [
    "#testing if using the default priors has a significant change (hint it does!)\n",
    "da_reg = LinearDiscriminantAnalysis(priors=[0.805,0.195])\n",
    "da_reg.fit(train_X,train_y)\n",
    "classificationSummary(valid_y,da_reg.predict(valid_X))"
   ]
  },
  {
   "cell_type": "code",
   "execution_count": 422,
   "metadata": {},
   "outputs": [],
   "source": [
    "valid_sum = pd.DataFrame(valid_X)\n",
    "valid_sum['Actual'] = valid_y\n",
    "valid_sum['Prediction'] = da_reg.predict(valid_X)\n",
    "valid_sum['p(Accept)'] = da_reg.predict_proba(valid_X)[:,1]"
   ]
  },
  {
   "cell_type": "code",
   "execution_count": 423,
   "metadata": {},
   "outputs": [],
   "source": [
    "Predict_NA = ANA_PNA+AA_PNA\n",
    "Predict_A = ANA_PA+AA_PA"
   ]
  },
  {
   "cell_type": "code",
   "execution_count": 424,
   "metadata": {},
   "outputs": [
    {
     "name": "stdout",
     "output_type": "stream",
     "text": [
      "0.949\n"
     ]
    }
   ],
   "source": [
    "cf = confusion_matrix(valid_sum.Actual,valid_sum.Prediction)\n",
    "ANA_PNA =cf[0][0]\n",
    "ANA_PA =cf[0][1]\n",
    "AA_PNA =cf[1][0]\n",
    "AA_PA =cf[1][1]\n",
    "TOTAL = cf[0][0]+cf[0][1]+cf[1][0]+cf[1][1]\n",
    "bank_acc = (ANA_PNA+AA_PA)/TOTAL\n",
    "print(bank_acc)"
   ]
  },
  {
   "cell_type": "code",
   "execution_count": 425,
   "metadata": {},
   "outputs": [
    {
     "name": "stdout",
     "output_type": "stream",
     "text": [
      "0.0155\n",
      "0.9845\n"
     ]
    }
   ],
   "source": [
    "pred_A = round((Predict_A/(Predict_NA+Predict_A)),5)\n",
    "pred_NA = round((Predict_NA/(Predict_NA+Predict_A)),5)\n",
    "print(pred_A)\n",
    "print(pred_NA)"
   ]
  },
  {
   "cell_type": "code",
   "execution_count": 426,
   "metadata": {},
   "outputs": [
    {
     "name": "stdout",
     "output_type": "stream",
     "text": [
      "-265\n"
     ]
    }
   ],
   "source": [
    "profitability = round(((1*1000)-(((1000*bank_acc)*pred_A)*50))*-1)\n",
    "print(profitability)"
   ]
  },
  {
   "cell_type": "code",
   "execution_count": 427,
   "metadata": {},
   "outputs": [
    {
     "name": "stdout",
     "output_type": "stream",
     "text": [
      "Confusion Matrix (Accuracy 0.9490)\n",
      "\n",
      "             Prediction\n",
      "      Actual Not Accepted     Accepted\n",
      "Not Accepted         1759           48\n",
      "    Accepted           54          139\n"
     ]
    },
    {
     "data": {
      "text/plain": [
       "<function matplotlib.pyplot.show(close=None, block=None)>"
      ]
     },
     "execution_count": 427,
     "metadata": {},
     "output_type": "execute_result"
    },
    {
     "data": {
      "image/png": "[encoded data removed]",
      "text/plain": [
       "<Figure size 1000x400 with 2 Axes>"
      ]
     },
     "metadata": {},
     "output_type": "display_data"
    }
   ],
   "source": [
    "classificationSummary(valid_y,da_reg.predict(valid_X),class_names=['Not Accepted','Accepted'])\n",
    "valid_sum = valid_sum.sort_values(by=['p(Accept)'], ascending=False)\n",
    "fig, axes = plt.subplots(nrows=1,ncols=2, figsize=(10,4))\n",
    "gainsChart(valid_sum.Actual, ax=axes[0])\n",
    "liftChart(valid_sum.Actual,title=False, ax=axes[1])\n",
    "plt.tight_layout()\n",
    "plt.show"
   ]
  },
  {
   "cell_type": "markdown",
   "metadata": {},
   "source": [
    "# Problem 12.3: Detecting Spam E-mail (from the UCI Machine Learning Repository)\n",
    "A team at Hewlett-Packard collected data on a large number of e-mail messages from their postmaster and personal e-mail for the purpose of finding a classifier that can separate e-mail messages that are _spam_ vs. _nonspam_ (a.k.a. 'ham'). The spam concept is diverse: It includes advertisements for products or websites, 'make money fast' schemes, chain letters, pornography, and so on. The definition used here is 'unsolicited commercial e-mail.' The file _Spambase.csv_ contains information on 4601 e-mail messages, among which 1813 are tagged 'spam.' The predictors include 57 attributes, most of them are the average number of times a certain word (e.g., mail, George) or symbol (e.g., \\#, !) appears in the e-mail. A few predictors are\n",
    "related to the number and length of capitalized words.\n",
    "\n",
    "## Problem 12.3.a\n",
    "To reduce the number of predictors to a manageable size, examine how each predictor differs between the _spam_ and _nonspam_ e-mails by comparing the spam-class average and nonspam-class average. Which are the 11 predictors that appear to vary the most between _spam_ and _nonspam_ e-mails? From these 11, which words or signs occur more often in spam?"
   ]
  },
  {
   "cell_type": "code",
   "execution_count": null,
   "metadata": {},
   "outputs": [],
   "source": []
  },
  {
   "cell_type": "markdown",
   "metadata": {},
   "source": [
    "## Problem 12.3.b\n",
    "Partition the data into training and validation sets, then perform a discriminant analysis on the training data using only the 11 predictors."
   ]
  },
  {
   "cell_type": "code",
   "execution_count": null,
   "metadata": {},
   "outputs": [],
   "source": []
  },
  {
   "cell_type": "markdown",
   "metadata": {},
   "source": [
    "## Problem 12.3.c\n",
    "If we are interested mainly in detecting spam messages, is this model useful? Use the confusion matrix, lift chart, and decile chart for the validation set for the evaluation."
   ]
  },
  {
   "cell_type": "code",
   "execution_count": null,
   "metadata": {},
   "outputs": [],
   "source": []
  },
  {
   "cell_type": "markdown",
   "metadata": {},
   "source": [
    "## Problem 12.3.d\n",
    "In the sample, almost 40\\% of the e-mail messages were tagged as spam. However, suppose that the actual proportion of spam messages in these e-mail accounts is 10\\%. Compute the intercept of the classification (discriminant) function to account for this information."
   ]
  },
  {
   "cell_type": "code",
   "execution_count": null,
   "metadata": {},
   "outputs": [],
   "source": []
  },
  {
   "cell_type": "markdown",
   "metadata": {},
   "source": [
    "## Problem 12.3.e\n",
    "A spam filter that is based on your model is used, so that only messages that are classified as _nonspam_ are delivered, while messages that are classified as _spam_ are quarantined. In this case, misclassifying a nonspam e-mail (as spam) has much heftier results. Suppose that the cost of quarantining a nonspam e-mail is 20 times\n",
    "that of not detecting a spam message. Compute the intercept of the classification (discriminant) function to account for these costs (<b>assume that the proportion of spam is reflected correctly by the sample proportion</b>)."
   ]
  },
  {
   "cell_type": "code",
   "execution_count": null,
   "metadata": {},
   "outputs": [],
   "source": []
  },
  {
   "cell_type": "markdown",
   "metadata": {},
   "source": [
    "## Problem 12.3.f\n",
    "Use the LinearDiscriminantAnalysis implementation in sklearn to adjust the priors to take the misclassification costs in 12.3.e into account. Does adjusting the priors to take the misclassification costs into account lead to a model which predicts fewer <i>nonspam</i> messages as <i>spam</i>? Report the numerical result."
   ]
  },
  {
   "cell_type": "code",
   "execution_count": null,
   "metadata": {},
   "outputs": [],
   "source": []
  }
 ],
 "metadata": {
  "kernelspec": {
   "display_name": "Python 3",
   "language": "python",
   "name": "python3"
  },
  "language_info": {
   "codemirror_mode": {
    "name": "ipython",
    "version": 3
   },
   "file_extension": ".py",
   "mimetype": "text/x-python",
   "name": "python",
   "nbconvert_exporter": "python",
   "pygments_lexer": "ipython3",
   "version": "3.12.0"
  }
 },
 "nbformat": 4,
 "nbformat_minor": 4
}
