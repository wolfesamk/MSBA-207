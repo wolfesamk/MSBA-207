{
 "cells": [
  {
   "cell_type": "markdown",
   "metadata": {},
   "source": [
    "# Chapter 12: Discriminant Analysis"
   ]
  },
  {
   "cell_type": "code",
   "execution_count": 1,
   "metadata": {},
   "outputs": [],
   "source": [
    "from pathlib import Path\n",
    "\n",
    "import pandas as pd\n",
    "import numpy as np\n",
    "import math\n",
    "import seaborn as sns\n",
    "\n",
    "from sklearn.linear_model import LogisticRegression\n",
    "from sklearn.discriminant_analysis import LinearDiscriminantAnalysis\n",
    "from sklearn.model_selection import train_test_split\n",
    "\n",
    "import matplotlib.pylab as plt\n",
    "\n",
    "from dmba import classificationSummary\n",
    "from dmba import gainsChart, liftChart\n",
    "\n",
    "%matplotlib inline"
   ]
  },
  {
   "cell_type": "code",
   "execution_count": 2,
   "metadata": {},
   "outputs": [],
   "source": [
    "# Working directory:\n",
    "# replace the argument of the `Path`\n",
    "DATA = Path('E:/Aliit/School/MSBA/206/MSBA-206/dmba')\n",
    "# and then load data using \n",
    "# pd.read_csv(DATA / ‘filename.csv’)"
   ]
  },
  {
   "cell_type": "markdown",
   "metadata": {},
   "source": [
    "## \"Classification function\" in Chapter 12 of the DMBA textbook is same as \"disciminant function\"."
   ]
  },
  {
   "cell_type": "markdown",
   "metadata": {},
   "source": [
    "# Problem 12.1: Personal Loan Acceptance\n",
    "Universal Bank is a relatively young bank growing\n",
    "rapidly in terms of overall customer acquisition. The majority of\n",
    "these customers are liability customers with varying sizes of\n",
    "relationship with the bank. The customer base of asset customers is\n",
    "quite small, and the bank is interested in expanding this base\n",
    "rapidly to bring in more loan business. In particular, it wants to\n",
    "explore ways of converting its liability customers to personal loan\n",
    "customers.\n",
    "\n",
    "A campaign the bank ran for liability customers last year showed a\n",
    "healthy conversion rate of over 9\\% successes. This has encouraged the\n",
    "retail marketing department to devise smarter campaigns with better\n",
    "target marketing. The goal of our analysis is to model the previous\n",
    "campaign's customer behavior to analyze what combination of factors\n",
    "make a customer more likely to accept a personal loan. This will serve\n",
    "as the basis for the design of a new campaign.\n",
    "\n",
    "The file _UniversalBank.csv_ contains data on 5000 customers. The data include customer demographic information (e.g., age, income), the customer's relationship with the bank (e.g., mortgage, securities account), and the customer response to the last personal loan campaign (Personal Loan). Among these 5000 customers, only 480 (= 9.6\\%)\n",
    "accepted the personal loan that was offered to them in the previous campaign.\n",
    "\n",
    "Partition the data (60\\% training and 40\\% validation) and then perform a discriminant analysis that models Personal Loan as a function of the remaining predictors (excluding zip code). Remember to turn categorical predictors with more than two categories into dummy variables first. Specify the success class as 1 (personal loan acceptance), and use the default cutoff value of 0.5.\n",
    "\n"
   ]
  },
  {
   "cell_type": "code",
   "execution_count": 3,
   "metadata": {},
   "outputs": [],
   "source": [
    "# Loading data, setting ID as index, and dropping ZIP Code\n",
    "df_bank = pd.read_csv(DATA / 'UniversalBank.csv').drop(columns=['ZIP Code','ID'])"
   ]
  },
  {
   "cell_type": "code",
   "execution_count": 4,
   "metadata": {},
   "outputs": [],
   "source": [
    "#Removing spaces from column names\n",
    "names = df_bank.columns.to_list()\n",
    "for x in names:\n",
    "    df_bank = df_bank.rename(columns={x:x.replace(' ','_')})"
   ]
  },
  {
   "cell_type": "code",
   "execution_count": 5,
   "metadata": {},
   "outputs": [
    {
     "data": {
      "text/html": [
       "<div>\n",
       "<style scoped>\n",
       "    .dataframe tbody tr th:only-of-type {\n",
       "        vertical-align: middle;\n",
       "    }\n",
       "\n",
       "    .dataframe tbody tr th {\n",
       "        vertical-align: top;\n",
       "    }\n",
       "\n",
       "    .dataframe thead th {\n",
       "        text-align: right;\n",
       "    }\n",
       "</style>\n",
       "<table border=\"1\" class=\"dataframe\">\n",
       "  <thead>\n",
       "    <tr style=\"text-align: right;\">\n",
       "      <th></th>\n",
       "      <th>Age</th>\n",
       "      <th>Experience</th>\n",
       "      <th>Income</th>\n",
       "      <th>Family</th>\n",
       "      <th>CCAvg</th>\n",
       "      <th>Education</th>\n",
       "      <th>Mortgage</th>\n",
       "      <th>Personal_Loan</th>\n",
       "      <th>Securities_Account</th>\n",
       "      <th>CD_Account</th>\n",
       "      <th>Online</th>\n",
       "      <th>CreditCard</th>\n",
       "    </tr>\n",
       "  </thead>\n",
       "  <tbody>\n",
       "    <tr>\n",
       "      <th>0</th>\n",
       "      <td>25</td>\n",
       "      <td>1</td>\n",
       "      <td>49</td>\n",
       "      <td>4</td>\n",
       "      <td>1.6</td>\n",
       "      <td>1</td>\n",
       "      <td>0</td>\n",
       "      <td>0</td>\n",
       "      <td>1</td>\n",
       "      <td>0</td>\n",
       "      <td>0</td>\n",
       "      <td>0</td>\n",
       "    </tr>\n",
       "    <tr>\n",
       "      <th>1</th>\n",
       "      <td>45</td>\n",
       "      <td>19</td>\n",
       "      <td>34</td>\n",
       "      <td>3</td>\n",
       "      <td>1.5</td>\n",
       "      <td>1</td>\n",
       "      <td>0</td>\n",
       "      <td>0</td>\n",
       "      <td>1</td>\n",
       "      <td>0</td>\n",
       "      <td>0</td>\n",
       "      <td>0</td>\n",
       "    </tr>\n",
       "    <tr>\n",
       "      <th>2</th>\n",
       "      <td>39</td>\n",
       "      <td>15</td>\n",
       "      <td>11</td>\n",
       "      <td>1</td>\n",
       "      <td>1.0</td>\n",
       "      <td>1</td>\n",
       "      <td>0</td>\n",
       "      <td>0</td>\n",
       "      <td>0</td>\n",
       "      <td>0</td>\n",
       "      <td>0</td>\n",
       "      <td>0</td>\n",
       "    </tr>\n",
       "    <tr>\n",
       "      <th>3</th>\n",
       "      <td>35</td>\n",
       "      <td>9</td>\n",
       "      <td>100</td>\n",
       "      <td>1</td>\n",
       "      <td>2.7</td>\n",
       "      <td>2</td>\n",
       "      <td>0</td>\n",
       "      <td>0</td>\n",
       "      <td>0</td>\n",
       "      <td>0</td>\n",
       "      <td>0</td>\n",
       "      <td>0</td>\n",
       "    </tr>\n",
       "    <tr>\n",
       "      <th>4</th>\n",
       "      <td>35</td>\n",
       "      <td>8</td>\n",
       "      <td>45</td>\n",
       "      <td>4</td>\n",
       "      <td>1.0</td>\n",
       "      <td>2</td>\n",
       "      <td>0</td>\n",
       "      <td>0</td>\n",
       "      <td>0</td>\n",
       "      <td>0</td>\n",
       "      <td>0</td>\n",
       "      <td>1</td>\n",
       "    </tr>\n",
       "    <tr>\n",
       "      <th>...</th>\n",
       "      <td>...</td>\n",
       "      <td>...</td>\n",
       "      <td>...</td>\n",
       "      <td>...</td>\n",
       "      <td>...</td>\n",
       "      <td>...</td>\n",
       "      <td>...</td>\n",
       "      <td>...</td>\n",
       "      <td>...</td>\n",
       "      <td>...</td>\n",
       "      <td>...</td>\n",
       "      <td>...</td>\n",
       "    </tr>\n",
       "    <tr>\n",
       "      <th>4995</th>\n",
       "      <td>29</td>\n",
       "      <td>3</td>\n",
       "      <td>40</td>\n",
       "      <td>1</td>\n",
       "      <td>1.9</td>\n",
       "      <td>3</td>\n",
       "      <td>0</td>\n",
       "      <td>0</td>\n",
       "      <td>0</td>\n",
       "      <td>0</td>\n",
       "      <td>1</td>\n",
       "      <td>0</td>\n",
       "    </tr>\n",
       "    <tr>\n",
       "      <th>4996</th>\n",
       "      <td>30</td>\n",
       "      <td>4</td>\n",
       "      <td>15</td>\n",
       "      <td>4</td>\n",
       "      <td>0.4</td>\n",
       "      <td>1</td>\n",
       "      <td>85</td>\n",
       "      <td>0</td>\n",
       "      <td>0</td>\n",
       "      <td>0</td>\n",
       "      <td>1</td>\n",
       "      <td>0</td>\n",
       "    </tr>\n",
       "    <tr>\n",
       "      <th>4997</th>\n",
       "      <td>63</td>\n",
       "      <td>39</td>\n",
       "      <td>24</td>\n",
       "      <td>2</td>\n",
       "      <td>0.3</td>\n",
       "      <td>3</td>\n",
       "      <td>0</td>\n",
       "      <td>0</td>\n",
       "      <td>0</td>\n",
       "      <td>0</td>\n",
       "      <td>0</td>\n",
       "      <td>0</td>\n",
       "    </tr>\n",
       "    <tr>\n",
       "      <th>4998</th>\n",
       "      <td>65</td>\n",
       "      <td>40</td>\n",
       "      <td>49</td>\n",
       "      <td>3</td>\n",
       "      <td>0.5</td>\n",
       "      <td>2</td>\n",
       "      <td>0</td>\n",
       "      <td>0</td>\n",
       "      <td>0</td>\n",
       "      <td>0</td>\n",
       "      <td>1</td>\n",
       "      <td>0</td>\n",
       "    </tr>\n",
       "    <tr>\n",
       "      <th>4999</th>\n",
       "      <td>28</td>\n",
       "      <td>4</td>\n",
       "      <td>83</td>\n",
       "      <td>3</td>\n",
       "      <td>0.8</td>\n",
       "      <td>1</td>\n",
       "      <td>0</td>\n",
       "      <td>0</td>\n",
       "      <td>0</td>\n",
       "      <td>0</td>\n",
       "      <td>1</td>\n",
       "      <td>1</td>\n",
       "    </tr>\n",
       "  </tbody>\n",
       "</table>\n",
       "<p>5000 rows × 12 columns</p>\n",
       "</div>"
      ],
      "text/plain": [
       "      Age  Experience  Income  Family  CCAvg  Education  Mortgage  \\\n",
       "0      25           1      49       4    1.6          1         0   \n",
       "1      45          19      34       3    1.5          1         0   \n",
       "2      39          15      11       1    1.0          1         0   \n",
       "3      35           9     100       1    2.7          2         0   \n",
       "4      35           8      45       4    1.0          2         0   \n",
       "...   ...         ...     ...     ...    ...        ...       ...   \n",
       "4995   29           3      40       1    1.9          3         0   \n",
       "4996   30           4      15       4    0.4          1        85   \n",
       "4997   63          39      24       2    0.3          3         0   \n",
       "4998   65          40      49       3    0.5          2         0   \n",
       "4999   28           4      83       3    0.8          1         0   \n",
       "\n",
       "      Personal_Loan  Securities_Account  CD_Account  Online  CreditCard  \n",
       "0                 0                   1           0       0           0  \n",
       "1                 0                   1           0       0           0  \n",
       "2                 0                   0           0       0           0  \n",
       "3                 0                   0           0       0           0  \n",
       "4                 0                   0           0       0           1  \n",
       "...             ...                 ...         ...     ...         ...  \n",
       "4995              0                   0           0       1           0  \n",
       "4996              0                   0           0       1           0  \n",
       "4997              0                   0           0       0           0  \n",
       "4998              0                   0           0       1           0  \n",
       "4999              0                   0           0       1           1  \n",
       "\n",
       "[5000 rows x 12 columns]"
      ]
     },
     "execution_count": 5,
     "metadata": {},
     "output_type": "execute_result"
    }
   ],
   "source": [
    "df_bank"
   ]
  },
  {
   "cell_type": "code",
   "execution_count": 6,
   "metadata": {},
   "outputs": [],
   "source": [
    "#catagoric = ['Family','Education']\n",
    "#for x in catagoric:\n",
    "#    df_bank[x] = df_bank[x].astype('category')"
   ]
  },
  {
   "cell_type": "code",
   "execution_count": 7,
   "metadata": {},
   "outputs": [],
   "source": [
    "df_bank_dum = pd.get_dummies(data=df_bank, columns=['Education'],drop_first=True,dtype='int64')"
   ]
  },
  {
   "cell_type": "code",
   "execution_count": 8,
   "metadata": {},
   "outputs": [
    {
     "data": {
      "text/plain": [
       "Index(['Age', 'Experience', 'Income', 'Family', 'CCAvg', 'Mortgage',\n",
       "       'Personal_Loan', 'Securities_Account', 'CD_Account', 'Online',\n",
       "       'CreditCard', 'Education_2', 'Education_3'],\n",
       "      dtype='object')"
      ]
     },
     "execution_count": 8,
     "metadata": {},
     "output_type": "execute_result"
    }
   ],
   "source": [
    "df_bank_dum.columns"
   ]
  },
  {
   "cell_type": "code",
   "execution_count": 9,
   "metadata": {},
   "outputs": [],
   "source": [
    "#catagoric = ['Family_1','Family_2','Family_3','Family_4','Education_1','Education_2','Education_3','Securities_Account','CD_Account', 'Online','CreditCard','Personal_Loan']\n",
    "#for x in catagoric:\n",
    "#    df_bank_dum[x] = df_bank_dum[x].astype('uint8')"
   ]
  },
  {
   "cell_type": "code",
   "execution_count": 10,
   "metadata": {},
   "outputs": [],
   "source": [
    "outcome = 'Personal_Loan'\n",
    "predictors = df_bank_dum.drop(columns=outcome).columns.to_list()"
   ]
  },
  {
   "cell_type": "code",
   "execution_count": 11,
   "metadata": {},
   "outputs": [],
   "source": [
    "X = df_bank_dum[predictors]\n",
    "y = df_bank_dum[outcome]\n",
    "train_X, valid_X, train_y, valid_y = train_test_split(X, y, test_size=0.4, random_state=1)"
   ]
  },
  {
   "cell_type": "code",
   "execution_count": 12,
   "metadata": {},
   "outputs": [
    {
     "data": {
      "text/html": [
       "<style>#sk-container-id-1 {color: black;}#sk-container-id-1 pre{padding: 0;}#sk-container-id-1 div.sk-toggleable {background-color: white;}#sk-container-id-1 label.sk-toggleable__label {cursor: pointer;display: block;width: 100%;margin-bottom: 0;padding: 0.3em;box-sizing: border-box;text-align: center;}#sk-container-id-1 label.sk-toggleable__label-arrow:before {content: \"▸\";float: left;margin-right: 0.25em;color: #696969;}#sk-container-id-1 label.sk-toggleable__label-arrow:hover:before {color: black;}#sk-container-id-1 div.sk-estimator:hover label.sk-toggleable__label-arrow:before {color: black;}#sk-container-id-1 div.sk-toggleable__content {max-height: 0;max-width: 0;overflow: hidden;text-align: left;background-color: #f0f8ff;}#sk-container-id-1 div.sk-toggleable__content pre {margin: 0.2em;color: black;border-radius: 0.25em;background-color: #f0f8ff;}#sk-container-id-1 input.sk-toggleable__control:checked~div.sk-toggleable__content {max-height: 200px;max-width: 100%;overflow: auto;}#sk-container-id-1 input.sk-toggleable__control:checked~label.sk-toggleable__label-arrow:before {content: \"▾\";}#sk-container-id-1 div.sk-estimator input.sk-toggleable__control:checked~label.sk-toggleable__label {background-color: #d4ebff;}#sk-container-id-1 div.sk-label input.sk-toggleable__control:checked~label.sk-toggleable__label {background-color: #d4ebff;}#sk-container-id-1 input.sk-hidden--visually {border: 0;clip: rect(1px 1px 1px 1px);clip: rect(1px, 1px, 1px, 1px);height: 1px;margin: -1px;overflow: hidden;padding: 0;position: absolute;width: 1px;}#sk-container-id-1 div.sk-estimator {font-family: monospace;background-color: #f0f8ff;border: 1px dotted black;border-radius: 0.25em;box-sizing: border-box;margin-bottom: 0.5em;}#sk-container-id-1 div.sk-estimator:hover {background-color: #d4ebff;}#sk-container-id-1 div.sk-parallel-item::after {content: \"\";width: 100%;border-bottom: 1px solid gray;flex-grow: 1;}#sk-container-id-1 div.sk-label:hover label.sk-toggleable__label {background-color: #d4ebff;}#sk-container-id-1 div.sk-serial::before {content: \"\";position: absolute;border-left: 1px solid gray;box-sizing: border-box;top: 0;bottom: 0;left: 50%;z-index: 0;}#sk-container-id-1 div.sk-serial {display: flex;flex-direction: column;align-items: center;background-color: white;padding-right: 0.2em;padding-left: 0.2em;position: relative;}#sk-container-id-1 div.sk-item {position: relative;z-index: 1;}#sk-container-id-1 div.sk-parallel {display: flex;align-items: stretch;justify-content: center;background-color: white;position: relative;}#sk-container-id-1 div.sk-item::before, #sk-container-id-1 div.sk-parallel-item::before {content: \"\";position: absolute;border-left: 1px solid gray;box-sizing: border-box;top: 0;bottom: 0;left: 50%;z-index: -1;}#sk-container-id-1 div.sk-parallel-item {display: flex;flex-direction: column;z-index: 1;position: relative;background-color: white;}#sk-container-id-1 div.sk-parallel-item:first-child::after {align-self: flex-end;width: 50%;}#sk-container-id-1 div.sk-parallel-item:last-child::after {align-self: flex-start;width: 50%;}#sk-container-id-1 div.sk-parallel-item:only-child::after {width: 0;}#sk-container-id-1 div.sk-dashed-wrapped {border: 1px dashed gray;margin: 0 0.4em 0.5em 0.4em;box-sizing: border-box;padding-bottom: 0.4em;background-color: white;}#sk-container-id-1 div.sk-label label {font-family: monospace;font-weight: bold;display: inline-block;line-height: 1.2em;}#sk-container-id-1 div.sk-label-container {text-align: center;}#sk-container-id-1 div.sk-container {/* jupyter's `normalize.less` sets `[hidden] { display: none; }` but bootstrap.min.css set `[hidden] { display: none !important; }` so we also need the `!important` here to be able to override the default hidden behavior on the sphinx rendered scikit-learn.org. See: https://github.com/scikit-learn/scikit-learn/issues/21755 */display: inline-block !important;position: relative;}#sk-container-id-1 div.sk-text-repr-fallback {display: none;}</style><div id=\"sk-container-id-1\" class=\"sk-top-container\"><div class=\"sk-text-repr-fallback\"><pre>LinearDiscriminantAnalysis()</pre><b>In a Jupyter environment, please rerun this cell to show the HTML representation or trust the notebook. <br />On GitHub, the HTML representation is unable to render, please try loading this page with nbviewer.org.</b></div><div class=\"sk-container\" hidden><div class=\"sk-item\"><div class=\"sk-estimator sk-toggleable\"><input class=\"sk-toggleable__control sk-hidden--visually\" id=\"sk-estimator-id-1\" type=\"checkbox\" checked><label for=\"sk-estimator-id-1\" class=\"sk-toggleable__label sk-toggleable__label-arrow\">LinearDiscriminantAnalysis</label><div class=\"sk-toggleable__content\"><pre>LinearDiscriminantAnalysis()</pre></div></div></div></div></div>"
      ],
      "text/plain": [
       "LinearDiscriminantAnalysis()"
      ]
     },
     "execution_count": 12,
     "metadata": {},
     "output_type": "execute_result"
    }
   ],
   "source": [
    "da_reg = LinearDiscriminantAnalysis()#priors=[0.5,0.5])\n",
    "da_reg.fit(train_X,train_y)"
   ]
  },
  {
   "cell_type": "code",
   "execution_count": 13,
   "metadata": {},
   "outputs": [
    {
     "data": {
      "text/plain": [
       "array([0.90433333, 0.09566667])"
      ]
     },
     "execution_count": 13,
     "metadata": {},
     "output_type": "execute_result"
    }
   ],
   "source": [
    "da_reg.priors_"
   ]
  },
  {
   "cell_type": "code",
   "execution_count": 14,
   "metadata": {},
   "outputs": [
    {
     "data": {
      "text/plain": [
       "array([-9.61554965])"
      ]
     },
     "execution_count": 14,
     "metadata": {},
     "output_type": "execute_result"
    }
   ],
   "source": [
    "da_reg.intercept_"
   ]
  },
  {
   "cell_type": "code",
   "execution_count": 15,
   "metadata": {},
   "outputs": [
    {
     "data": {
      "text/plain": [
       "array([[-1.38518713e-01,  1.41669111e-01,  5.52905393e-02,\n",
       "         5.54820720e-01,  3.57975399e-01,  1.50435277e-03,\n",
       "        -1.35193439e+00,  6.44591571e+00, -5.11459814e-01,\n",
       "        -7.83978984e-01,  2.84535302e+00,  2.96188568e+00]])"
      ]
     },
     "execution_count": 15,
     "metadata": {},
     "output_type": "execute_result"
    }
   ],
   "source": [
    "da_reg.coef_"
   ]
  },
  {
   "cell_type": "code",
   "execution_count": 16,
   "metadata": {},
   "outputs": [
    {
     "name": "stdout",
     "output_type": "stream",
     "text": [
      "Intercept: -9.61554965399019\n",
      "            Age  Experience    Income    Family     CCAvg  Mortgage  \\\n",
      "Coeff -0.138519    0.141669  0.055291  0.554821  0.357975  0.001504   \n",
      "\n",
      "       Securities_Account  CD_Account   Online  CreditCard  Education_2  \\\n",
      "Coeff           -1.351934    6.445916 -0.51146   -0.783979     2.845353   \n",
      "\n",
      "       Education_3  \n",
      "Coeff     2.961886  \n"
     ]
    }
   ],
   "source": [
    "print('Intercept:', da_reg.intercept_[0])\n",
    "print(pd.DataFrame({'Coeff':da_reg.coef_[0]},index=X.columns).transpose())"
   ]
  },
  {
   "cell_type": "markdown",
   "metadata": {},
   "source": [
    "## Problem 12.1.a\n",
    "Compute summary statistics for the predictors separately for loan acceptors and nonacceptors. For continuous predictors, compute the mean and standard deviation. For categorical predictors, compute the percentages. Are there predictors where the two classes differ substantially?"
   ]
  },
  {
   "cell_type": "code",
   "execution_count": 17,
   "metadata": {},
   "outputs": [
    {
     "data": {
      "text/html": [
       "<div>\n",
       "<style scoped>\n",
       "    .dataframe tbody tr th:only-of-type {\n",
       "        vertical-align: middle;\n",
       "    }\n",
       "\n",
       "    .dataframe tbody tr th {\n",
       "        vertical-align: top;\n",
       "    }\n",
       "\n",
       "    .dataframe thead th {\n",
       "        text-align: right;\n",
       "    }\n",
       "</style>\n",
       "<table border=\"1\" class=\"dataframe\">\n",
       "  <thead>\n",
       "    <tr style=\"text-align: right;\">\n",
       "      <th></th>\n",
       "      <th>Age</th>\n",
       "      <th>Experience</th>\n",
       "      <th>Income</th>\n",
       "      <th>Family</th>\n",
       "      <th>CCAvg</th>\n",
       "      <th>Education</th>\n",
       "      <th>Mortgage</th>\n",
       "      <th>Personal_Loan</th>\n",
       "      <th>Securities_Account</th>\n",
       "      <th>CD_Account</th>\n",
       "      <th>Online</th>\n",
       "      <th>CreditCard</th>\n",
       "    </tr>\n",
       "  </thead>\n",
       "  <tbody>\n",
       "    <tr>\n",
       "      <th>mean</th>\n",
       "      <td>45.066667</td>\n",
       "      <td>19.843750</td>\n",
       "      <td>144.745833</td>\n",
       "      <td>2.612500</td>\n",
       "      <td>3.905354</td>\n",
       "      <td>2.233333</td>\n",
       "      <td>100.845833</td>\n",
       "      <td>1.0</td>\n",
       "      <td>0.125000</td>\n",
       "      <td>0.291667</td>\n",
       "      <td>0.60625</td>\n",
       "      <td>0.297917</td>\n",
       "    </tr>\n",
       "    <tr>\n",
       "      <th>std</th>\n",
       "      <td>11.590964</td>\n",
       "      <td>11.582443</td>\n",
       "      <td>31.584429</td>\n",
       "      <td>1.115393</td>\n",
       "      <td>2.097681</td>\n",
       "      <td>0.753373</td>\n",
       "      <td>160.847862</td>\n",
       "      <td>0.0</td>\n",
       "      <td>0.331064</td>\n",
       "      <td>0.455004</td>\n",
       "      <td>0.48909</td>\n",
       "      <td>0.457820</td>\n",
       "    </tr>\n",
       "  </tbody>\n",
       "</table>\n",
       "</div>"
      ],
      "text/plain": [
       "            Age  Experience      Income    Family     CCAvg  Education  \\\n",
       "mean  45.066667   19.843750  144.745833  2.612500  3.905354   2.233333   \n",
       "std   11.590964   11.582443   31.584429  1.115393  2.097681   0.753373   \n",
       "\n",
       "        Mortgage  Personal_Loan  Securities_Account  CD_Account   Online  \\\n",
       "mean  100.845833            1.0            0.125000    0.291667  0.60625   \n",
       "std   160.847862            0.0            0.331064    0.455004  0.48909   \n",
       "\n",
       "      CreditCard  \n",
       "mean    0.297917  \n",
       "std     0.457820  "
      ]
     },
     "execution_count": 17,
     "metadata": {},
     "output_type": "execute_result"
    }
   ],
   "source": [
    "df_bank[y == 1].describe().loc[['mean','std']]"
   ]
  },
  {
   "cell_type": "code",
   "execution_count": 18,
   "metadata": {},
   "outputs": [
    {
     "data": {
      "text/html": [
       "<div>\n",
       "<style scoped>\n",
       "    .dataframe tbody tr th:only-of-type {\n",
       "        vertical-align: middle;\n",
       "    }\n",
       "\n",
       "    .dataframe tbody tr th {\n",
       "        vertical-align: top;\n",
       "    }\n",
       "\n",
       "    .dataframe thead th {\n",
       "        text-align: right;\n",
       "    }\n",
       "</style>\n",
       "<table border=\"1\" class=\"dataframe\">\n",
       "  <thead>\n",
       "    <tr style=\"text-align: right;\">\n",
       "      <th></th>\n",
       "      <th>Age</th>\n",
       "      <th>Experience</th>\n",
       "      <th>Income</th>\n",
       "      <th>Family</th>\n",
       "      <th>CCAvg</th>\n",
       "      <th>Education</th>\n",
       "      <th>Mortgage</th>\n",
       "      <th>Personal_Loan</th>\n",
       "      <th>Securities_Account</th>\n",
       "      <th>CD_Account</th>\n",
       "      <th>Online</th>\n",
       "      <th>CreditCard</th>\n",
       "    </tr>\n",
       "  </thead>\n",
       "  <tbody>\n",
       "    <tr>\n",
       "      <th>mean</th>\n",
       "      <td>45.367257</td>\n",
       "      <td>20.132301</td>\n",
       "      <td>66.237389</td>\n",
       "      <td>2.373451</td>\n",
       "      <td>1.729009</td>\n",
       "      <td>1.843584</td>\n",
       "      <td>51.789381</td>\n",
       "      <td>0.0</td>\n",
       "      <td>0.102212</td>\n",
       "      <td>0.035841</td>\n",
       "      <td>0.595796</td>\n",
       "      <td>0.293584</td>\n",
       "    </tr>\n",
       "    <tr>\n",
       "      <th>std</th>\n",
       "      <td>11.450427</td>\n",
       "      <td>11.456672</td>\n",
       "      <td>40.578534</td>\n",
       "      <td>1.148771</td>\n",
       "      <td>1.567647</td>\n",
       "      <td>0.839975</td>\n",
       "      <td>92.038931</td>\n",
       "      <td>0.0</td>\n",
       "      <td>0.302961</td>\n",
       "      <td>0.185913</td>\n",
       "      <td>0.490792</td>\n",
       "      <td>0.455454</td>\n",
       "    </tr>\n",
       "  </tbody>\n",
       "</table>\n",
       "</div>"
      ],
      "text/plain": [
       "            Age  Experience     Income    Family     CCAvg  Education  \\\n",
       "mean  45.367257   20.132301  66.237389  2.373451  1.729009   1.843584   \n",
       "std   11.450427   11.456672  40.578534  1.148771  1.567647   0.839975   \n",
       "\n",
       "       Mortgage  Personal_Loan  Securities_Account  CD_Account    Online  \\\n",
       "mean  51.789381            0.0            0.102212    0.035841  0.595796   \n",
       "std   92.038931            0.0            0.302961    0.185913  0.490792   \n",
       "\n",
       "      CreditCard  \n",
       "mean    0.293584  \n",
       "std     0.455454  "
      ]
     },
     "execution_count": 18,
     "metadata": {},
     "output_type": "execute_result"
    }
   ],
   "source": [
    "df_bank[y == 0].describe().loc[['mean','std']]"
   ]
  },
  {
   "cell_type": "markdown",
   "metadata": {},
   "source": [
    "#### Income, CCAvg, Education, Mortgage, Securities_Account, CD_Account are all different."
   ]
  },
  {
   "cell_type": "markdown",
   "metadata": {},
   "source": [
    "## Problem 12.1.b\n",
    "Examine the model performance on the validation set.\n",
    "## Problem 12.1.b.i\n",
    "What is the accuracy rate?"
   ]
  },
  {
   "cell_type": "code",
   "execution_count": 19,
   "metadata": {},
   "outputs": [
    {
     "name": "stdout",
     "output_type": "stream",
     "text": [
      "Confusion Matrix (Accuracy 0.9440)\n",
      "\n",
      "             Prediction\n",
      "      Actual Not Accepted     Accepted\n",
      "Not Accepted         1776           31\n",
      "    Accepted           81          112\n"
     ]
    }
   ],
   "source": [
    "classificationSummary(valid_y,da_reg.predict(valid_X),class_names=['Not Accepted','Accepted'])"
   ]
  },
  {
   "cell_type": "code",
   "execution_count": 20,
   "metadata": {},
   "outputs": [
    {
     "data": {
      "text/html": [
       "<div>\n",
       "<style scoped>\n",
       "    .dataframe tbody tr th:only-of-type {\n",
       "        vertical-align: middle;\n",
       "    }\n",
       "\n",
       "    .dataframe tbody tr th {\n",
       "        vertical-align: top;\n",
       "    }\n",
       "\n",
       "    .dataframe thead th {\n",
       "        text-align: right;\n",
       "    }\n",
       "</style>\n",
       "<table border=\"1\" class=\"dataframe\">\n",
       "  <thead>\n",
       "    <tr style=\"text-align: right;\">\n",
       "      <th></th>\n",
       "      <th>Age</th>\n",
       "      <th>Experience</th>\n",
       "      <th>Income</th>\n",
       "      <th>Family</th>\n",
       "      <th>CCAvg</th>\n",
       "      <th>Mortgage</th>\n",
       "      <th>Securities_Account</th>\n",
       "      <th>CD_Account</th>\n",
       "      <th>Online</th>\n",
       "      <th>CreditCard</th>\n",
       "      <th>Education_2</th>\n",
       "      <th>Education_3</th>\n",
       "      <th>Actual</th>\n",
       "      <th>Prediction</th>\n",
       "      <th>p(Accept)</th>\n",
       "    </tr>\n",
       "  </thead>\n",
       "  <tbody>\n",
       "    <tr>\n",
       "      <th>2764</th>\n",
       "      <td>31</td>\n",
       "      <td>5</td>\n",
       "      <td>84</td>\n",
       "      <td>1</td>\n",
       "      <td>2.9</td>\n",
       "      <td>105</td>\n",
       "      <td>0</td>\n",
       "      <td>0</td>\n",
       "      <td>0</td>\n",
       "      <td>1</td>\n",
       "      <td>0</td>\n",
       "      <td>1</td>\n",
       "      <td>0</td>\n",
       "      <td>0</td>\n",
       "      <td>0.009679</td>\n",
       "    </tr>\n",
       "    <tr>\n",
       "      <th>4767</th>\n",
       "      <td>35</td>\n",
       "      <td>9</td>\n",
       "      <td>45</td>\n",
       "      <td>3</td>\n",
       "      <td>0.9</td>\n",
       "      <td>101</td>\n",
       "      <td>1</td>\n",
       "      <td>0</td>\n",
       "      <td>0</td>\n",
       "      <td>0</td>\n",
       "      <td>0</td>\n",
       "      <td>0</td>\n",
       "      <td>0</td>\n",
       "      <td>0</td>\n",
       "      <td>0.000049</td>\n",
       "    </tr>\n",
       "    <tr>\n",
       "      <th>3814</th>\n",
       "      <td>34</td>\n",
       "      <td>9</td>\n",
       "      <td>35</td>\n",
       "      <td>3</td>\n",
       "      <td>1.3</td>\n",
       "      <td>0</td>\n",
       "      <td>0</td>\n",
       "      <td>0</td>\n",
       "      <td>0</td>\n",
       "      <td>0</td>\n",
       "      <td>0</td>\n",
       "      <td>0</td>\n",
       "      <td>0</td>\n",
       "      <td>0</td>\n",
       "      <td>0.000125</td>\n",
       "    </tr>\n",
       "    <tr>\n",
       "      <th>3499</th>\n",
       "      <td>49</td>\n",
       "      <td>23</td>\n",
       "      <td>114</td>\n",
       "      <td>1</td>\n",
       "      <td>0.3</td>\n",
       "      <td>286</td>\n",
       "      <td>0</td>\n",
       "      <td>0</td>\n",
       "      <td>1</td>\n",
       "      <td>0</td>\n",
       "      <td>0</td>\n",
       "      <td>0</td>\n",
       "      <td>0</td>\n",
       "      <td>0</td>\n",
       "      <td>0.001907</td>\n",
       "    </tr>\n",
       "    <tr>\n",
       "      <th>2735</th>\n",
       "      <td>36</td>\n",
       "      <td>12</td>\n",
       "      <td>70</td>\n",
       "      <td>3</td>\n",
       "      <td>2.6</td>\n",
       "      <td>165</td>\n",
       "      <td>0</td>\n",
       "      <td>0</td>\n",
       "      <td>1</td>\n",
       "      <td>0</td>\n",
       "      <td>1</td>\n",
       "      <td>0</td>\n",
       "      <td>0</td>\n",
       "      <td>0</td>\n",
       "      <td>0.020744</td>\n",
       "    </tr>\n",
       "    <tr>\n",
       "      <th>...</th>\n",
       "      <td>...</td>\n",
       "      <td>...</td>\n",
       "      <td>...</td>\n",
       "      <td>...</td>\n",
       "      <td>...</td>\n",
       "      <td>...</td>\n",
       "      <td>...</td>\n",
       "      <td>...</td>\n",
       "      <td>...</td>\n",
       "      <td>...</td>\n",
       "      <td>...</td>\n",
       "      <td>...</td>\n",
       "      <td>...</td>\n",
       "      <td>...</td>\n",
       "      <td>...</td>\n",
       "    </tr>\n",
       "    <tr>\n",
       "      <th>4372</th>\n",
       "      <td>34</td>\n",
       "      <td>10</td>\n",
       "      <td>41</td>\n",
       "      <td>1</td>\n",
       "      <td>2.4</td>\n",
       "      <td>0</td>\n",
       "      <td>0</td>\n",
       "      <td>0</td>\n",
       "      <td>0</td>\n",
       "      <td>0</td>\n",
       "      <td>1</td>\n",
       "      <td>0</td>\n",
       "      <td>0</td>\n",
       "      <td>0</td>\n",
       "      <td>0.001688</td>\n",
       "    </tr>\n",
       "    <tr>\n",
       "      <th>3401</th>\n",
       "      <td>39</td>\n",
       "      <td>15</td>\n",
       "      <td>28</td>\n",
       "      <td>1</td>\n",
       "      <td>1.4</td>\n",
       "      <td>118</td>\n",
       "      <td>0</td>\n",
       "      <td>0</td>\n",
       "      <td>1</td>\n",
       "      <td>1</td>\n",
       "      <td>0</td>\n",
       "      <td>1</td>\n",
       "      <td>0</td>\n",
       "      <td>0</td>\n",
       "      <td>0.000215</td>\n",
       "    </tr>\n",
       "    <tr>\n",
       "      <th>1239</th>\n",
       "      <td>51</td>\n",
       "      <td>26</td>\n",
       "      <td>12</td>\n",
       "      <td>2</td>\n",
       "      <td>0.7</td>\n",
       "      <td>109</td>\n",
       "      <td>0</td>\n",
       "      <td>0</td>\n",
       "      <td>1</td>\n",
       "      <td>1</td>\n",
       "      <td>0</td>\n",
       "      <td>1</td>\n",
       "      <td>0</td>\n",
       "      <td>0</td>\n",
       "      <td>0.000107</td>\n",
       "    </tr>\n",
       "    <tr>\n",
       "      <th>437</th>\n",
       "      <td>36</td>\n",
       "      <td>9</td>\n",
       "      <td>31</td>\n",
       "      <td>4</td>\n",
       "      <td>1.0</td>\n",
       "      <td>0</td>\n",
       "      <td>1</td>\n",
       "      <td>0</td>\n",
       "      <td>1</td>\n",
       "      <td>0</td>\n",
       "      <td>1</td>\n",
       "      <td>0</td>\n",
       "      <td>0</td>\n",
       "      <td>0</td>\n",
       "      <td>0.000318</td>\n",
       "    </tr>\n",
       "    <tr>\n",
       "      <th>415</th>\n",
       "      <td>35</td>\n",
       "      <td>8</td>\n",
       "      <td>38</td>\n",
       "      <td>4</td>\n",
       "      <td>1.0</td>\n",
       "      <td>124</td>\n",
       "      <td>0</td>\n",
       "      <td>0</td>\n",
       "      <td>1</td>\n",
       "      <td>0</td>\n",
       "      <td>1</td>\n",
       "      <td>0</td>\n",
       "      <td>0</td>\n",
       "      <td>0</td>\n",
       "      <td>0.002168</td>\n",
       "    </tr>\n",
       "  </tbody>\n",
       "</table>\n",
       "<p>2000 rows × 15 columns</p>\n",
       "</div>"
      ],
      "text/plain": [
       "      Age  Experience  Income  Family  CCAvg  Mortgage  Securities_Account  \\\n",
       "2764   31           5      84       1    2.9       105                   0   \n",
       "4767   35           9      45       3    0.9       101                   1   \n",
       "3814   34           9      35       3    1.3         0                   0   \n",
       "3499   49          23     114       1    0.3       286                   0   \n",
       "2735   36          12      70       3    2.6       165                   0   \n",
       "...   ...         ...     ...     ...    ...       ...                 ...   \n",
       "4372   34          10      41       1    2.4         0                   0   \n",
       "3401   39          15      28       1    1.4       118                   0   \n",
       "1239   51          26      12       2    0.7       109                   0   \n",
       "437    36           9      31       4    1.0         0                   1   \n",
       "415    35           8      38       4    1.0       124                   0   \n",
       "\n",
       "      CD_Account  Online  CreditCard  Education_2  Education_3  Actual  \\\n",
       "2764           0       0           1            0            1       0   \n",
       "4767           0       0           0            0            0       0   \n",
       "3814           0       0           0            0            0       0   \n",
       "3499           0       1           0            0            0       0   \n",
       "2735           0       1           0            1            0       0   \n",
       "...          ...     ...         ...          ...          ...     ...   \n",
       "4372           0       0           0            1            0       0   \n",
       "3401           0       1           1            0            1       0   \n",
       "1239           0       1           1            0            1       0   \n",
       "437            0       1           0            1            0       0   \n",
       "415            0       1           0            1            0       0   \n",
       "\n",
       "      Prediction  p(Accept)  \n",
       "2764           0   0.009679  \n",
       "4767           0   0.000049  \n",
       "3814           0   0.000125  \n",
       "3499           0   0.001907  \n",
       "2735           0   0.020744  \n",
       "...          ...        ...  \n",
       "4372           0   0.001688  \n",
       "3401           0   0.000215  \n",
       "1239           0   0.000107  \n",
       "437            0   0.000318  \n",
       "415            0   0.002168  \n",
       "\n",
       "[2000 rows x 15 columns]"
      ]
     },
     "execution_count": 20,
     "metadata": {},
     "output_type": "execute_result"
    }
   ],
   "source": [
    "valid_sum = pd.DataFrame(valid_X, index=valid_X.index)\n",
    "valid_sum['Actual'] = valid_y\n",
    "valid_sum['Prediction'] = da_reg.predict(valid_X)\n",
    "valid_sum['p(Accept)'] = da_reg.predict_proba(valid_X)[:,1]\n",
    "valid_sum"
   ]
  },
  {
   "cell_type": "markdown",
   "metadata": {},
   "source": [
    "## Problem 12.1.b.ii\n",
    "Is one type of misclassification more likely than the other?"
   ]
  },
  {
   "cell_type": "code",
   "execution_count": 21,
   "metadata": {},
   "outputs": [
    {
     "data": {
      "text/plain": [
       "Actual\n",
       "0    1807\n",
       "1     193\n",
       "Name: count, dtype: int64"
      ]
     },
     "execution_count": 21,
     "metadata": {},
     "output_type": "execute_result"
    }
   ],
   "source": [
    "valid_sum.Actual.value_counts()"
   ]
  },
  {
   "cell_type": "code",
   "execution_count": 22,
   "metadata": {},
   "outputs": [
    {
     "data": {
      "text/plain": [
       "Prediction\n",
       "0    1857\n",
       "1     143\n",
       "Name: count, dtype: int64"
      ]
     },
     "execution_count": 22,
     "metadata": {},
     "output_type": "execute_result"
    }
   ],
   "source": [
    "valid_sum.Prediction.value_counts()"
   ]
  },
  {
   "cell_type": "code",
   "execution_count": 23,
   "metadata": {},
   "outputs": [
    {
     "name": "stdout",
     "output_type": "stream",
     "text": [
      "9.65\n",
      "90.35\n"
     ]
    }
   ],
   "source": [
    "actual_A = round((193/(1807+193))*100,4)\n",
    "actual_NA = round((1807/(1807+193))*100,4)\n",
    "print(actual_A)\n",
    "print(actual_NA)"
   ]
  },
  {
   "cell_type": "code",
   "execution_count": 24,
   "metadata": {},
   "outputs": [
    {
     "name": "stdout",
     "output_type": "stream",
     "text": [
      "14.45\n",
      "85.55\n"
     ]
    }
   ],
   "source": [
    "pred_A = round((289/(1711+289))*100,4)\n",
    "pred_NA = round((1711/(1711+289))*100,4)\n",
    "print(pred_A)\n",
    "print(pred_NA)"
   ]
  },
  {
   "cell_type": "markdown",
   "metadata": {},
   "source": [
    "#### It is much more likely to miss classify as an acceptor more than as a non acceptor."
   ]
  },
  {
   "cell_type": "markdown",
   "metadata": {},
   "source": [
    "## Problem 12.1.b.iii\n",
    "Select three customers who were misclassified as _acceptors_ and three who were misclassified as _nonacceptors_. The goal is to determine why they are misclassified. First, examine their probability of being classified as acceptors: is it close to the\n",
    "threshold of 0.5? If not, compare their predictor values to the summary statistics of the two classes to determine why they were misclassified."
   ]
  },
  {
   "cell_type": "code",
   "execution_count": 25,
   "metadata": {},
   "outputs": [],
   "source": [
    "valid_sum = valid_sum.sort_values(by='p(Accept)')"
   ]
  },
  {
   "cell_type": "code",
   "execution_count": 26,
   "metadata": {},
   "outputs": [
    {
     "data": {
      "text/html": [
       "<div>\n",
       "<style scoped>\n",
       "    .dataframe tbody tr th:only-of-type {\n",
       "        vertical-align: middle;\n",
       "    }\n",
       "\n",
       "    .dataframe tbody tr th {\n",
       "        vertical-align: top;\n",
       "    }\n",
       "\n",
       "    .dataframe thead th {\n",
       "        text-align: right;\n",
       "    }\n",
       "</style>\n",
       "<table border=\"1\" class=\"dataframe\">\n",
       "  <thead>\n",
       "    <tr style=\"text-align: right;\">\n",
       "      <th></th>\n",
       "      <th>Age</th>\n",
       "      <th>Experience</th>\n",
       "      <th>Income</th>\n",
       "      <th>Family</th>\n",
       "      <th>CCAvg</th>\n",
       "      <th>Mortgage</th>\n",
       "      <th>Securities_Account</th>\n",
       "      <th>CD_Account</th>\n",
       "      <th>Online</th>\n",
       "      <th>CreditCard</th>\n",
       "      <th>Education_2</th>\n",
       "      <th>Education_3</th>\n",
       "      <th>Actual</th>\n",
       "      <th>Prediction</th>\n",
       "      <th>p(Accept)</th>\n",
       "    </tr>\n",
       "  </thead>\n",
       "  <tbody>\n",
       "    <tr>\n",
       "      <th>551</th>\n",
       "      <td>59</td>\n",
       "      <td>34</td>\n",
       "      <td>14</td>\n",
       "      <td>1</td>\n",
       "      <td>0.1</td>\n",
       "      <td>0</td>\n",
       "      <td>0</td>\n",
       "      <td>0</td>\n",
       "      <td>1</td>\n",
       "      <td>1</td>\n",
       "      <td>0</td>\n",
       "      <td>0</td>\n",
       "      <td>0</td>\n",
       "      <td>0</td>\n",
       "      <td>0.000002</td>\n",
       "    </tr>\n",
       "    <tr>\n",
       "      <th>3125</th>\n",
       "      <td>46</td>\n",
       "      <td>20</td>\n",
       "      <td>18</td>\n",
       "      <td>1</td>\n",
       "      <td>0.2</td>\n",
       "      <td>0</td>\n",
       "      <td>0</td>\n",
       "      <td>0</td>\n",
       "      <td>1</td>\n",
       "      <td>1</td>\n",
       "      <td>0</td>\n",
       "      <td>0</td>\n",
       "      <td>0</td>\n",
       "      <td>0</td>\n",
       "      <td>0.000003</td>\n",
       "    </tr>\n",
       "    <tr>\n",
       "      <th>3202</th>\n",
       "      <td>30</td>\n",
       "      <td>4</td>\n",
       "      <td>25</td>\n",
       "      <td>2</td>\n",
       "      <td>0.3</td>\n",
       "      <td>0</td>\n",
       "      <td>1</td>\n",
       "      <td>0</td>\n",
       "      <td>1</td>\n",
       "      <td>0</td>\n",
       "      <td>0</td>\n",
       "      <td>0</td>\n",
       "      <td>0</td>\n",
       "      <td>0</td>\n",
       "      <td>0.000004</td>\n",
       "    </tr>\n",
       "    <tr>\n",
       "      <th>2873</th>\n",
       "      <td>48</td>\n",
       "      <td>23</td>\n",
       "      <td>35</td>\n",
       "      <td>1</td>\n",
       "      <td>0.1</td>\n",
       "      <td>0</td>\n",
       "      <td>1</td>\n",
       "      <td>0</td>\n",
       "      <td>1</td>\n",
       "      <td>0</td>\n",
       "      <td>0</td>\n",
       "      <td>0</td>\n",
       "      <td>0</td>\n",
       "      <td>0</td>\n",
       "      <td>0.000004</td>\n",
       "    </tr>\n",
       "    <tr>\n",
       "      <th>1100</th>\n",
       "      <td>42</td>\n",
       "      <td>16</td>\n",
       "      <td>13</td>\n",
       "      <td>1</td>\n",
       "      <td>0.2</td>\n",
       "      <td>0</td>\n",
       "      <td>0</td>\n",
       "      <td>0</td>\n",
       "      <td>1</td>\n",
       "      <td>0</td>\n",
       "      <td>0</td>\n",
       "      <td>0</td>\n",
       "      <td>0</td>\n",
       "      <td>0</td>\n",
       "      <td>0.000004</td>\n",
       "    </tr>\n",
       "    <tr>\n",
       "      <th>...</th>\n",
       "      <td>...</td>\n",
       "      <td>...</td>\n",
       "      <td>...</td>\n",
       "      <td>...</td>\n",
       "      <td>...</td>\n",
       "      <td>...</td>\n",
       "      <td>...</td>\n",
       "      <td>...</td>\n",
       "      <td>...</td>\n",
       "      <td>...</td>\n",
       "      <td>...</td>\n",
       "      <td>...</td>\n",
       "      <td>...</td>\n",
       "      <td>...</td>\n",
       "      <td>...</td>\n",
       "    </tr>\n",
       "    <tr>\n",
       "      <th>4585</th>\n",
       "      <td>35</td>\n",
       "      <td>11</td>\n",
       "      <td>180</td>\n",
       "      <td>1</td>\n",
       "      <td>3.6</td>\n",
       "      <td>571</td>\n",
       "      <td>0</td>\n",
       "      <td>1</td>\n",
       "      <td>1</td>\n",
       "      <td>1</td>\n",
       "      <td>0</td>\n",
       "      <td>1</td>\n",
       "      <td>1</td>\n",
       "      <td>1</td>\n",
       "      <td>0.999615</td>\n",
       "    </tr>\n",
       "    <tr>\n",
       "      <th>3006</th>\n",
       "      <td>62</td>\n",
       "      <td>37</td>\n",
       "      <td>169</td>\n",
       "      <td>3</td>\n",
       "      <td>5.0</td>\n",
       "      <td>184</td>\n",
       "      <td>0</td>\n",
       "      <td>1</td>\n",
       "      <td>1</td>\n",
       "      <td>1</td>\n",
       "      <td>1</td>\n",
       "      <td>0</td>\n",
       "      <td>1</td>\n",
       "      <td>1</td>\n",
       "      <td>0.999699</td>\n",
       "    </tr>\n",
       "    <tr>\n",
       "      <th>2046</th>\n",
       "      <td>43</td>\n",
       "      <td>16</td>\n",
       "      <td>161</td>\n",
       "      <td>3</td>\n",
       "      <td>8.0</td>\n",
       "      <td>0</td>\n",
       "      <td>0</td>\n",
       "      <td>1</td>\n",
       "      <td>1</td>\n",
       "      <td>1</td>\n",
       "      <td>1</td>\n",
       "      <td>0</td>\n",
       "      <td>1</td>\n",
       "      <td>1</td>\n",
       "      <td>0.999703</td>\n",
       "    </tr>\n",
       "    <tr>\n",
       "      <th>2217</th>\n",
       "      <td>48</td>\n",
       "      <td>24</td>\n",
       "      <td>162</td>\n",
       "      <td>4</td>\n",
       "      <td>3.3</td>\n",
       "      <td>446</td>\n",
       "      <td>0</td>\n",
       "      <td>1</td>\n",
       "      <td>1</td>\n",
       "      <td>0</td>\n",
       "      <td>1</td>\n",
       "      <td>0</td>\n",
       "      <td>1</td>\n",
       "      <td>1</td>\n",
       "      <td>0.999870</td>\n",
       "    </tr>\n",
       "    <tr>\n",
       "      <th>3373</th>\n",
       "      <td>28</td>\n",
       "      <td>2</td>\n",
       "      <td>182</td>\n",
       "      <td>3</td>\n",
       "      <td>7.2</td>\n",
       "      <td>442</td>\n",
       "      <td>0</td>\n",
       "      <td>1</td>\n",
       "      <td>1</td>\n",
       "      <td>1</td>\n",
       "      <td>1</td>\n",
       "      <td>0</td>\n",
       "      <td>1</td>\n",
       "      <td>1</td>\n",
       "      <td>0.999942</td>\n",
       "    </tr>\n",
       "  </tbody>\n",
       "</table>\n",
       "<p>2000 rows × 15 columns</p>\n",
       "</div>"
      ],
      "text/plain": [
       "      Age  Experience  Income  Family  CCAvg  Mortgage  Securities_Account  \\\n",
       "551    59          34      14       1    0.1         0                   0   \n",
       "3125   46          20      18       1    0.2         0                   0   \n",
       "3202   30           4      25       2    0.3         0                   1   \n",
       "2873   48          23      35       1    0.1         0                   1   \n",
       "1100   42          16      13       1    0.2         0                   0   \n",
       "...   ...         ...     ...     ...    ...       ...                 ...   \n",
       "4585   35          11     180       1    3.6       571                   0   \n",
       "3006   62          37     169       3    5.0       184                   0   \n",
       "2046   43          16     161       3    8.0         0                   0   \n",
       "2217   48          24     162       4    3.3       446                   0   \n",
       "3373   28           2     182       3    7.2       442                   0   \n",
       "\n",
       "      CD_Account  Online  CreditCard  Education_2  Education_3  Actual  \\\n",
       "551            0       1           1            0            0       0   \n",
       "3125           0       1           1            0            0       0   \n",
       "3202           0       1           0            0            0       0   \n",
       "2873           0       1           0            0            0       0   \n",
       "1100           0       1           0            0            0       0   \n",
       "...          ...     ...         ...          ...          ...     ...   \n",
       "4585           1       1           1            0            1       1   \n",
       "3006           1       1           1            1            0       1   \n",
       "2046           1       1           1            1            0       1   \n",
       "2217           1       1           0            1            0       1   \n",
       "3373           1       1           1            1            0       1   \n",
       "\n",
       "      Prediction  p(Accept)  \n",
       "551            0   0.000002  \n",
       "3125           0   0.000003  \n",
       "3202           0   0.000004  \n",
       "2873           0   0.000004  \n",
       "1100           0   0.000004  \n",
       "...          ...        ...  \n",
       "4585           1   0.999615  \n",
       "3006           1   0.999699  \n",
       "2046           1   0.999703  \n",
       "2217           1   0.999870  \n",
       "3373           1   0.999942  \n",
       "\n",
       "[2000 rows x 15 columns]"
      ]
     },
     "execution_count": 26,
     "metadata": {},
     "output_type": "execute_result"
    }
   ],
   "source": [
    "valid_sum"
   ]
  },
  {
   "cell_type": "code",
   "execution_count": 27,
   "metadata": {},
   "outputs": [
    {
     "data": {
      "text/html": [
       "<div>\n",
       "<style scoped>\n",
       "    .dataframe tbody tr th:only-of-type {\n",
       "        vertical-align: middle;\n",
       "    }\n",
       "\n",
       "    .dataframe tbody tr th {\n",
       "        vertical-align: top;\n",
       "    }\n",
       "\n",
       "    .dataframe thead th {\n",
       "        text-align: right;\n",
       "    }\n",
       "</style>\n",
       "<table border=\"1\" class=\"dataframe\">\n",
       "  <thead>\n",
       "    <tr style=\"text-align: right;\">\n",
       "      <th></th>\n",
       "      <th>Age</th>\n",
       "      <th>Experience</th>\n",
       "      <th>Income</th>\n",
       "      <th>Family</th>\n",
       "      <th>CCAvg</th>\n",
       "      <th>Mortgage</th>\n",
       "      <th>Securities_Account</th>\n",
       "      <th>CD_Account</th>\n",
       "      <th>Online</th>\n",
       "      <th>CreditCard</th>\n",
       "      <th>Education_2</th>\n",
       "      <th>Education_3</th>\n",
       "      <th>Actual</th>\n",
       "      <th>Prediction</th>\n",
       "      <th>p(Accept)</th>\n",
       "    </tr>\n",
       "  </thead>\n",
       "  <tbody>\n",
       "    <tr>\n",
       "      <th>1577</th>\n",
       "      <td>34</td>\n",
       "      <td>8</td>\n",
       "      <td>65</td>\n",
       "      <td>1</td>\n",
       "      <td>3.0</td>\n",
       "      <td>227</td>\n",
       "      <td>0</td>\n",
       "      <td>0</td>\n",
       "      <td>1</td>\n",
       "      <td>0</td>\n",
       "      <td>0</td>\n",
       "      <td>0</td>\n",
       "      <td>1</td>\n",
       "      <td>0</td>\n",
       "      <td>0.000292</td>\n",
       "    </tr>\n",
       "    <tr>\n",
       "      <th>349</th>\n",
       "      <td>26</td>\n",
       "      <td>2</td>\n",
       "      <td>60</td>\n",
       "      <td>2</td>\n",
       "      <td>3.0</td>\n",
       "      <td>132</td>\n",
       "      <td>0</td>\n",
       "      <td>0</td>\n",
       "      <td>0</td>\n",
       "      <td>0</td>\n",
       "      <td>0</td>\n",
       "      <td>0</td>\n",
       "      <td>1</td>\n",
       "      <td>0</td>\n",
       "      <td>0.000721</td>\n",
       "    </tr>\n",
       "    <tr>\n",
       "      <th>2158</th>\n",
       "      <td>50</td>\n",
       "      <td>25</td>\n",
       "      <td>83</td>\n",
       "      <td>4</td>\n",
       "      <td>3.1</td>\n",
       "      <td>0</td>\n",
       "      <td>0</td>\n",
       "      <td>0</td>\n",
       "      <td>0</td>\n",
       "      <td>1</td>\n",
       "      <td>0</td>\n",
       "      <td>0</td>\n",
       "      <td>1</td>\n",
       "      <td>0</td>\n",
       "      <td>0.002827</td>\n",
       "    </tr>\n",
       "  </tbody>\n",
       "</table>\n",
       "</div>"
      ],
      "text/plain": [
       "      Age  Experience  Income  Family  CCAvg  Mortgage  Securities_Account  \\\n",
       "1577   34           8      65       1    3.0       227                   0   \n",
       "349    26           2      60       2    3.0       132                   0   \n",
       "2158   50          25      83       4    3.1         0                   0   \n",
       "\n",
       "      CD_Account  Online  CreditCard  Education_2  Education_3  Actual  \\\n",
       "1577           0       1           0            0            0       1   \n",
       "349            0       0           0            0            0       1   \n",
       "2158           0       0           1            0            0       1   \n",
       "\n",
       "      Prediction  p(Accept)  \n",
       "1577           0   0.000292  \n",
       "349            0   0.000721  \n",
       "2158           0   0.002827  "
      ]
     },
     "execution_count": 27,
     "metadata": {},
     "output_type": "execute_result"
    }
   ],
   "source": [
    "misclass_A = valid_sum[valid_sum.Actual==1].head(3)\n",
    "misclass_A"
   ]
  },
  {
   "cell_type": "markdown",
   "metadata": {},
   "source": [
    "#### Looking at the misclassified as non acceptors, we can see that all three are not behaving like the defined acceptors, they are outliers."
   ]
  },
  {
   "cell_type": "code",
   "execution_count": 28,
   "metadata": {},
   "outputs": [
    {
     "data": {
      "text/html": [
       "<div>\n",
       "<style scoped>\n",
       "    .dataframe tbody tr th:only-of-type {\n",
       "        vertical-align: middle;\n",
       "    }\n",
       "\n",
       "    .dataframe tbody tr th {\n",
       "        vertical-align: top;\n",
       "    }\n",
       "\n",
       "    .dataframe thead th {\n",
       "        text-align: right;\n",
       "    }\n",
       "</style>\n",
       "<table border=\"1\" class=\"dataframe\">\n",
       "  <thead>\n",
       "    <tr style=\"text-align: right;\">\n",
       "      <th></th>\n",
       "      <th>Age</th>\n",
       "      <th>Experience</th>\n",
       "      <th>Income</th>\n",
       "      <th>Family</th>\n",
       "      <th>CCAvg</th>\n",
       "      <th>Mortgage</th>\n",
       "      <th>Securities_Account</th>\n",
       "      <th>CD_Account</th>\n",
       "      <th>Online</th>\n",
       "      <th>CreditCard</th>\n",
       "      <th>Education_2</th>\n",
       "      <th>Education_3</th>\n",
       "      <th>Actual</th>\n",
       "      <th>Prediction</th>\n",
       "      <th>p(Accept)</th>\n",
       "    </tr>\n",
       "  </thead>\n",
       "  <tbody>\n",
       "    <tr>\n",
       "      <th>4937</th>\n",
       "      <td>33</td>\n",
       "      <td>8</td>\n",
       "      <td>162</td>\n",
       "      <td>1</td>\n",
       "      <td>8.6</td>\n",
       "      <td>0</td>\n",
       "      <td>0</td>\n",
       "      <td>1</td>\n",
       "      <td>1</td>\n",
       "      <td>1</td>\n",
       "      <td>0</td>\n",
       "      <td>0</td>\n",
       "      <td>0</td>\n",
       "      <td>1</td>\n",
       "      <td>0.990876</td>\n",
       "    </tr>\n",
       "    <tr>\n",
       "      <th>785</th>\n",
       "      <td>46</td>\n",
       "      <td>22</td>\n",
       "      <td>164</td>\n",
       "      <td>2</td>\n",
       "      <td>7.6</td>\n",
       "      <td>0</td>\n",
       "      <td>0</td>\n",
       "      <td>1</td>\n",
       "      <td>1</td>\n",
       "      <td>1</td>\n",
       "      <td>0</td>\n",
       "      <td>0</td>\n",
       "      <td>0</td>\n",
       "      <td>1</td>\n",
       "      <td>0.994391</td>\n",
       "    </tr>\n",
       "    <tr>\n",
       "      <th>2305</th>\n",
       "      <td>32</td>\n",
       "      <td>7</td>\n",
       "      <td>185</td>\n",
       "      <td>2</td>\n",
       "      <td>6.7</td>\n",
       "      <td>0</td>\n",
       "      <td>0</td>\n",
       "      <td>1</td>\n",
       "      <td>1</td>\n",
       "      <td>1</td>\n",
       "      <td>0</td>\n",
       "      <td>0</td>\n",
       "      <td>0</td>\n",
       "      <td>1</td>\n",
       "      <td>0.997073</td>\n",
       "    </tr>\n",
       "  </tbody>\n",
       "</table>\n",
       "</div>"
      ],
      "text/plain": [
       "      Age  Experience  Income  Family  CCAvg  Mortgage  Securities_Account  \\\n",
       "4937   33           8     162       1    8.6         0                   0   \n",
       "785    46          22     164       2    7.6         0                   0   \n",
       "2305   32           7     185       2    6.7         0                   0   \n",
       "\n",
       "      CD_Account  Online  CreditCard  Education_2  Education_3  Actual  \\\n",
       "4937           1       1           1            0            0       0   \n",
       "785            1       1           1            0            0       0   \n",
       "2305           1       1           1            0            0       0   \n",
       "\n",
       "      Prediction  p(Accept)  \n",
       "4937           1   0.990876  \n",
       "785            1   0.994391  \n",
       "2305           1   0.997073  "
      ]
     },
     "execution_count": 28,
     "metadata": {},
     "output_type": "execute_result"
    }
   ],
   "source": [
    "misclass_NA = valid_sum[valid_sum.Actual==0].tail(3)\n",
    "misclass_NA"
   ]
  },
  {
   "cell_type": "markdown",
   "metadata": {},
   "source": [
    "#### Again, same as before, these misclassified as acceptors are just outliers. Cases where the customer is not behaving within the norm."
   ]
  },
  {
   "cell_type": "markdown",
   "metadata": {},
   "source": [
    "## Problem 12.1.c\n",
    "As in many marketing campaigns, it is more important to identify customers who will accept the offer rather than customers who will not accept it. Therefore, a good model should be especially accurate at detecting acceptors. Examine the lift chart and decile-wise lift chart for the validation set and interpret them in light of this ranking goal."
   ]
  },
  {
   "cell_type": "code",
   "execution_count": 29,
   "metadata": {},
   "outputs": [
    {
     "data": {
      "text/plain": [
       "<function matplotlib.pyplot.show(close=None, block=None)>"
      ]
     },
     "execution_count": 29,
     "metadata": {},
     "output_type": "execute_result"
    },
    {
     "data": {
      "image/png": "[encoded data removed]",
      "text/plain": [
       "<Figure size 1000x400 with 2 Axes>"
      ]
     },
     "metadata": {},
     "output_type": "display_data"
    }
   ],
   "source": [
    "valid_sum = valid_sum.sort_values(by=['p(Accept)'], ascending=False)\n",
    "fig, axes = plt.subplots(nrows=1,ncols=2, figsize=(10,4))\n",
    "gainsChart(valid_sum.Actual, ax=axes[0])\n",
    "liftChart(valid_sum.Actual,title=False, ax=axes[1])\n",
    "plt.tight_layout()\n",
    "plt.show"
   ]
  },
  {
   "cell_type": "markdown",
   "metadata": {},
   "source": [
    "#### Looking at the charts, we can see that overall the model improves the gains by 7.2 times for the first decile."
   ]
  },
  {
   "cell_type": "markdown",
   "metadata": {},
   "source": [
    "## Problem 12.1.d\n",
    "Compare the results from the discriminant analysis with those from a logistic regression (both with cutoff 0.5 and the same predictors). Examine the confusion matrices, the lift charts, and the decile charts. Which method performs better on your validation set in detecting the acceptors?\n",
    "\n",
    "We can take the confusion matrix from the logistic regression model in chapter 10.\n",
    "```\n",
    "Confusion Matrix (Accuracy 0.9595)\n",
    "\n",
    "       Prediction\n",
    "Actual    0    1\n",
    "     0 1791   16\n",
    "     1   65  128\n",
    "```"
   ]
  },
  {
   "cell_type": "code",
   "execution_count": 30,
   "metadata": {},
   "outputs": [
    {
     "name": "stdout",
     "output_type": "stream",
     "text": [
      "Confusion Matrix (Accuracy 0.9600)\n",
      "\n",
      "             Prediction\n",
      "      Actual Not Accepted     Accepted\n",
      "Not Accepted         1791           16\n",
      "    Accepted           64          129\n"
     ]
    },
    {
     "data": {
      "text/plain": [
       "<function matplotlib.pyplot.show(close=None, block=None)>"
      ]
     },
     "execution_count": 30,
     "metadata": {},
     "output_type": "execute_result"
    },
    {
     "data": {
      "image/png": "[encoded data removed]",
      "text/plain": [
       "<Figure size 1000x400 with 2 Axes>"
      ]
     },
     "metadata": {},
     "output_type": "display_data"
    }
   ],
   "source": [
    "lg_reg = LogisticRegression(max_iter=10000,penalty=\"l2\", C=1e42, solver='liblinear', tol=1e-8)\n",
    "lg_reg.fit(train_X, train_y)\n",
    "classificationSummary(valid_y,lg_reg.predict(valid_X),class_names=['Not Accepted','Accepted'])\n",
    "lg_proba = lg_reg.predict_proba(valid_X)\n",
    "result = pd.DataFrame({'Actual':valid_y,\n",
    "                      'p(0)': [p[0] for p in lg_proba],\n",
    "                      'p(1)': [p[1] for p in lg_proba]\n",
    "                      })\n",
    "df = result.sort_values(by=['p(1)'], ascending=False)\n",
    "\n",
    "fig, axes = plt.subplots(nrows=1,ncols=2, figsize=(10,4))\n",
    "gainsChart(df.Actual, ax=axes[0])\n",
    "liftChart(df.Actual,title=False, ax=axes[1])\n",
    "plt.tight_layout()\n",
    "plt.show"
   ]
  },
  {
   "cell_type": "code",
   "execution_count": 31,
   "metadata": {},
   "outputs": [
    {
     "name": "stdout",
     "output_type": "stream",
     "text": [
      "Confusion Matrix (Accuracy 0.9440)\n",
      "\n",
      "             Prediction\n",
      "      Actual Not Accepted     Accepted\n",
      "Not Accepted         1776           31\n",
      "    Accepted           81          112\n"
     ]
    },
    {
     "data": {
      "text/plain": [
       "<function matplotlib.pyplot.show(close=None, block=None)>"
      ]
     },
     "execution_count": 31,
     "metadata": {},
     "output_type": "execute_result"
    },
    {
     "data": {
      "image/png": "[encoded data removed]",
      "text/plain": [
       "<Figure size 1000x400 with 2 Axes>"
      ]
     },
     "metadata": {},
     "output_type": "display_data"
    }
   ],
   "source": [
    "classificationSummary(valid_y,da_reg.predict(valid_X),class_names=['Not Accepted','Accepted'])\n",
    "valid_sum = valid_sum.sort_values(by=['p(Accept)'], ascending=False)\n",
    "fig, axes = plt.subplots(nrows=1,ncols=2, figsize=(10,4))\n",
    "gainsChart(valid_sum.Actual, ax=axes[0])\n",
    "liftChart(valid_sum.Actual,title=False, ax=axes[1])\n",
    "plt.tight_layout()\n",
    "plt.show"
   ]
  },
  {
   "cell_type": "markdown",
   "metadata": {},
   "source": [
    "#### Comparing Logistic Regression and Discriminant Analysis, it would appear that Logistical Regression did a better job."
   ]
  },
  {
   "cell_type": "markdown",
   "metadata": {},
   "source": [
    "## Problem 12.1.e\n",
    "The bank is planning to continue its campaign by sending its offer to 1000 additional customers. Suppose that the cost of sending the offer is \\\\$1 and the profit from an accepted offer is \\\\$50. What is the expected profitability of this campaign?\n"
   ]
  },
  {
   "cell_type": "code",
   "execution_count": 32,
   "metadata": {},
   "outputs": [
    {
     "data": {
      "text/plain": [
       "Personal_Loan\n",
       "0    2713\n",
       "1     287\n",
       "Name: count, dtype: int64"
      ]
     },
     "execution_count": 32,
     "metadata": {},
     "output_type": "execute_result"
    }
   ],
   "source": [
    "train_y.value_counts()"
   ]
  },
  {
   "cell_type": "code",
   "execution_count": 33,
   "metadata": {},
   "outputs": [
    {
     "data": {
      "text/plain": [
       "0.09566666666666666"
      ]
     },
     "execution_count": 33,
     "metadata": {},
     "output_type": "execute_result"
    }
   ],
   "source": [
    "prob_accept = train_y.value_counts()[1]/(train_y.value_counts()[1]+train_y.value_counts()[0])\n",
    "prob_accept"
   ]
  },
  {
   "cell_type": "code",
   "execution_count": 34,
   "metadata": {},
   "outputs": [],
   "source": [
    "model = round(prob_accept*1000,0)\n",
    "misclass_cost = 50\n",
    "target_count = 1000"
   ]
  },
  {
   "cell_type": "code",
   "execution_count": 35,
   "metadata": {},
   "outputs": [
    {
     "name": "stdout",
     "output_type": "stream",
     "text": [
      "3800\n"
     ]
    }
   ],
   "source": [
    "profitability = round(model*misclass_cost-target_count)\n",
    "print(profitability)"
   ]
  },
  {
   "cell_type": "markdown",
   "metadata": {},
   "source": [
    "#### Based on my numbers, the profit of this campaign should be $32241. This is because you take the number of offers sent out, multiply it by the probability of saying yes per my model and then the models accuracy and finally subtract the costs from the predicted profit, multiplied by -1 to make it positive in this case."
   ]
  },
  {
   "cell_type": "markdown",
   "metadata": {},
   "source": [
    "## Problem 12.1.f\n",
    "The cost of misclassifying a loan acceptor customer as a nonacceptor is much higher than the opposite misclassification cost. To minimize the expected cost of misclassification, should the cutoff value for classification (which is currently at 0.5) be increased or decreased?"
   ]
  },
  {
   "cell_type": "markdown",
   "metadata": {},
   "source": [
    "#### Given that the cost of misclassifying a record as accepting the offer when they will not costs 1/50 of correctly accepting the offer, I think we should decrease the cutoff value, as catching the outliers will net more profit, so long as the number of not-accepts is less than 48 per accept.\n",
    "#### In my Validation set there are 193 Accepts. This means if we keep the number of false accepted under 4632, our profit still stays significantly high.\n",
    "#### If my profitability formula is correct, then our best bet is to set priors to 0.847,0.153 and run the model. This nets in a crazy drop in accuracy, but improves profitability.\n",
    "#### If we focus on model accuracy, were better with 0.805,0.195. Its much lower profit, but is also the safer bet as it errs on the side of caution."
   ]
  },
  {
   "cell_type": "code",
   "execution_count": 36,
   "metadata": {},
   "outputs": [],
   "source": [
    "from sklearn.metrics import confusion_matrix"
   ]
  },
  {
   "cell_type": "code",
   "execution_count": 37,
   "metadata": {},
   "outputs": [
    {
     "name": "stdout",
     "output_type": "stream",
     "text": [
      "0.9455\n"
     ]
    },
    {
     "data": {
      "text/html": [
       "<div>\n",
       "<style scoped>\n",
       "    .dataframe tbody tr th:only-of-type {\n",
       "        vertical-align: middle;\n",
       "    }\n",
       "\n",
       "    .dataframe tbody tr th {\n",
       "        vertical-align: top;\n",
       "    }\n",
       "\n",
       "    .dataframe thead th {\n",
       "        text-align: right;\n",
       "    }\n",
       "</style>\n",
       "<table border=\"1\" class=\"dataframe\">\n",
       "  <thead>\n",
       "    <tr style=\"text-align: right;\">\n",
       "      <th></th>\n",
       "      <th>Accuracy</th>\n",
       "      <th>Priors</th>\n",
       "      <th>Predicted</th>\n",
       "      <th>Profit</th>\n",
       "      <th>Actual_Yes_As_No</th>\n",
       "    </tr>\n",
       "  </thead>\n",
       "  <tbody>\n",
       "    <tr>\n",
       "      <th>846</th>\n",
       "      <td>0.9455</td>\n",
       "      <td>0.847</td>\n",
       "      <td>0.0860</td>\n",
       "      <td>3728.0</td>\n",
       "      <td>65.0</td>\n",
       "    </tr>\n",
       "    <tr>\n",
       "      <th>841</th>\n",
       "      <td>0.9455</td>\n",
       "      <td>0.842</td>\n",
       "      <td>0.0870</td>\n",
       "      <td>3728.0</td>\n",
       "      <td>64.0</td>\n",
       "    </tr>\n",
       "    <tr>\n",
       "      <th>849</th>\n",
       "      <td>0.9455</td>\n",
       "      <td>0.850</td>\n",
       "      <td>0.0850</td>\n",
       "      <td>3728.0</td>\n",
       "      <td>66.0</td>\n",
       "    </tr>\n",
       "    <tr>\n",
       "      <th>848</th>\n",
       "      <td>0.9455</td>\n",
       "      <td>0.849</td>\n",
       "      <td>0.0850</td>\n",
       "      <td>3728.0</td>\n",
       "      <td>66.0</td>\n",
       "    </tr>\n",
       "    <tr>\n",
       "      <th>844</th>\n",
       "      <td>0.9455</td>\n",
       "      <td>0.845</td>\n",
       "      <td>0.0870</td>\n",
       "      <td>3728.0</td>\n",
       "      <td>64.0</td>\n",
       "    </tr>\n",
       "    <tr>\n",
       "      <th>...</th>\n",
       "      <td>...</td>\n",
       "      <td>...</td>\n",
       "      <td>...</td>\n",
       "      <td>...</td>\n",
       "      <td>...</td>\n",
       "    </tr>\n",
       "    <tr>\n",
       "      <th>4</th>\n",
       "      <td>0.3840</td>\n",
       "      <td>0.005</td>\n",
       "      <td>0.7115</td>\n",
       "      <td>920.0</td>\n",
       "      <td>1.0</td>\n",
       "    </tr>\n",
       "    <tr>\n",
       "      <th>3</th>\n",
       "      <td>0.3540</td>\n",
       "      <td>0.004</td>\n",
       "      <td>0.7415</td>\n",
       "      <td>770.0</td>\n",
       "      <td>1.0</td>\n",
       "    </tr>\n",
       "    <tr>\n",
       "      <th>2</th>\n",
       "      <td>0.3195</td>\n",
       "      <td>0.003</td>\n",
       "      <td>0.7760</td>\n",
       "      <td>598.0</td>\n",
       "      <td>1.0</td>\n",
       "    </tr>\n",
       "    <tr>\n",
       "      <th>1</th>\n",
       "      <td>0.2775</td>\n",
       "      <td>0.002</td>\n",
       "      <td>0.8190</td>\n",
       "      <td>388.0</td>\n",
       "      <td>0.0</td>\n",
       "    </tr>\n",
       "    <tr>\n",
       "      <th>0</th>\n",
       "      <td>0.2130</td>\n",
       "      <td>0.001</td>\n",
       "      <td>0.8835</td>\n",
       "      <td>65.0</td>\n",
       "      <td>0.0</td>\n",
       "    </tr>\n",
       "  </tbody>\n",
       "</table>\n",
       "<p>999 rows × 5 columns</p>\n",
       "</div>"
      ],
      "text/plain": [
       "     Accuracy  Priors  Predicted  Profit  Actual_Yes_As_No\n",
       "846    0.9455   0.847     0.0860  3728.0              65.0\n",
       "841    0.9455   0.842     0.0870  3728.0              64.0\n",
       "849    0.9455   0.850     0.0850  3728.0              66.0\n",
       "848    0.9455   0.849     0.0850  3728.0              66.0\n",
       "844    0.9455   0.845     0.0870  3728.0              64.0\n",
       "..        ...     ...        ...     ...               ...\n",
       "4      0.3840   0.005     0.7115   920.0               1.0\n",
       "3      0.3540   0.004     0.7415   770.0               1.0\n",
       "2      0.3195   0.003     0.7760   598.0               1.0\n",
       "1      0.2775   0.002     0.8190   388.0               0.0\n",
       "0      0.2130   0.001     0.8835    65.0               0.0\n",
       "\n",
       "[999 rows x 5 columns]"
      ]
     },
     "execution_count": 37,
     "metadata": {},
     "output_type": "execute_result"
    }
   ],
   "source": [
    "#Created a bit of a CV here to test priors.\n",
    "results = pd.DataFrame(columns=['Accuracy','Priors','Predicted','Profit','Actual_Yes_As_No'])\n",
    "#Accuracy = max_acc\n",
    "#Priors = z\n",
    "#Predicted = pred_A\n",
    "#Profit = profitability\n",
    "tester = range(1,1000)\n",
    "max_acc = 0\n",
    "misclass_cost = 50\n",
    "target_count = 1000\n",
    "for x in tester:\n",
    "    z = x/1000\n",
    "    #testing if using the default priors has a significant change (hint it does!)\n",
    "    da_reg = LinearDiscriminantAnalysis(priors=[z,1-z])\n",
    "    da_reg.fit(train_X,train_y)\n",
    "    valid_sum = pd.DataFrame(valid_X)\n",
    "    valid_sum['Actual'] = valid_y\n",
    "    valid_sum['Prediction'] = da_reg.predict(valid_X)\n",
    "    valid_sum['p(Accept)'] = da_reg.predict_proba(valid_X)[:,1]\n",
    "    cf = confusion_matrix(valid_sum.Actual,valid_sum.Prediction)\n",
    "    ANA_PNA =cf[0][0]\n",
    "    ANA_PA =cf[0][1]\n",
    "    AA_PNA =cf[1][0]\n",
    "    AA_PA =cf[1][1]\n",
    "    TOTAL = cf[0][0]+cf[0][1]+cf[1][0]+cf[1][1]\n",
    "    bank_acc = (ANA_PNA+AA_PA)/TOTAL\n",
    "    if bank_acc > max_acc:\n",
    "        max_acc = bank_acc\n",
    "    Predict_NA = ANA_PNA+AA_PNA\n",
    "    Predict_A = ANA_PA+AA_PA\n",
    "    pred_A = round((Predict_A/(Predict_NA+Predict_A)),5)\n",
    "    model = round(bank_acc*100,2)\n",
    "    profitability = round(model*misclass_cost-target_count)\n",
    "    actual_yes = cf[1][0]\n",
    "    results.loc[len(results.index)] = [bank_acc,z,pred_A,profitability,actual_yes]\n",
    "\n",
    "results = results.sort_values(by=['Profit'], ascending=False)\n",
    "print(max_acc)\n",
    "results#.head(1)"
   ]
  },
  {
   "cell_type": "markdown",
   "metadata": {},
   "source": [
    "# Problem 12.3: Detecting Spam E-mail (from the UCI Machine Learning Repository)\n",
    "A team at Hewlett-Packard collected data on a large number of e-mail messages from their postmaster and personal e-mail for the purpose of finding a classifier that can separate e-mail messages that are _spam_ vs. _nonspam_ (a.k.a. 'ham'). The spam concept is diverse: It includes advertisements for products or websites, 'make money fast' schemes, chain letters, pornography, and so on. The definition used here is 'unsolicited commercial e-mail.' The file _Spambase.csv_ contains information on 4601 e-mail messages, among which 1813 are tagged 'spam.' The predictors include 57 attributes, most of them are the average number of times a certain word (e.g., mail, George) or symbol (e.g., \\#, !) appears in the e-mail. A few predictors are\n",
    "related to the number and length of capitalized words.\n",
    "\n",
    "## Problem 12.3.a\n",
    "To reduce the number of predictors to a manageable size, examine how each predictor differs between the _spam_ and _nonspam_ e-mails by comparing the spam-class average and nonspam-class average. Which are the 11 predictors that appear to vary the most between _spam_ and _nonspam_ e-mails? From these 11, which words or signs occur more often in spam?"
   ]
  },
  {
   "cell_type": "code",
   "execution_count": 38,
   "metadata": {},
   "outputs": [],
   "source": [
    "# Loading data, setting ID as index, and dropping ZIP Code\n",
    "df_spam = pd.read_csv(DATA / 'Spambase.csv')#, index_col='ID').drop(columns='ZIP Code')"
   ]
  },
  {
   "cell_type": "code",
   "execution_count": 39,
   "metadata": {},
   "outputs": [],
   "source": [
    "#Removing spaces from column names\n",
    "names = df_spam.columns.to_list()\n",
    "for x in names:\n",
    "    df_spam = df_spam.rename(columns={x:x.replace(' ','_')})"
   ]
  },
  {
   "cell_type": "code",
   "execution_count": 40,
   "metadata": {},
   "outputs": [],
   "source": [
    "df_spam['Spam'] = df_spam.Spam.replace(1,'spam')\n",
    "df_spam['Spam'] = df_spam.Spam.replace(0,'not_spam')\n",
    "df_spam['Spam'] = df_spam['Spam'].astype(dtype='category')"
   ]
  },
  {
   "cell_type": "code",
   "execution_count": 41,
   "metadata": {},
   "outputs": [],
   "source": [
    "outcome = 'Spam'"
   ]
  },
  {
   "cell_type": "code",
   "execution_count": 42,
   "metadata": {},
   "outputs": [],
   "source": [
    "spam = df_spam.where(df_spam.Spam == 'spam').dropna().drop(columns=outcome)\n",
    "not_spam = df_spam.where(df_spam.Spam == 'not_spam').dropna().drop(columns=outcome)"
   ]
  },
  {
   "cell_type": "code",
   "execution_count": 43,
   "metadata": {},
   "outputs": [],
   "source": [
    "spam_results = pd.DataFrame(columns=['mean_spam','mean_not_spam'])"
   ]
  },
  {
   "cell_type": "code",
   "execution_count": 44,
   "metadata": {},
   "outputs": [],
   "source": [
    "spam_desc = spam.describe().T\n",
    "spam_desc.rename(columns={'mean':'mean_spam'}, inplace=True)"
   ]
  },
  {
   "cell_type": "code",
   "execution_count": 45,
   "metadata": {},
   "outputs": [],
   "source": [
    "not_spam_desc = not_spam.describe().T\n",
    "not_spam_desc.rename(columns={'mean':'mean_not_spam'}, inplace=True)"
   ]
  },
  {
   "cell_type": "code",
   "execution_count": 46,
   "metadata": {},
   "outputs": [],
   "source": [
    "spam_results['mean_spam'] = spam_desc['mean_spam']\n",
    "spam_results['mean_not_spam'] = not_spam_desc['mean_not_spam']"
   ]
  },
  {
   "cell_type": "code",
   "execution_count": 47,
   "metadata": {},
   "outputs": [
    {
     "name": "stdout",
     "output_type": "stream",
     "text": [
      "['our', 'C!', 'hpl', 'free', 'hp', 'your', 'you_', 'george', 'CAP_avg', 'CAP_long', 'CAP_tot']\n"
     ]
    }
   ],
   "source": [
    "spam_results['diff_abs'] = abs(spam_results.mean_spam - spam_results.mean_not_spam)\n",
    "spam_results['diff'] = spam_results.mean_spam - spam_results.mean_not_spam\n",
    "spam_results = spam_results.sort_values(by='diff_abs',ascending=False)\n",
    "predictors = spam_results.head(11).T.columns.to_list()\n",
    "predictors.reverse()\n",
    "print(predictors)"
   ]
  },
  {
   "cell_type": "code",
   "execution_count": 48,
   "metadata": {},
   "outputs": [
    {
     "data": {
      "text/html": [
       "<div>\n",
       "<style scoped>\n",
       "    .dataframe tbody tr th:only-of-type {\n",
       "        vertical-align: middle;\n",
       "    }\n",
       "\n",
       "    .dataframe tbody tr th {\n",
       "        vertical-align: top;\n",
       "    }\n",
       "\n",
       "    .dataframe thead th {\n",
       "        text-align: right;\n",
       "    }\n",
       "</style>\n",
       "<table border=\"1\" class=\"dataframe\">\n",
       "  <thead>\n",
       "    <tr style=\"text-align: right;\">\n",
       "      <th></th>\n",
       "      <th>mean_spam</th>\n",
       "      <th>mean_not_spam</th>\n",
       "      <th>diff_abs</th>\n",
       "      <th>diff</th>\n",
       "    </tr>\n",
       "  </thead>\n",
       "  <tbody>\n",
       "    <tr>\n",
       "      <th>CAP_tot</th>\n",
       "      <td>470.619415</td>\n",
       "      <td>161.470947</td>\n",
       "      <td>309.148468</td>\n",
       "      <td>309.148468</td>\n",
       "    </tr>\n",
       "    <tr>\n",
       "      <th>CAP_long</th>\n",
       "      <td>104.393271</td>\n",
       "      <td>18.214491</td>\n",
       "      <td>86.178780</td>\n",
       "      <td>86.178780</td>\n",
       "    </tr>\n",
       "    <tr>\n",
       "      <th>CAP_avg</th>\n",
       "      <td>9.519165</td>\n",
       "      <td>2.377301</td>\n",
       "      <td>7.141864</td>\n",
       "      <td>7.141864</td>\n",
       "    </tr>\n",
       "    <tr>\n",
       "      <th>you_</th>\n",
       "      <td>2.264539</td>\n",
       "      <td>1.270341</td>\n",
       "      <td>0.994199</td>\n",
       "      <td>0.994199</td>\n",
       "    </tr>\n",
       "    <tr>\n",
       "      <th>your</th>\n",
       "      <td>1.380370</td>\n",
       "      <td>0.438702</td>\n",
       "      <td>0.941668</td>\n",
       "      <td>0.941668</td>\n",
       "    </tr>\n",
       "    <tr>\n",
       "      <th>free</th>\n",
       "      <td>0.518362</td>\n",
       "      <td>0.073587</td>\n",
       "      <td>0.444775</td>\n",
       "      <td>0.444775</td>\n",
       "    </tr>\n",
       "    <tr>\n",
       "      <th>C!</th>\n",
       "      <td>0.513713</td>\n",
       "      <td>0.109984</td>\n",
       "      <td>0.403729</td>\n",
       "      <td>0.403729</td>\n",
       "    </tr>\n",
       "    <tr>\n",
       "      <th>our</th>\n",
       "      <td>0.513955</td>\n",
       "      <td>0.181040</td>\n",
       "      <td>0.332915</td>\n",
       "      <td>0.332915</td>\n",
       "    </tr>\n",
       "    <tr>\n",
       "      <th>remove</th>\n",
       "      <td>0.275405</td>\n",
       "      <td>0.009383</td>\n",
       "      <td>0.266022</td>\n",
       "      <td>0.266022</td>\n",
       "    </tr>\n",
       "    <tr>\n",
       "      <th>W_000</th>\n",
       "      <td>0.247055</td>\n",
       "      <td>0.007088</td>\n",
       "      <td>0.239967</td>\n",
       "      <td>0.239967</td>\n",
       "    </tr>\n",
       "    <tr>\n",
       "      <th>business</th>\n",
       "      <td>0.287507</td>\n",
       "      <td>0.048346</td>\n",
       "      <td>0.239160</td>\n",
       "      <td>0.239160</td>\n",
       "    </tr>\n",
       "    <tr>\n",
       "      <th>email</th>\n",
       "      <td>0.319228</td>\n",
       "      <td>0.097292</td>\n",
       "      <td>0.221936</td>\n",
       "      <td>0.221936</td>\n",
       "    </tr>\n",
       "    <tr>\n",
       "      <th>all</th>\n",
       "      <td>0.403795</td>\n",
       "      <td>0.200581</td>\n",
       "      <td>0.203214</td>\n",
       "      <td>0.203214</td>\n",
       "    </tr>\n",
       "    <tr>\n",
       "      <th>credit</th>\n",
       "      <td>0.205521</td>\n",
       "      <td>0.007579</td>\n",
       "      <td>0.197942</td>\n",
       "      <td>0.197942</td>\n",
       "    </tr>\n",
       "    <tr>\n",
       "      <th>money</th>\n",
       "      <td>0.212879</td>\n",
       "      <td>0.017138</td>\n",
       "      <td>0.195741</td>\n",
       "      <td>0.195741</td>\n",
       "    </tr>\n",
       "    <tr>\n",
       "      <th>font</th>\n",
       "      <td>0.238036</td>\n",
       "      <td>0.045226</td>\n",
       "      <td>0.192810</td>\n",
       "      <td>0.192810</td>\n",
       "    </tr>\n",
       "    <tr>\n",
       "      <th>mail</th>\n",
       "      <td>0.350507</td>\n",
       "      <td>0.167170</td>\n",
       "      <td>0.183337</td>\n",
       "      <td>0.183337</td>\n",
       "    </tr>\n",
       "    <tr>\n",
       "      <th>internet</th>\n",
       "      <td>0.208141</td>\n",
       "      <td>0.038415</td>\n",
       "      <td>0.169727</td>\n",
       "      <td>0.169727</td>\n",
       "    </tr>\n",
       "    <tr>\n",
       "      <th>W_3d</th>\n",
       "      <td>0.164672</td>\n",
       "      <td>0.000886</td>\n",
       "      <td>0.163786</td>\n",
       "      <td>0.163786</td>\n",
       "    </tr>\n",
       "    <tr>\n",
       "      <th>C$</th>\n",
       "      <td>0.174478</td>\n",
       "      <td>0.011648</td>\n",
       "      <td>0.162830</td>\n",
       "      <td>0.162830</td>\n",
       "    </tr>\n",
       "    <tr>\n",
       "      <th>order</th>\n",
       "      <td>0.170061</td>\n",
       "      <td>0.038049</td>\n",
       "      <td>0.132012</td>\n",
       "      <td>0.132012</td>\n",
       "    </tr>\n",
       "    <tr>\n",
       "      <th>over</th>\n",
       "      <td>0.174876</td>\n",
       "      <td>0.044544</td>\n",
       "      <td>0.130331</td>\n",
       "      <td>0.130331</td>\n",
       "    </tr>\n",
       "    <tr>\n",
       "      <th>addresses</th>\n",
       "      <td>0.112079</td>\n",
       "      <td>0.008318</td>\n",
       "      <td>0.103762</td>\n",
       "      <td>0.103762</td>\n",
       "    </tr>\n",
       "    <tr>\n",
       "      <th>receive</th>\n",
       "      <td>0.118434</td>\n",
       "      <td>0.021711</td>\n",
       "      <td>0.096723</td>\n",
       "      <td>0.096723</td>\n",
       "    </tr>\n",
       "    <tr>\n",
       "      <th>people</th>\n",
       "      <td>0.143547</td>\n",
       "      <td>0.061664</td>\n",
       "      <td>0.081882</td>\n",
       "      <td>0.081882</td>\n",
       "    </tr>\n",
       "    <tr>\n",
       "      <th>make</th>\n",
       "      <td>0.152339</td>\n",
       "      <td>0.073479</td>\n",
       "      <td>0.078859</td>\n",
       "      <td>0.078859</td>\n",
       "    </tr>\n",
       "    <tr>\n",
       "      <th>C#</th>\n",
       "      <td>0.078877</td>\n",
       "      <td>0.021713</td>\n",
       "      <td>0.057164</td>\n",
       "      <td>0.057164</td>\n",
       "    </tr>\n",
       "    <tr>\n",
       "      <th>report</th>\n",
       "      <td>0.083574</td>\n",
       "      <td>0.042403</td>\n",
       "      <td>0.041171</td>\n",
       "      <td>0.041171</td>\n",
       "    </tr>\n",
       "    <tr>\n",
       "      <th>will_</th>\n",
       "      <td>0.549972</td>\n",
       "      <td>0.536324</td>\n",
       "      <td>0.013649</td>\n",
       "      <td>0.013649</td>\n",
       "    </tr>\n",
       "    <tr>\n",
       "      <th>table_</th>\n",
       "      <td>0.001219</td>\n",
       "      <td>0.008192</td>\n",
       "      <td>0.006973</td>\n",
       "      <td>-0.006973</td>\n",
       "    </tr>\n",
       "    <tr>\n",
       "      <th>parts</th>\n",
       "      <td>0.004710</td>\n",
       "      <td>0.018723</td>\n",
       "      <td>0.014013</td>\n",
       "      <td>-0.014013</td>\n",
       "    </tr>\n",
       "    <tr>\n",
       "      <th>C[</th>\n",
       "      <td>0.008199</td>\n",
       "      <td>0.022684</td>\n",
       "      <td>0.014485</td>\n",
       "      <td>-0.014485</td>\n",
       "    </tr>\n",
       "    <tr>\n",
       "      <th>C;</th>\n",
       "      <td>0.020573</td>\n",
       "      <td>0.050281</td>\n",
       "      <td>0.029708</td>\n",
       "      <td>-0.029708</td>\n",
       "    </tr>\n",
       "    <tr>\n",
       "      <th>direct</th>\n",
       "      <td>0.036718</td>\n",
       "      <td>0.083117</td>\n",
       "      <td>0.046399</td>\n",
       "      <td>-0.046399</td>\n",
       "    </tr>\n",
       "    <tr>\n",
       "      <th>conference</th>\n",
       "      <td>0.002101</td>\n",
       "      <td>0.051227</td>\n",
       "      <td>0.049125</td>\n",
       "      <td>-0.049125</td>\n",
       "    </tr>\n",
       "    <tr>\n",
       "      <th>C(</th>\n",
       "      <td>0.108970</td>\n",
       "      <td>0.158578</td>\n",
       "      <td>0.049608</td>\n",
       "      <td>-0.049608</td>\n",
       "    </tr>\n",
       "    <tr>\n",
       "      <th>original</th>\n",
       "      <td>0.008450</td>\n",
       "      <td>0.070581</td>\n",
       "      <td>0.062131</td>\n",
       "      <td>-0.062131</td>\n",
       "    </tr>\n",
       "    <tr>\n",
       "      <th>cs</th>\n",
       "      <td>0.000055</td>\n",
       "      <td>0.072027</td>\n",
       "      <td>0.071971</td>\n",
       "      <td>-0.071971</td>\n",
       "    </tr>\n",
       "    <tr>\n",
       "      <th>W_415</th>\n",
       "      <td>0.001776</td>\n",
       "      <td>0.077787</td>\n",
       "      <td>0.076011</td>\n",
       "      <td>-0.076011</td>\n",
       "    </tr>\n",
       "    <tr>\n",
       "      <th>W_857</th>\n",
       "      <td>0.000518</td>\n",
       "      <td>0.077306</td>\n",
       "      <td>0.076788</td>\n",
       "      <td>-0.076788</td>\n",
       "    </tr>\n",
       "    <tr>\n",
       "      <th>address</th>\n",
       "      <td>0.164650</td>\n",
       "      <td>0.244466</td>\n",
       "      <td>0.079816</td>\n",
       "      <td>-0.079816</td>\n",
       "    </tr>\n",
       "    <tr>\n",
       "      <th>telnet</th>\n",
       "      <td>0.001274</td>\n",
       "      <td>0.106033</td>\n",
       "      <td>0.104759</td>\n",
       "      <td>-0.104759</td>\n",
       "    </tr>\n",
       "    <tr>\n",
       "      <th>pm</th>\n",
       "      <td>0.012427</td>\n",
       "      <td>0.121679</td>\n",
       "      <td>0.109252</td>\n",
       "      <td>-0.109252</td>\n",
       "    </tr>\n",
       "    <tr>\n",
       "      <th>technology</th>\n",
       "      <td>0.029515</td>\n",
       "      <td>0.141671</td>\n",
       "      <td>0.112157</td>\n",
       "      <td>-0.112157</td>\n",
       "    </tr>\n",
       "    <tr>\n",
       "      <th>project_</th>\n",
       "      <td>0.006244</td>\n",
       "      <td>0.126636</td>\n",
       "      <td>0.120392</td>\n",
       "      <td>-0.120392</td>\n",
       "    </tr>\n",
       "    <tr>\n",
       "      <th>data</th>\n",
       "      <td>0.014562</td>\n",
       "      <td>0.150986</td>\n",
       "      <td>0.136425</td>\n",
       "      <td>-0.136425</td>\n",
       "    </tr>\n",
       "    <tr>\n",
       "      <th>W_1999</th>\n",
       "      <td>0.043469</td>\n",
       "      <td>0.197744</td>\n",
       "      <td>0.154275</td>\n",
       "      <td>-0.154275</td>\n",
       "    </tr>\n",
       "    <tr>\n",
       "      <th>labs</th>\n",
       "      <td>0.005968</td>\n",
       "      <td>0.165854</td>\n",
       "      <td>0.159886</td>\n",
       "      <td>-0.159886</td>\n",
       "    </tr>\n",
       "    <tr>\n",
       "      <th>lab</th>\n",
       "      <td>0.000684</td>\n",
       "      <td>0.162794</td>\n",
       "      <td>0.162110</td>\n",
       "      <td>-0.162110</td>\n",
       "    </tr>\n",
       "    <tr>\n",
       "      <th>W_85</th>\n",
       "      <td>0.006928</td>\n",
       "      <td>0.169455</td>\n",
       "      <td>0.162527</td>\n",
       "      <td>-0.162527</td>\n",
       "    </tr>\n",
       "    <tr>\n",
       "      <th>W_650</th>\n",
       "      <td>0.018798</td>\n",
       "      <td>0.193806</td>\n",
       "      <td>0.175008</td>\n",
       "      <td>-0.175008</td>\n",
       "    </tr>\n",
       "    <tr>\n",
       "      <th>meeting</th>\n",
       "      <td>0.002443</td>\n",
       "      <td>0.216808</td>\n",
       "      <td>0.214364</td>\n",
       "      <td>-0.214364</td>\n",
       "    </tr>\n",
       "    <tr>\n",
       "      <th>edu</th>\n",
       "      <td>0.014727</td>\n",
       "      <td>0.287184</td>\n",
       "      <td>0.272457</td>\n",
       "      <td>-0.272457</td>\n",
       "    </tr>\n",
       "    <tr>\n",
       "      <th>re:</th>\n",
       "      <td>0.125091</td>\n",
       "      <td>0.415760</td>\n",
       "      <td>0.290669</td>\n",
       "      <td>-0.290669</td>\n",
       "    </tr>\n",
       "    <tr>\n",
       "      <th>hpl</th>\n",
       "      <td>0.009173</td>\n",
       "      <td>0.431994</td>\n",
       "      <td>0.422822</td>\n",
       "      <td>-0.422822</td>\n",
       "    </tr>\n",
       "    <tr>\n",
       "      <th>hp</th>\n",
       "      <td>0.017479</td>\n",
       "      <td>0.895473</td>\n",
       "      <td>0.877994</td>\n",
       "      <td>-0.877994</td>\n",
       "    </tr>\n",
       "    <tr>\n",
       "      <th>george</th>\n",
       "      <td>0.001550</td>\n",
       "      <td>1.265265</td>\n",
       "      <td>1.263716</td>\n",
       "      <td>-1.263716</td>\n",
       "    </tr>\n",
       "  </tbody>\n",
       "</table>\n",
       "</div>"
      ],
      "text/plain": [
       "             mean_spam  mean_not_spam    diff_abs        diff\n",
       "CAP_tot     470.619415     161.470947  309.148468  309.148468\n",
       "CAP_long    104.393271      18.214491   86.178780   86.178780\n",
       "CAP_avg       9.519165       2.377301    7.141864    7.141864\n",
       "you_          2.264539       1.270341    0.994199    0.994199\n",
       "your          1.380370       0.438702    0.941668    0.941668\n",
       "free          0.518362       0.073587    0.444775    0.444775\n",
       "C!            0.513713       0.109984    0.403729    0.403729\n",
       "our           0.513955       0.181040    0.332915    0.332915\n",
       "remove        0.275405       0.009383    0.266022    0.266022\n",
       "W_000         0.247055       0.007088    0.239967    0.239967\n",
       "business      0.287507       0.048346    0.239160    0.239160\n",
       "email         0.319228       0.097292    0.221936    0.221936\n",
       "all           0.403795       0.200581    0.203214    0.203214\n",
       "credit        0.205521       0.007579    0.197942    0.197942\n",
       "money         0.212879       0.017138    0.195741    0.195741\n",
       "font          0.238036       0.045226    0.192810    0.192810\n",
       "mail          0.350507       0.167170    0.183337    0.183337\n",
       "internet      0.208141       0.038415    0.169727    0.169727\n",
       "W_3d          0.164672       0.000886    0.163786    0.163786\n",
       "C$            0.174478       0.011648    0.162830    0.162830\n",
       "order         0.170061       0.038049    0.132012    0.132012\n",
       "over          0.174876       0.044544    0.130331    0.130331\n",
       "addresses     0.112079       0.008318    0.103762    0.103762\n",
       "receive       0.118434       0.021711    0.096723    0.096723\n",
       "people        0.143547       0.061664    0.081882    0.081882\n",
       "make          0.152339       0.073479    0.078859    0.078859\n",
       "C#            0.078877       0.021713    0.057164    0.057164\n",
       "report        0.083574       0.042403    0.041171    0.041171\n",
       "will_         0.549972       0.536324    0.013649    0.013649\n",
       "table_        0.001219       0.008192    0.006973   -0.006973\n",
       "parts         0.004710       0.018723    0.014013   -0.014013\n",
       "C[            0.008199       0.022684    0.014485   -0.014485\n",
       "C;            0.020573       0.050281    0.029708   -0.029708\n",
       "direct        0.036718       0.083117    0.046399   -0.046399\n",
       "conference    0.002101       0.051227    0.049125   -0.049125\n",
       "C(            0.108970       0.158578    0.049608   -0.049608\n",
       "original      0.008450       0.070581    0.062131   -0.062131\n",
       "cs            0.000055       0.072027    0.071971   -0.071971\n",
       "W_415         0.001776       0.077787    0.076011   -0.076011\n",
       "W_857         0.000518       0.077306    0.076788   -0.076788\n",
       "address       0.164650       0.244466    0.079816   -0.079816\n",
       "telnet        0.001274       0.106033    0.104759   -0.104759\n",
       "pm            0.012427       0.121679    0.109252   -0.109252\n",
       "technology    0.029515       0.141671    0.112157   -0.112157\n",
       "project_      0.006244       0.126636    0.120392   -0.120392\n",
       "data          0.014562       0.150986    0.136425   -0.136425\n",
       "W_1999        0.043469       0.197744    0.154275   -0.154275\n",
       "labs          0.005968       0.165854    0.159886   -0.159886\n",
       "lab           0.000684       0.162794    0.162110   -0.162110\n",
       "W_85          0.006928       0.169455    0.162527   -0.162527\n",
       "W_650         0.018798       0.193806    0.175008   -0.175008\n",
       "meeting       0.002443       0.216808    0.214364   -0.214364\n",
       "edu           0.014727       0.287184    0.272457   -0.272457\n",
       "re:           0.125091       0.415760    0.290669   -0.290669\n",
       "hpl           0.009173       0.431994    0.422822   -0.422822\n",
       "hp            0.017479       0.895473    0.877994   -0.877994\n",
       "george        0.001550       1.265265    1.263716   -1.263716"
      ]
     },
     "execution_count": 48,
     "metadata": {},
     "output_type": "execute_result"
    }
   ],
   "source": [
    "spam_results.sort_values(by='diff',ascending=False)"
   ]
  },
  {
   "cell_type": "markdown",
   "metadata": {},
   "source": [
    "#### Based on the outputted list above, we can see that Capital letters, words, and counts along with george, you_, your, hp, free, hpl, C!, and our are the most used words by %."
   ]
  },
  {
   "cell_type": "markdown",
   "metadata": {},
   "source": [
    "## Problem 12.3.b\n",
    "Partition the data into training and validation sets, then perform a discriminant analysis on the training data using only the 11 predictors."
   ]
  },
  {
   "cell_type": "code",
   "execution_count": 49,
   "metadata": {},
   "outputs": [],
   "source": [
    "X = df_spam[predictors]\n",
    "y = df_spam[outcome]\n",
    "train_X, valid_X, train_y, valid_y = train_test_split(X, y, test_size=0.4, random_state=1)"
   ]
  },
  {
   "cell_type": "code",
   "execution_count": 50,
   "metadata": {},
   "outputs": [
    {
     "name": "stdout",
     "output_type": "stream",
     "text": [
      "Coefficients [[ 6.75883468e-01  4.39462081e-01 -3.16915182e-01  6.50457481e-01\n",
      "  -1.85640249e-01  5.81145106e-01  1.86853238e-01 -9.43539189e-02\n",
      "   4.22902842e-03  4.17051777e-04  1.01505623e-03]]\n",
      "Intercept [-2.07053468]\n"
     ]
    }
   ],
   "source": [
    "lda_reg_1 = LinearDiscriminantAnalysis()\n",
    "lda_reg_1.fit(train_X,train_y)\n",
    "print('Coefficients', lda_reg_1.coef_)\n",
    "print('Intercept', lda_reg_1.intercept_)"
   ]
  },
  {
   "cell_type": "markdown",
   "metadata": {},
   "source": [
    "## Problem 12.3.c\n",
    "If we are interested mainly in detecting spam messages, is this model useful? Use the confusion matrix, lift chart, and decile chart for the validation set for the evaluation."
   ]
  },
  {
   "cell_type": "code",
   "execution_count": 51,
   "metadata": {},
   "outputs": [
    {
     "name": "stdout",
     "output_type": "stream",
     "text": [
      "Confusion Matrix (Accuracy 0.8332)\n",
      "\n",
      "         Prediction\n",
      "  Actual not_spam     spam\n",
      "not_spam     1030       68\n",
      "    spam      239      504\n"
     ]
    },
    {
     "data": {
      "text/plain": [
       "<function matplotlib.pyplot.show(close=None, block=None)>"
      ]
     },
     "execution_count": 51,
     "metadata": {},
     "output_type": "execute_result"
    },
    {
     "data": {
      "image/png": "[encoded data removed]",
      "text/plain": [
       "<Figure size 1000x400 with 2 Axes>"
      ]
     },
     "metadata": {},
     "output_type": "display_data"
    }
   ],
   "source": [
    "classificationSummary(valid_y,lda_reg_1.predict(valid_X),class_names=lda_reg_1.classes_)\n",
    "lda_proba_1 = lda_reg_1.predict_proba(valid_X)\n",
    "result_1 = pd.DataFrame({'Actual':valid_y,\n",
    "                      'p(0)': [p[0] for p in lda_proba_1],\n",
    "                      'p(1)': [p[1] for p in lda_proba_1]\n",
    "                      })\n",
    "result_1['Actual'] = result_1.Actual.replace('spam',1)\n",
    "result_1['Actual'] = result_1.Actual.replace('not_spam',0)\n",
    "result_1['Actual'] = result_1['Actual'].astype(dtype='uint8')\n",
    "result_1 = result_1.sort_values(by=['p(1)'], ascending=False)\n",
    "fig, axes = plt.subplots(nrows=1,ncols=2, figsize=(10,4))\n",
    "gainsChart(result_1.Actual, ax=axes[0])\n",
    "liftChart(result_1.Actual,title=False, ax=axes[1])\n",
    "plt.tight_layout()\n",
    "plt.show\n"
   ]
  },
  {
   "cell_type": "code",
   "execution_count": 52,
   "metadata": {},
   "outputs": [
    {
     "data": {
      "text/plain": [
       "32.17"
      ]
     },
     "execution_count": 52,
     "metadata": {},
     "output_type": "execute_result"
    }
   ],
   "source": [
    "error_rate = round((239/(504+239))*100,2)\n",
    "error_rate"
   ]
  },
  {
   "cell_type": "markdown",
   "metadata": {},
   "source": [
    "## Problem 12.3.d\n",
    "In the sample, almost 40\\% of the e-mail messages were tagged as spam. However, suppose that the actual proportion of spam messages in these e-mail accounts is 10\\%. Compute the intercept of the classification (discriminant) function to account for this information."
   ]
  },
  {
   "cell_type": "code",
   "execution_count": 53,
   "metadata": {},
   "outputs": [
    {
     "name": "stdout",
     "output_type": "stream",
     "text": [
      "Base Intercept: [-2.07053468]\n",
      "Base Priors: [0.61231884 0.38768116]\n",
      "Log_P Diff: -0.45706988046116737\n",
      "Log_P_10 Diff: -2.197224577336219\n",
      "[-3.81068937]\n"
     ]
    }
   ],
   "source": [
    "print('Base Intercept:',lda_reg_1.intercept_)\n",
    "print('Base Priors:',lda_reg_1.priors_)\n",
    "\n",
    "log_p = np.log(lda_reg_1.priors_)\n",
    "log_p_10 = np.log([0.9,0.1])\n",
    "diff_log_p = log_p[1]-log_p[0]\n",
    "diff_log_p_10 = log_p_10[1] - log_p_10[0]\n",
    "print('Log_P Diff:',diff_log_p)\n",
    "print('Log_P_10 Diff:',diff_log_p_10)\n",
    "adjusted_int = lda_reg_1.intercept_ - diff_log_p + diff_log_p_10\n",
    "print(adjusted_int)"
   ]
  },
  {
   "cell_type": "markdown",
   "metadata": {},
   "source": [
    "#### Or we can do this."
   ]
  },
  {
   "cell_type": "code",
   "execution_count": 54,
   "metadata": {},
   "outputs": [
    {
     "name": "stdout",
     "output_type": "stream",
     "text": [
      "Intercept -3.8106893741867625\n"
     ]
    }
   ],
   "source": [
    "lda_reg_2 = LinearDiscriminantAnalysis(priors=[0.9,0.1])\n",
    "lda_reg_2.fit(train_X,train_y)\n",
    "print('Intercept', lda_reg_2.intercept_[0])"
   ]
  },
  {
   "cell_type": "code",
   "execution_count": 55,
   "metadata": {},
   "outputs": [
    {
     "name": "stdout",
     "output_type": "stream",
     "text": [
      "Confusion Matrix (Accuracy 0.6594)\n",
      "\n",
      "         Prediction\n",
      "  Actual not_spam     spam\n",
      "not_spam     1086       12\n",
      "    spam      615      128\n"
     ]
    },
    {
     "data": {
      "text/plain": [
       "<function matplotlib.pyplot.show(close=None, block=None)>"
      ]
     },
     "execution_count": 55,
     "metadata": {},
     "output_type": "execute_result"
    },
    {
     "data": {
      "image/png": "[encoded data removed]",
      "text/plain": [
       "<Figure size 1000x400 with 2 Axes>"
      ]
     },
     "metadata": {},
     "output_type": "display_data"
    }
   ],
   "source": [
    "classificationSummary(valid_y,lda_reg_2.predict(valid_X),class_names=lda_reg_2.classes_)\n",
    "lda_proba_2 = lda_reg_2.predict_proba(valid_X)\n",
    "result_2 = pd.DataFrame({'Actual':valid_y,\n",
    "                      'p(0)': [p[0] for p in lda_proba_2],\n",
    "                      'p(1)': [p[1] for p in lda_proba_2]\n",
    "                      })\n",
    "result_2['Actual'] = result_2.Actual.replace('spam',1)\n",
    "result_2['Actual'] = result_2.Actual.replace('not_spam',0)\n",
    "result_2['Actual'] = result_2['Actual'].astype(dtype='uint8')\n",
    "result_2 = result_2.sort_values(by=['p(1)'], ascending=False)\n",
    "fig, axes = plt.subplots(nrows=1,ncols=2, figsize=(10,4))\n",
    "gainsChart(result_2.Actual, ax=axes[0])\n",
    "liftChart(result_2.Actual,title=False, ax=axes[1])\n",
    "plt.tight_layout()\n",
    "plt.show"
   ]
  },
  {
   "cell_type": "markdown",
   "metadata": {},
   "source": [
    "## Problem 12.3.e\n",
    "A spam filter that is based on your model is used, so that only messages that are classified as _nonspam_ are delivered, while messages that are classified as _spam_ are quarantined. In this case, misclassifying a nonspam e-mail (as spam) has much heftier results. Suppose that the cost of quarantining a nonspam e-mail is 20 times\n",
    "that of not detecting a spam message. Compute the intercept of the classification (discriminant) function to account for these costs (<b>assume that the proportion of spam is reflected correctly by the sample proportion</b>)."
   ]
  },
  {
   "cell_type": "code",
   "execution_count": 56,
   "metadata": {},
   "outputs": [
    {
     "name": "stdout",
     "output_type": "stream",
     "text": [
      "adj n spam: 0.9693145970748495\n",
      "adj spam: 0.03068540292515056\n",
      "adj int: [-5.06626695]\n"
     ]
    }
   ],
   "source": [
    "k=20\n",
    "prior_n_spam = lda_reg_1.priors_[0]\n",
    "prior_spam = lda_reg_1.priors_[1]\n",
    "adj_n_spam = prior_n_spam * k / (prior_n_spam*k+prior_spam)\n",
    "adj_spam = prior_spam / (prior_n_spam*k+prior_spam)\n",
    "adj_int = lda_reg_1.intercept_+ np.log(1/20)\n",
    "print('adj n spam:', adj_n_spam)\n",
    "print('adj spam:', adj_spam)\n",
    "print('adj int:',adj_int)"
   ]
  },
  {
   "cell_type": "markdown",
   "metadata": {},
   "source": [
    "## Problem 12.3.f\n",
    "Use the LinearDiscriminantAnalysis implementation in sklearn to adjust the priors to take the misclassification costs in 12.3.e into account. Does adjusting the priors to take the misclassification costs into account lead to a model which predicts fewer <i>nonspam</i> messages as <i>spam</i>? Report the numerical result."
   ]
  },
  {
   "cell_type": "code",
   "execution_count": 57,
   "metadata": {},
   "outputs": [
    {
     "name": "stdout",
     "output_type": "stream",
     "text": [
      "adj n spam: 0.9693145970748495\n",
      "adj spam: 0.03068540292515056\n"
     ]
    }
   ],
   "source": [
    "k=20\n",
    "prior_n_spam = lda_reg_1.priors_[0]\n",
    "prior_spam = lda_reg_1.priors_[1]\n",
    "adj_n_spam = prior_n_spam * k / (prior_n_spam*k+prior_spam)\n",
    "adj_spam = prior_spam / (prior_n_spam*k+prior_spam)\n",
    "print('adj n spam:', adj_n_spam)\n",
    "print('adj spam:', adj_spam)"
   ]
  },
  {
   "cell_type": "code",
   "execution_count": 58,
   "metadata": {},
   "outputs": [
    {
     "name": "stdout",
     "output_type": "stream",
     "text": [
      "Intercept -5.066266950865701\n"
     ]
    }
   ],
   "source": [
    "lda_reg_3 = LinearDiscriminantAnalysis(priors=[adj_n_spam,adj_spam])\n",
    "lda_reg_3.fit(train_X,train_y)\n",
    "print('Intercept', lda_reg_3.intercept_[0])"
   ]
  },
  {
   "cell_type": "code",
   "execution_count": 59,
   "metadata": {},
   "outputs": [
    {
     "name": "stdout",
     "output_type": "stream",
     "text": [
      "Confusion Matrix (Accuracy 0.6122)\n",
      "\n",
      "         Prediction\n",
      "  Actual not_spam     spam\n",
      "not_spam     1092        6\n",
      "    spam      708       35\n"
     ]
    },
    {
     "data": {
      "text/plain": [
       "<function matplotlib.pyplot.show(close=None, block=None)>"
      ]
     },
     "execution_count": 59,
     "metadata": {},
     "output_type": "execute_result"
    },
    {
     "data": {
      "image/png": "[encoded data removed]",
      "text/plain": [
       "<Figure size 1000x400 with 2 Axes>"
      ]
     },
     "metadata": {},
     "output_type": "display_data"
    }
   ],
   "source": [
    "classificationSummary(valid_y,lda_reg_3.predict(valid_X),class_names=lda_reg_3.classes_)\n",
    "lda_proba_3 = lda_reg_3.predict_proba(valid_X)\n",
    "result_3 = pd.DataFrame({'Actual':valid_y,\n",
    "                      'p(0)': [p[0] for p in lda_proba_3],\n",
    "                      'p(1)': [p[1] for p in lda_proba_3]\n",
    "                      })\n",
    "result_3['Actual'] = result_3.Actual.replace('spam',1)\n",
    "result_3['Actual'] = result_3.Actual.replace('not_spam',0)\n",
    "result_3['Actual'] = result_3['Actual'].astype(dtype='uint8')\n",
    "result_3 = result_3.sort_values(by=['p(1)'], ascending=False)\n",
    "fig, axes = plt.subplots(nrows=1,ncols=2, figsize=(10,4))\n",
    "gainsChart(result_3.Actual, ax=axes[0])\n",
    "liftChart(result_3.Actual,title=False, ax=axes[1])\n",
    "plt.tight_layout()\n",
    "plt.show"
   ]
  },
  {
   "cell_type": "markdown",
   "metadata": {},
   "source": [
    "#### Taking the misclassification costs into account results in lower accuracy and the same decile lift chart. But the difference is that this new model nets us more Spam being identified as Spam and less non spam identified as Spam, an overall improvement."
   ]
  }
 ],
 "metadata": {
  "kernelspec": {
   "display_name": "Python 3",
   "language": "python",
   "name": "python3"
  },
  "language_info": {
   "codemirror_mode": {
    "name": "ipython",
    "version": 3
   },
   "file_extension": ".py",
   "mimetype": "text/x-python",
   "name": "python",
   "nbconvert_exporter": "python",
   "pygments_lexer": "ipython3",
   "version": "3.12.0"
  }
 },
 "nbformat": 4,
 "nbformat_minor": 4
}
